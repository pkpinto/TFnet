{
 "cells": [
  {
   "cell_type": "code",
   "execution_count": 2,
   "metadata": {
    "collapsed": true
   },
   "outputs": [],
   "source": [
    "%matplotlib inline\n",
    "import matplotlib.pyplot as plt\n",
    "plt.style.use('ggstyle')"
   ]
  },
  {
   "cell_type": "code",
   "execution_count": 1,
   "metadata": {
    "collapsed": true
   },
   "outputs": [],
   "source": [
    "from uniprobe_data import *\n",
    "from sqlalchemy import func\n",
    "from sqlalchemy import distinct"
   ]
  },
  {
   "cell_type": "code",
   "execution_count": 4,
   "metadata": {
    "collapsed": true
   },
   "outputs": [],
   "source": [
    "import networkx as nx\n",
    "import numpy as np"
   ]
  },
  {
   "cell_type": "code",
   "execution_count": 5,
   "metadata": {
    "collapsed": false
   },
   "outputs": [
    {
     "name": "stderr",
     "output_type": "stream",
     "text": [
      "/usr/local/lib/python2.7/dist-packages/sqlalchemy/orm/strategies.py:608: SAWarning: Multiple rows returned with uselist=False for lazily-loaded attribute 'GeneData.gene_info' \n",
      "  % self.parent_property)\n"
     ]
    }
   ],
   "source": [
    "bind_net = dict()\n",
    "for gene_data in session.query(GeneData):\n",
    "    bind_net[gene_data.uniprot] =\\\n",
    "        set(nx.read_gpickle('graphs/' + str(gene_data.gene_info.genes[0].gene_id) + '.escore0.35.pickle.bz2').nodes())"
   ]
  },
  {
   "cell_type": "code",
   "execution_count": 41,
   "metadata": {
    "collapsed": true
   },
   "outputs": [],
   "source": [
    "lo_escore_hi_dist = [['Q62231', 'Q9Y1P6'],\n",
    "                     ['Q62233', 'Q9Y1P6'],\n",
    "                     ['Q03125', 'P38082'],\n",
    "                     ['P34056', 'Q6VUP9'],\n",
    "                     ['Q5RJ54', 'Q3UHV1'],\n",
    "                     ['Q8VDL9', 'Q62520'],\n",
    "                     ['P46684', 'Q8VDL9'],\n",
    "                     ['Q61312', 'Q6VUP9'],\n",
    "                     ['Q62232', 'Q9Y1P6']]"
   ]
  },
  {
   "cell_type": "code",
   "execution_count": 42,
   "metadata": {
    "collapsed": true
   },
   "outputs": [],
   "source": [
    "hi_escore_lo_dist = [['Q06348', 'O35602'],\n",
    "                     ['O35137', 'O09113'],\n",
    "                     ['Q91ZD1', 'Q9WVG7'],\n",
    "                     ['P63013', 'O35602'],\n",
    "                     ['P63013', 'P70390'],\n",
    "                     ['P09092', 'P23463'],\n",
    "                     ['P02830', 'P23463'],\n",
    "                     ['Q62520', 'Q62521']]"
   ]
  },
  {
   "cell_type": "code",
   "execution_count": 43,
   "metadata": {
    "collapsed": true
   },
   "outputs": [],
   "source": [
    "from matplotlib_venn import venn2, venn3"
   ]
  },
  {
   "cell_type": "code",
   "execution_count": 50,
   "metadata": {
    "collapsed": false
   },
   "outputs": [
    {
     "data": {
      "image/png": "[encoded data removed]",
      "text/plain": [
       "<matplotlib.figure.Figure at 0x7f17607de7d0>"
      ]
     },
     "metadata": {},
     "output_type": "display_data"
    }
   ],
   "source": [
    "l = len(lo_escore_hi_dist)\n",
    "f, ax = plt.subplots(1, l, figsize=(12, 4))\n",
    "\n",
    "for i in xrange(l):\n",
    "    TFa = lo_escore_hi_dist[i][0]\n",
    "    TFb = lo_escore_hi_dist[i][1]\n",
    "    venn2([bind_net[TFa], bind_net[TFb]], set_labels = ('', ''), ax=ax[i])\n",
    "#     venn2([bind_net[TFa], bind_net[TFb]], set_labels = (TFa, TFb), ax=ax[i])"
   ]
  },
  {
   "cell_type": "code",
   "execution_count": 59,
   "metadata": {
    "collapsed": false
   },
   "outputs": [
    {
     "name": "stdout",
     "output_type": "stream",
     "text": [
      ">sp|Q62231|SIX1_MOUSE Homeobox protein SIX1 OS=Mus musculus GN=Six1 PE=1 SV=2\n",
      ">tr|Q9Y1P6|Q9Y1P6_DROME GM13131p OS=Drosophila melanogaster GN=Six4 PE=2 SV=1\n",
      "\n",
      ">sp|Q62233|SIX3_MOUSE Homeobox protein SIX3 OS=Mus musculus GN=Six3 PE=1 SV=2\n",
      ">tr|Q9Y1P6|Q9Y1P6_DROME GM13131p OS=Drosophila melanogaster GN=Six4 PE=2 SV=1\n",
      "\n",
      ">sp|Q03125|NRG1_YEAST Transcriptional regulator NRG1 OS=Saccharomyces cerevisiae (strain ATCC 204508 / S288c) GN=NRG1 PE=1 SV=1\n",
      ">sp|P38082|NRG2_YEAST Probable transcriptional regulator NRG2 OS=Saccharomyces cerevisiae (strain ATCC 204508 / S288c) GN=NRG2 PE=1 SV=1\n",
      "\n",
      ">sp|P34056|AP2A_MOUSE Transcription factor AP-2-alpha OS=Mus musculus GN=Tfap2a PE=1 SV=2\n",
      ">sp|Q6VUP9|AP2E_MOUSE Transcription factor AP-2-epsilon OS=Mus musculus GN=Tfap2e PE=1 SV=2\n",
      "\n",
      ">sp|Q5RJ54|ZSC26_MOUSE Zinc finger and SCAN domain-containing protein 26 OS=Mus musculus GN=Zscan26 PE=2 SV=1\n",
      ">tr|Q3UHV1|Q3UHV1_MOUSE Putative uncharacterized protein OS=Mus musculus GN=Zfp105 PE=2 SV=1\n",
      "\n",
      ">sp|Q8VDL9|GLIS2_MOUSE Zinc finger protein GLIS2 OS=Mus musculus GN=Glis2 PE=1 SV=1\n",
      ">sp|Q62520|ZIC2_MOUSE Zinc finger protein ZIC 2 OS=Mus musculus GN=Zic2 PE=1 SV=2\n",
      "\n",
      ">sp|P46684|ZIC1_MOUSE Zinc finger protein ZIC 1 OS=Mus musculus GN=Zic1 PE=1 SV=2\n",
      ">sp|Q8VDL9|GLIS2_MOUSE Zinc finger protein GLIS2 OS=Mus musculus GN=Glis2 PE=1 SV=1\n",
      "\n",
      ">sp|Q61312|AP2C_MOUSE Transcription factor AP-2 gamma OS=Mus musculus GN=Tfap2c PE=1 SV=2\n",
      ">sp|Q6VUP9|AP2E_MOUSE Transcription factor AP-2-epsilon OS=Mus musculus GN=Tfap2e PE=1 SV=2\n",
      "\n",
      ">sp|Q62232|SIX2_MOUSE Homeobox protein SIX2 OS=Mus musculus GN=Six2 PE=1 SV=2\n",
      ">tr|Q9Y1P6|Q9Y1P6_DROME GM13131p OS=Drosophila melanogaster GN=Six4 PE=2 SV=1\n",
      "\n"
     ]
    }
   ],
   "source": [
    "l = len(lo_escore_hi_dist)\n",
    "\n",
    "for i in xrange(l):\n",
    "    TFa = lo_escore_hi_dist[i][0]\n",
    "    TFb = lo_escore_hi_dist[i][1]\n",
    "    \n",
    "    gd = session.query(GeneData).filter(GeneData.uniprot == TFa)[0]\n",
    "    print(gd.fasta.split('\\n')[0])\n",
    "    gd = session.query(GeneData).filter(GeneData.uniprot == TFb)[0]\n",
    "    print(gd.fasta.split('\\n')[0])\n",
    "    print('')"
   ]
  },
  {
   "cell_type": "code",
   "execution_count": 51,
   "metadata": {
    "collapsed": false
   },
   "outputs": [
    {
     "data": {
      "image/png": "[encoded data removed]",
      "text/plain": [
       "<matplotlib.figure.Figure at 0x7f1760cd3110>"
      ]
     },
     "metadata": {},
     "output_type": "display_data"
    }
   ],
   "source": [
    "l = len(hi_escore_lo_dist)\n",
    "f, ax = plt.subplots(1, l, figsize=(12, 4))\n",
    "\n",
    "for i in xrange(l):\n",
    "    TFa = hi_escore_lo_dist[i][0]\n",
    "    TFb = hi_escore_lo_dist[i][1]\n",
    "    venn2([bind_net[TFa], bind_net[TFb]], set_labels = ('', ''), ax=ax[i])\n",
    "#     venn2([bind_net[TFa], bind_net[TFb]], set_labels = (TFa, TFb), ax=ax[i])"
   ]
  },
  {
   "cell_type": "code",
   "execution_count": 60,
   "metadata": {
    "collapsed": false
   },
   "outputs": [
    {
     "name": "stdout",
     "output_type": "stream",
     "text": [
      ">sp|Q06348|PRRX2_MOUSE Paired mesoderm homeobox protein 2 OS=Mus musculus GN=Prrx2 PE=2 SV=2\n",
      ">sp|O35602|RX_MOUSE Retinal homeobox protein Rx OS=Mus musculus GN=Rax PE=2 SV=2\n",
      "\n",
      ">sp|O35137|ALX4_MOUSE Homeobox protein aristaless-like 4 OS=Mus musculus GN=Alx4 PE=1 SV=1\n",
      ">sp|O09113|OTP_MOUSE Homeobox protein orthopedia OS=Mus musculus GN=Otp PE=2 SV=1\n",
      "\n",
      ">sp|Q91ZD1|OSR2_MOUSE Protein odd-skipped-related 2 OS=Mus musculus GN=Osr2 PE=1 SV=1\n",
      ">sp|Q9WVG7|OSR1_MOUSE Protein odd-skipped-related 1 OS=Mus musculus GN=Osr1 PE=2 SV=1\n",
      "\n",
      ">sp|P63013|PRRX1_MOUSE Paired mesoderm homeobox protein 1 OS=Mus musculus GN=Prrx1 PE=1 SV=1\n",
      ">sp|O35602|RX_MOUSE Retinal homeobox protein Rx OS=Mus musculus GN=Rax PE=2 SV=2\n",
      "\n",
      ">sp|P63013|PRRX1_MOUSE Paired mesoderm homeobox protein 1 OS=Mus musculus GN=Prrx1 PE=1 SV=1\n",
      ">sp|P70390|SHOX2_MOUSE Short stature homeobox protein 2 OS=Mus musculus GN=Shox2 PE=2 SV=1\n",
      "\n",
      ">sp|P09092|HXA6_MOUSE Homeobox protein Hox-A6 OS=Mus musculus GN=Hoxa6 PE=2 SV=2\n",
      ">sp|P23463|HXD8_MOUSE Homeobox protein Hox-D8 OS=Mus musculus GN=Hoxd8 PE=2 SV=4\n",
      "\n",
      ">sp|P02830|HXA7_MOUSE Homeobox protein Hox-A7 OS=Mus musculus GN=Hoxa7 PE=2 SV=2\n",
      ">sp|P23463|HXD8_MOUSE Homeobox protein Hox-D8 OS=Mus musculus GN=Hoxd8 PE=2 SV=4\n",
      "\n",
      ">sp|Q62520|ZIC2_MOUSE Zinc finger protein ZIC 2 OS=Mus musculus GN=Zic2 PE=1 SV=2\n",
      ">sp|Q62521|ZIC3_MOUSE Zinc finger protein ZIC 3 OS=Mus musculus GN=Zic3 PE=1 SV=2\n",
      "\n"
     ]
    }
   ],
   "source": [
    "l = len(hi_escore_lo_dist)\n",
    "\n",
    "for i in xrange(l):\n",
    "    TFa = hi_escore_lo_dist[i][0]\n",
    "    TFb = hi_escore_lo_dist[i][1]\n",
    "    \n",
    "    gd = session.query(GeneData).filter(GeneData.uniprot == TFa)[0]\n",
    "    print(gd.fasta.split('\\n')[0])\n",
    "    gd = session.query(GeneData).filter(GeneData.uniprot == TFb)[0]\n",
    "    print(gd.fasta.split('\\n')[0])\n",
    "    print('')"
   ]
  },
  {
   "cell_type": "code",
   "execution_count": 52,
   "metadata": {
    "collapsed": false
   },
   "outputs": [
    {
     "data": {
      "text/plain": [
       "<matplotlib_venn._common.VennDiagram instance at 0x7f17621b0ef0>"
      ]
     },
     "execution_count": 52,
     "metadata": {},
     "output_type": "execute_result"
    },
    {
     "data": {
      "image/png": "[encoded data removed]",
      "text/plain": [
       "<matplotlib.figure.Figure at 0x7f1762113790>"
      ]
     },
     "metadata": {},
     "output_type": "display_data"
    }
   ],
   "source": [
    "TFa = lo_escore_hi_dist[4][0]\n",
    "TFb = lo_escore_hi_dist[4][1]\n",
    "venn2([bind_net[TFa], bind_net[TFb]], set_labels = (TFa, TFb))"
   ]
  },
  {
   "cell_type": "code",
   "execution_count": 56,
   "metadata": {
    "collapsed": false
   },
   "outputs": [
    {
     "name": "stdout",
     "output_type": "stream",
     "text": [
      ">sp|Q5RJ54|ZSC26_MOUSE Zinc finger and SCAN domain-containing protein 26 OS=Mus musculus GN=Zscan26 PE=2 SV=1\n",
      ">tr|Q3UHV1|Q3UHV1_MOUSE Putative uncharacterized protein OS=Mus musculus GN=Zfp105 PE=2 SV=1\n"
     ]
    }
   ],
   "source": [
    "gd = session.query(GeneData).filter(GeneData.uniprot == 'Q5RJ54')[0]\n",
    "print(gd.fasta.split('\\n')[0])\n",
    "gd = session.query(GeneData).filter(GeneData.uniprot == 'Q3UHV1')[0]\n",
    "print(gd.fasta.split('\\n')[0])"
   ]
  },
  {
   "cell_type": "code",
   "execution_count": 62,
   "metadata": {
    "collapsed": false
   },
   "outputs": [
    {
     "name": "stdout",
     "output_type": "stream",
     "text": [
      ">sp|Q5RJ54|ZSC26_MOUSE Zinc finger and SCAN domain-containing protein 26 OS=Mus musculus GN=Zscan26 PE=2 SV=1\n",
      "MALALIHPSKRAYSLAPLNLKEELQGFKVQGDRKGVGQEPLCKQFRQLRYEESTGPREVLRRLRELCRQWLRPETHSKEQILELLVLEQFLTILPRDLQVQVLEHHPETGEELVGILEDLQLDRGKAGEQKDSAQRSRPTVLVGEPAPRREAREQPGCALPQKPEERGKETRSENGNLIAGTDSCGRMESSCTMTEPIEAQCEDLSLKKNPAMPKEKTNSQCLETKERLVQNSGLIEHDRAHTGEMSWESVGSQSSVAADHQEISKDKGHPCQECGKVFQRSSHLIRHQKIHLGEKPYQCKECGKVFSQNAGLLEHLRIHTGEKPYLCIHCGKNFRRSSHLNRHQKIHSQDEPRECKECGKTFSRALLLTHHQRVHGRSKRHHCNECGKAFSLTSDLIRHHRIHTGEKPFKCNVCQKAFRLNSHLDQHVRIHNEEKPYKCSECNEAFRQKSGLFQHQRHHHKSKLA\n"
     ]
    }
   ],
   "source": [
    "gd = session.query(GeneData).filter(GeneData.uniprot == 'Q5RJ54')[0]\n",
    "print(gd.fasta)"
   ]
  },
  {
   "cell_type": "code",
   "execution_count": 61,
   "metadata": {
    "collapsed": false
   },
   "outputs": [
    {
     "name": "stdout",
     "output_type": "stream",
     "text": [
      ">tr|Q3UHV1|Q3UHV1_MOUSE Putative uncharacterized protein OS=Mus musculus GN=Zfp105 PE=2 SV=1\n",
      "MTTELKETMGRASWDPEKVKMEEDDESVISQASSQQVYYENDKDCAPGEGPYGSISVSEDEEKGQEMFREMAVVLKATQEAAAASPFGSYSLAGTLAESQILELHGKPTPTGAKSKNLELLIPKKEISDDSEKPPMILGRIQKGDLQGPELGESCEKGNVLKGLRIKEEKGDLGEATVKDCPLSESFRDEEESKKSRGKYSLRSTPGKNQKIQPGQKPFTCSECGKGFSQSANLVVHQRIHTGEKPFECHECGKAFIQSANLVVHQRIHTGQKPYVCGKCGKAFTQSSNLTVHQKIHSLEKTFKCSECEKAFSYSSQLARHQKVHITEKCYECNECGKTFTRSSNLIVHQRIHTGEKPFACSDCGKAFTQSANLIVHQRSHTGEKPYKCKDCEKAFSCFSHLIVHQRIHTAEKPYDCSECGKAFSQLSCLIVHQRIHSGDLPYVCNECGKAFTCSSYLLIHQRIHNGEKPYSCNECGKAFRQRSSLTVHQRTHTGEKPYECAKCGAAFISNSHLMRHHRTHLVE\n"
     ]
    }
   ],
   "source": [
    "gd = session.query(GeneData).filter(GeneData.uniprot == 'Q3UHV1')[0]\n",
    "print(gd.fasta)"
   ]
  },
  {
   "cell_type": "code",
   "execution_count": null,
   "metadata": {
    "collapsed": true
   },
   "outputs": [],
   "source": []
  }
 ],
 "metadata": {
  "kernelspec": {
   "display_name": "Python 2",
   "language": "python",
   "name": "python2"
  },
  "language_info": {
   "codemirror_mode": {
    "name": "ipython",
    "version": 2
   },
   "file_extension": ".py",
   "mimetype": "text/x-python",
   "name": "python",
   "nbconvert_exporter": "python",
   "pygments_lexer": "ipython2",
   "version": "2.7.6"
  }
 },
 "nbformat": 4,
 "nbformat_minor": 0
}
