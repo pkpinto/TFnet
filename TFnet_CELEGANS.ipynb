{
 "metadata": {
  "name": "",
  "signature": "sha256:5e728aa7bf1860195c17f090a3d3cea163174f8fe9d06f5fafc523c7cc97bb5b"
 },
 "nbformat": 3,
 "nbformat_minor": 0,
 "worksheets": [
  {
   "cells": [
    {
     "cell_type": "heading",
     "level": 1,
     "metadata": {},
     "source": [
      "Transcription factor binding sites neutral networks"
     ]
    },
    {
     "cell_type": "heading",
     "level": 3,
     "metadata": {},
     "source": [
      "C Elegans only"
     ]
    },
    {
     "cell_type": "code",
     "collapsed": false,
     "input": [
      "import urllib\n",
      "import zipfile"
     ],
     "language": "python",
     "metadata": {},
     "outputs": [],
     "prompt_number": 5
    },
    {
     "cell_type": "code",
     "collapsed": false,
     "input": [
      "urllib.urlretrieve('http://the_brain.bwh.harvard.edu/uniprobe/downloads/Cell09/worm_contig8mers_all_separate.zip',\n",
      "                   'Grove_etal_ungapped.zip')"
     ],
     "language": "python",
     "metadata": {},
     "outputs": [
      {
       "metadata": {},
       "output_type": "pyout",
       "prompt_number": 2,
       "text": [
        "('Grove_etal_ungapped.zip', <httplib.HTTPMessage instance at 0x7fa4721aaf80>)"
       ]
      }
     ],
     "prompt_number": 2
    },
    {
     "cell_type": "code",
     "collapsed": false,
     "input": [
      "with zipfile.ZipFile('Grove_etal_ungapped.zip', 'r') as zf:\n",
      "    for name in sorted(zf.namelist()):\n",
      "        if name.count('-') == 1: # no heterodimers\n",
      "            print name"
     ],
     "language": "python",
     "metadata": {},
     "outputs": [
      {
       "output_type": "stream",
       "stream": "stdout",
       "text": [
        "CND-1_contig8mer.txt\n",
        "HLH-10_contig8mer.txt\n",
        "HLH-11_contig8mer.txt\n",
        "HLH-14_contig8mer.txt\n",
        "HLH-15_contig8mer.txt\n",
        "HLH-19_contig8mer.txt\n",
        "HLH-1_contig8mer.txt\n",
        "HLH-25_contig8mer.txt\n",
        "HLH-26_contig8mer.txt\n",
        "HLH-27_contig8mer.txt\n",
        "HLH-29_contig8mer.txt\n",
        "HLH-2_contig8mer.txt\n",
        "HLH-30_contig8mer.txt\n",
        "HLH-3_contig8mer.txt\n",
        "HLH-4_contig8mer.txt\n",
        "HLH-8_contig8mer.txt\n",
        "LIN-32_contig8mer.txt\n",
        "MDL-1_contig8mer.txt\n",
        "MXL-1_contig8mer.txt\n",
        "MXL-3_contig8mer.txt\n",
        "REF-1_contig8mer.txt\n"
       ]
      }
     ],
     "prompt_number": 13
    },
    {
     "cell_type": "code",
     "collapsed": false,
     "input": [
      "urllib.urlretrieve('http://the_brain.bwh.harvard.edu/uniprobe/downloads/GD09/GD09_8mers.zip',\n",
      "                   'Lesch_etal_ungapped.zip')"
     ],
     "language": "python",
     "metadata": {},
     "outputs": [
      {
       "metadata": {},
       "output_type": "pyout",
       "prompt_number": 3,
       "text": [
        "('Lesch_etal_ungapped.zip', <httplib.HTTPMessage instance at 0x7fa4721684d0>)"
       ]
      }
     ],
     "prompt_number": 3
    },
    {
     "cell_type": "code",
     "collapsed": false,
     "input": [
      "with zipfile.ZipFile('Lesch_etal_ungapped.zip', 'r') as zf:\n",
      "    for name in sorted(zf.namelist()):\n",
      "        print name"
     ],
     "language": "python",
     "metadata": {},
     "outputs": [
      {
       "output_type": "stream",
       "stream": "stdout",
       "text": [
        "Nsy-7/Nsy-7_8mers.txt\n"
       ]
      }
     ],
     "prompt_number": 7
    },
    {
     "cell_type": "code",
     "collapsed": false,
     "input": [
      "with zipfile.ZipFile('Grove_etal_ungapped.zip', 'r') as zf:\n",
      "    with zf.open('HLH-2_contig8mer.txt', 'r') as f:\n",
      "        print(f.readline())"
     ],
     "language": "python",
     "metadata": {},
     "outputs": [
      {
       "output_type": "stream",
       "stream": "stdout",
       "text": [
        "AAAAAAAA\tTTTTTTTT\t0.257303049\n",
        "\n"
       ]
      }
     ],
     "prompt_number": 46
    },
    {
     "cell_type": "code",
     "collapsed": false,
     "input": [
      "import numpy as np\n",
      "import pandas as pd"
     ],
     "language": "python",
     "metadata": {},
     "outputs": [],
     "prompt_number": 8
    },
    {
     "cell_type": "code",
     "collapsed": false,
     "input": [
      "def Grove_ungapped_TF_binding_sites(file_handle):\n",
      "    return pd.read_csv(file_handle, delimiter='\\t',\\\n",
      "                       names=['sequence', 'complement', 'e_score'],\\\n",
      "                       index_col='sequence')"
     ],
     "language": "python",
     "metadata": {},
     "outputs": [],
     "prompt_number": 10
    },
    {
     "cell_type": "code",
     "collapsed": false,
     "input": [
      "with zipfile.ZipFile('Grove_etal_ungapped.zip', 'r') as zf:\n",
      "    tf_bind_site = dict()\n",
      "    for name in zf.namelist():\n",
      "        if name.count('-') == 1:\n",
      "            with zf.open(name, 'r') as f:\n",
      "                tf_bind_site[name.split('_')[0]] = Grove_ungapped_TF_binding_sites(f)"
     ],
     "language": "python",
     "metadata": {},
     "outputs": [],
     "prompt_number": 14
    },
    {
     "cell_type": "code",
     "collapsed": false,
     "input": [
      "%matplotlib inline\n",
      "\n",
      "import matplotlib as mpl\n",
      "mpl.rcParams['figure.figsize'] = '16, 4.5'\n",
      "import matplotlib.pyplot as plt\n",
      "\n",
      "from matplotlib import style\n",
      "style.use('ggplot')\n",
      "mpl.rcParams['axes.labelsize'] = 18\n",
      "mpl.rcParams['axes.facecolor'] = '#ffffff'\n",
      "mpl.rcParams['axes.edgecolor'] = '#bcbcbc'\n",
      "mpl.rcParams['grid.color'] = '0.95'\n",
      "mpl.rcParams['legend.fontsize'] = 14"
     ],
     "language": "python",
     "metadata": {},
     "outputs": [],
     "prompt_number": 36
    },
    {
     "cell_type": "code",
     "collapsed": false,
     "input": [
      "_1 = plt.subplot(1, 3, 1)\n",
      "_1.hist([len(df[df.e_score > 0.25]) for df in tf_bind_site.values()], bins=48, range=(0,2401), alpha=0.6)\n",
      "_1.set_xlim(0, 2400)\n",
      "_1.set_title('0.25')\n",
      "\n",
      "_2 = plt.subplot(1, 3, 2)\n",
      "_2.hist([len(df[df.e_score > 0.35]) for df in tf_bind_site.values()], bins=24, range=(0,601), alpha=0.6)\n",
      "_2.set_xlabel('TF set size')\n",
      "_2.set_xlim(0, 600)\n",
      "_2.set_title('0.35')\n",
      "\n",
      "_3 = plt.subplot(1, 3, 3)\n",
      "_3.hist([len(df[df.e_score > 0.45]) for df in tf_bind_site.values()], bins=12, range=(0,201), alpha=0.6)\n",
      "_3.set_xlim(0, 200)\n",
      "_3.set_title('0.45')"
     ],
     "language": "python",
     "metadata": {},
     "outputs": [
      {
       "metadata": {},
       "output_type": "pyout",
       "prompt_number": 39,
       "text": [
        "<matplotlib.text.Text at 0x7fa4473ec910>"
       ]
      },
      {
       "metadata": {},
       "output_type": "display_data",
       "png": "[encoded data removed]",
       "text": [
        "<matplotlib.figure.Figure at 0x7fa447946990>"
       ]
      }
     ],
     "prompt_number": 39
    },
    {
     "cell_type": "code",
     "collapsed": false,
     "input": [
      "import numpy as np\n",
      "\n",
      "cutoff = 0.35\n",
      "\n",
      "seq_degeneracy, seq_escore = dict(), dict()\n",
      "for df in tf_bind_site.values():\n",
      "    for seq in df[df.e_score > cutoff].index:\n",
      "        \n",
      "        if seq not in seq_degeneracy:\n",
      "            seq_degeneracy[seq] = 0\n",
      "        seq_degeneracy[seq] += 1\n",
      "        \n",
      "        if seq not in seq_escore:\n",
      "            seq_escore[seq] = list()\n",
      "        seq_escore[seq].append(df.loc[seq].e_score)\n",
      "\n",
      "_1 = plt.subplot(1, 3, 1)\n",
      "_1.hist(seq_degeneracy.values(), bins=40, range=(0,40), alpha=0.6)\n",
      "_1.set_xlim(0, 35)\n",
      "_1.set_ylim(0.5, 10000)\n",
      "_1.set_yscale('log')\n",
      "_1.set_xlabel('sequence degeneracy')\n",
      "\n",
      "_2 = plt.subplot(1, 3, 2)\n",
      "_2.hist([np.average(el) for el in seq_escore.values()], bins=15, range=(0.35,0.5), alpha=0.6)\n",
      "_2.set_xlim(0.35, 0.5)\n",
      "_2.set_xlabel('sequence <e-score>_TF')\n",
      "\n",
      "__degeneracy, __escore = list(), list()\n",
      "for seq in seq_degeneracy:\n",
      "    __degeneracy.append(seq_degeneracy[seq])\n",
      "    __escore.append(np.average(seq_escore[seq]))\n",
      "\n",
      "heatmap, xedges, yedges = np.histogram2d(__degeneracy, __escore,\\\n",
      "                                         range=((0, 40), (0.35, 0.5)),\\\n",
      "                                         bins=(40, 15))\n",
      "\n",
      "heatmap = np.log10(heatmap)\n",
      "heatmap[np.isneginf(heatmap)] = 0\n",
      "\n",
      "_3 = plt.subplot(1, 3, 3)\n",
      "_3.pcolor(heatmap.T, edgecolors='none', cmap=plt.cm.RdBu_r, alpha=0.8)\n",
      "\n",
      "# _3.scatter(__degeneracy, (np.array(__escore) - 0.35) * 15 / 0.15, c=plt.rcParams['axes.color_cycle'][0], alpha=0.1)\n",
      "\n",
      "\n",
      "_3.set_xticklabels(range(0, 41, 5), minor=False)\n",
      "_3.set_xticks(range(0, 41, 5), minor=False)\n",
      "_3.set_xlim(0, 20)\n",
      "\n",
      "_3.set_ylim(0.35, 0.5)\n",
      "_3.set_yticklabels([0.36 + 0.01 * i for i in range(0, 16, 2)], minor=False)\n",
      "_3.set_yticks(range(1, 16, 2), minor=False)\n",
      "\n",
      "_3.set_xlabel('degeneracy')\n",
      "_3.set_ylabel('<e-score>_TF')"
     ],
     "language": "python",
     "metadata": {},
     "outputs": [
      {
       "metadata": {},
       "output_type": "pyout",
       "prompt_number": 48,
       "text": [
        "<matplotlib.text.Text at 0x7fa4468ae610>"
       ]
      },
      {
       "metadata": {},
       "output_type": "display_data",
       "png": "[encoded data removed]",
       "text": [
        "<matplotlib.figure.Figure at 0x7fa445efb7d0>"
       ]
      }
     ],
     "prompt_number": 48
    },
    {
     "cell_type": "code",
     "collapsed": false,
     "input": [
      "len(seq_escore)"
     ],
     "language": "python",
     "metadata": {},
     "outputs": [
      {
       "metadata": {},
       "output_type": "pyout",
       "prompt_number": 44,
       "text": [
        "763"
       ]
      }
     ],
     "prompt_number": 44
    },
    {
     "cell_type": "heading",
     "level": 2,
     "metadata": {},
     "source": [
      "SNP+INDELs network"
     ]
    },
    {
     "cell_type": "code",
     "collapsed": false,
     "input": [
      "import networkx as nx"
     ],
     "language": "python",
     "metadata": {},
     "outputs": [],
     "prompt_number": 16
    },
    {
     "cell_type": "code",
     "collapsed": false,
     "input": [
      "def snps(seed, alphabet, template=None):\n",
      "\n",
      "    seqs = set()\n",
      "\n",
      "    if template:\n",
      "        i = 0\n",
      "        while True:\n",
      "            i = template.find('1', i)\n",
      "            if i != -1:\n",
      "                template = '0'.join([template[:i], template[i + 1:]])\n",
      "                seqs |= {l.join([seed[:i], seed[i + 1:]]) for l in alphabet if l != seed[i]}\n",
      "            else:\n",
      "                break\n",
      "\n",
      "    else:\n",
      "        for i,s in enumerate(seed):\n",
      "            seqs |= {l.join([seed[:i], seed[i + 1:]]) for l in alphabet if l != s}\n",
      "\n",
      "    return seqs"
     ],
     "language": "python",
     "metadata": {},
     "outputs": [],
     "prompt_number": 17
    },
    {
     "cell_type": "code",
     "collapsed": false,
     "input": [
      "def inserts_helper(seed, max_gap_len=1):\n",
      "    \n",
      "    seqs = set()\n",
      "    l = len(seed)\n",
      "\n",
      "    for x in range(l + 1):\n",
      "        for i in range(1, max_gap_len + 1):\n",
      "            in_seed = seed[:x] + i * '.' + seed[x:]\n",
      "            if in_seed[:l] != seed:\n",
      "                seqs.add(in_seed[:l])\n",
      "            if in_seed[-l:] != seed:\n",
      "                seqs.add(in_seed[-l:])\n",
      "\n",
      "    return seqs"
     ],
     "language": "python",
     "metadata": {},
     "outputs": [],
     "prompt_number": 18
    },
    {
     "cell_type": "code",
     "collapsed": false,
     "input": [
      "def deletions_helper(seed, max_gap_len=1):\n",
      "\n",
      "    seqs = set()\n",
      "    l = len(seed)\n",
      "\n",
      "    for x in range(l):\n",
      "        for i in range(1, max_gap_len + 1):\n",
      "            if x + i <= l:\n",
      "                del_seed = seed[:x] + seed[x + i:]\n",
      "                seqs.add(i * '.' + del_seed)\n",
      "                seqs.add(del_seed + i * '.')\n",
      "\n",
      "    return seqs"
     ],
     "language": "python",
     "metadata": {},
     "outputs": [],
     "prompt_number": 19
    },
    {
     "cell_type": "code",
     "collapsed": false,
     "input": [
      "def indels(seed, alphabet, max_gap_len=1):\n",
      "\n",
      "    seqs = set()\n",
      "    \n",
      "    for seq in inserts_helper(seed, max_gap_len=max_gap_len) | deletions_helper(seed, max_gap_len=max_gap_len):\n",
      "        dotted = {seq}\n",
      "        # enough replacing rounds to remove all '.'s from seq\n",
      "        for replace_round in range(seq.count('.')):\n",
      "            __dotted = set()\n",
      "            for __seq in dotted:\n",
      "                # replace a single '.' by all the letter in the alphabet\n",
      "                __dotted |= {__seq.replace('.', letter, 1) for letter in alphabet}\n",
      "            dotted = __dotted\n",
      "        seqs |= dotted\n",
      "\n",
      "    return seqs - {seed}"
     ],
     "language": "python",
     "metadata": {},
     "outputs": [],
     "prompt_number": 20
    },
    {
     "cell_type": "code",
     "collapsed": false,
     "input": [
      "cutoff = 0.35\n",
      "\n",
      "tf_graph_snp, tf_graph_indel = dict(), dict()\n",
      "for tf in tf_bind_site:\n",
      "    tf_graph_snp[tf] = nx.empty_graph()\n",
      "    tf_graph_indel[tf] = nx.empty_graph()\n",
      "\n",
      "    for seq in tf_bind_site[tf].index:\n",
      "        if tf_bind_site[tf].ix[seq].e_score >= cutoff:\n",
      "\n",
      "            tf_graph_snp[tf].add_node(seq, e_score=tf_bind_site[tf].ix[seq].e_score)\n",
      "            tf_graph_indel[tf].add_node(seq, e_score=tf_bind_site[tf].ix[seq].e_score)\n",
      "\n",
      "            snp_muts = snps(seq, 'ACGT')\n",
      "            tf_graph_snp[tf].node[seq]['k_snp'] = len(snp_muts)\n",
      "            for mut in snp_muts:\n",
      "                if mut in tf_graph_snp[tf]:\n",
      "                    tf_graph_snp[tf].add_edge(seq, mut)\n",
      "\n",
      "            indel_muts = indels(seq, 'ACGT')\n",
      "            tf_graph_indel[tf].node[seq]['k_indel'] = len(indel_muts)\n",
      "            for mut in indel_muts:\n",
      "                if mut in tf_graph_indel[tf]:\n",
      "                    tf_graph_indel[tf].add_edge(seq, mut)"
     ],
     "language": "python",
     "metadata": {},
     "outputs": [],
     "prompt_number": 21
    },
    {
     "cell_type": "code",
     "collapsed": false,
     "input": [
      "for tf in tf_bind_site:\n",
      "    \n",
      "    for node in tf_graph_snp[tf]:\n",
      "        tf_graph_snp[tf].node[node]['q_snp'] = tf_graph_snp[tf].degree(node)\n",
      "        \n",
      "    P = set()\n",
      "    for node in tf_graph_snp[tf]:\n",
      "        # snps - neighbours\n",
      "        nn_neighs = snps(node, 'ACGT') - set(tf_graph_snp[tf][node])\n",
      "        \n",
      "        K = 0\n",
      "        for other_tf in tf_graph_snp:\n",
      "            if other_tf != tf:\n",
      "                for seq in nn_neighs:\n",
      "                    if seq in tf_graph_snp[other_tf]:\n",
      "                        K += 1\n",
      "                        P.add(other_tf)\n",
      "                        continue\n",
      "\n",
      "        tf_graph_snp[tf].node[node]['K_snp'] = K\n",
      "    tf_graph_snp[tf].graph['P_snp'] = len(P)\n",
      "    \n",
      "    for node in tf_graph_indel[tf]:\n",
      "        tf_graph_indel[tf].node[node]['q_indel'] = tf_graph_indel[tf].degree(node)\n",
      "        \n",
      "    P = set()\n",
      "    for node in tf_graph_indel[tf]:\n",
      "        # indels - neighbours\n",
      "        nn_neighs = indels(node, 'ACGT') - set(tf_graph_indel[tf][node])\n",
      "        \n",
      "        K = 0\n",
      "        for other_tf in tf_graph_indel:\n",
      "            if other_tf != tf:\n",
      "                for seq in nn_neighs:\n",
      "                    if seq in tf_graph_indel[other_tf]:\n",
      "                        K += 1\n",
      "                        P.add(other_tf)\n",
      "                        continue\n",
      "\n",
      "        tf_graph_indel[tf].node[node]['K_indel'] = K\n",
      "    tf_graph_indel[tf].graph['P_indel'] = len(P)"
     ],
     "language": "python",
     "metadata": {},
     "outputs": [],
     "prompt_number": 22
    },
    {
     "cell_type": "code",
     "collapsed": false,
     "input": [
      "tf_graph = dict()\n",
      "for tf in tf_bind_site:\n",
      "    tf_graph[tf] = nx.MultiGraph(P_snp=tf_graph_snp[tf].graph['P_snp'], P_indel=tf_graph_indel[tf].graph['P_indel'])\n",
      "    \n",
      "    for node in tf_graph_snp[tf]:\n",
      "        tf_graph[tf].add_node(node, e_score=tf_graph_snp[tf].node[node]['e_score'],\\\n",
      "                              k_snp=tf_graph_snp[tf].node[node]['k_snp'],\\\n",
      "                              q_snp=tf_graph_snp[tf].node[node]['q_snp'],\\\n",
      "                              K_snp=tf_graph_snp[tf].node[node]['K_snp'])\n",
      "    for node in tf_graph_indel[tf]:\n",
      "#         assert(node in tf_graph[tf])\n",
      "        tf_graph[tf].node[node]['k_indel'] = tf_graph_indel[tf].node[node]['k_indel']\n",
      "        tf_graph[tf].node[node]['q_indel'] = tf_graph_indel[tf].node[node]['q_indel']\n",
      "        tf_graph[tf].node[node]['K_indel'] = tf_graph_indel[tf].node[node]['K_indel']\n",
      "\n",
      "    for edge in tf_graph_snp[tf].edges():\n",
      "        tf_graph[tf].add_edge(edge[0], edge[1], mutation='snp')\n",
      "    for edge in tf_graph_indel[tf].edges():\n",
      "        tf_graph[tf].add_edge(edge[0], edge[1], mutation='indel')"
     ],
     "language": "python",
     "metadata": {},
     "outputs": [],
     "prompt_number": 23
    },
    {
     "cell_type": "code",
     "collapsed": false,
     "input": [
      "%matplotlib inline\n",
      "\n",
      "import matplotlib as mpl\n",
      "mpl.rcParams['figure.figsize'] = '16, 4.5'\n",
      "import matplotlib.pyplot as plt\n",
      "\n",
      "from matplotlib import style\n",
      "style.use('ggplot')\n",
      "mpl.rcParams['axes.labelsize'] = 18\n",
      "mpl.rcParams['axes.facecolor'] = '#ffffff'\n",
      "mpl.rcParams['axes.edgecolor'] = '#bcbcbc'\n",
      "mpl.rcParams['grid.color'] = '0.95'\n",
      "mpl.rcParams['legend.fontsize'] = 14"
     ],
     "language": "python",
     "metadata": {},
     "outputs": [],
     "prompt_number": 24
    },
    {
     "cell_type": "code",
     "collapsed": false,
     "input": [
      "_1 = plt.subplot(1, 3, 1)\n",
      "_1.hist([1.0 * g.node[node]['q_snp'] / g.node[node]['k_snp'] for g in tf_graph.values() for node in g],\\\n",
      "        bins=25, range=(0,1), alpha=0.6)\n",
      "_1.set_xlim(0, 1)\n",
      "_1.set_ylim(0, 500)\n",
      "_1.set_title('snp')\n",
      "\n",
      "weights = {'snp':1.0, 'indel':1.0}\n",
      "\n",
      "_2 = plt.subplot(1, 3, 2)\n",
      "_2.hist([(g.node[node]['q_snp'] * weights['snp'] + g.node[node]['q_indel'] * weights['indel'])\\\n",
      "         / (g.node[node]['k_snp'] * weights['snp'] + g.node[node]['k_indel'] * weights['indel'])\\\n",
      "         for g in tf_graph.values() for node in g], bins=25, range=(0,1), alpha=0.6)\n",
      "_2.set_xlim(0, 1)\n",
      "_2.set_ylim(0, 500)\n",
      "_2.set_xlabel('robustness (q)')\n",
      "_2.set_title('1:1')\n",
      "\n",
      "_3 = plt.subplot(1, 3, 3)\n",
      "_3.hist([1.0 * g.node[node]['q_indel'] / g.node[node]['k_indel'] for g in tf_graph.values() for node in g],\\\n",
      "        bins=25, range=(0,1), alpha=0.6)\n",
      "_3.set_xlim(0, 1)\n",
      "_3.set_ylim(0, 500)\n",
      "_3.set_title('indel')"
     ],
     "language": "python",
     "metadata": {},
     "outputs": [
      {
       "metadata": {},
       "output_type": "pyout",
       "prompt_number": 26,
       "text": [
        "<matplotlib.text.Text at 0x7fa44967ca50>"
       ]
      },
      {
       "metadata": {},
       "output_type": "display_data",
       "png": "[encoded data removed]",
       "text": [
        "<matplotlib.figure.Figure at 0x7fa449b3bd10>"
       ]
      }
     ],
     "prompt_number": 26
    },
    {
     "cell_type": "code",
     "collapsed": false,
     "input": [
      "_1 = plt.subplot(1, 3, 1)\n",
      "_1.hist([1.0 * g.node[node]['K_snp'] / 20.0 for g in tf_graph.values() for node in g],\\\n",
      "        bins=21, range=(0,1), alpha=0.6)\n",
      "_1.set_xlim(0, 1)\n",
      "_1.set_ylim(1, 1000)\n",
      "_1.set_yscale('log')\n",
      "_1.set_title('snp')\n",
      "\n",
      "weights = {'snp':1.0, 'indel':1.0}\n",
      "\n",
      "_2 = plt.subplot(1, 3, 2)\n",
      "_2.hist([(g.node[node]['K_snp'] * weights['snp'] + g.node[node]['K_indel'] * weights['indel'])\\\n",
      "         / (20.0 * (weights['snp'] + weights['indel']))\\\n",
      "         for g in tf_graph.values() for node in g], bins=21, range=(0,1), alpha=0.6)\n",
      "_2.set_xlim(0, 1)\n",
      "_2.set_ylim(1, 1000)\n",
      "_2.set_yscale('log')\n",
      "_2.set_xlabel('phenotypic degree (q)')\n",
      "_2.set_title('1:1')\n",
      "\n",
      "_3 = plt.subplot(1, 3, 3)\n",
      "_3.hist([1.0 * g.node[node]['K_indel'] / 20.0 for g in tf_graph.values() for node in g],\\\n",
      "        bins=21, range=(0,1), alpha=0.6)\n",
      "_3.set_xlim(0, 1)\n",
      "_3.set_ylim(1, 1000)\n",
      "_3.set_yscale('log')\n",
      "_3.set_title('indel')"
     ],
     "language": "python",
     "metadata": {},
     "outputs": [
      {
       "metadata": {},
       "output_type": "pyout",
       "prompt_number": 42,
       "text": [
        "<matplotlib.text.Text at 0x7fa44679ba50>"
       ]
      },
      {
       "metadata": {},
       "output_type": "display_data",
       "png": "[encoded data removed]",
       "text": [
        "<matplotlib.figure.Figure at 0x7fa4474feed0>"
       ]
      }
     ],
     "prompt_number": 42
    },
    {
     "cell_type": "code",
     "collapsed": false,
     "input": [
      "weights = {'snp':1.0, 'indel':1.0}\n",
      "\n",
      "q, escore, K = list(), list(), list()\n",
      "for g in tf_graph.values():\n",
      "    for node in g:\n",
      "        q.append((g.node[node]['q_snp'] * weights['snp'] + g.node[node]['q_indel'] * weights['indel'])\\\n",
      "                 / (g.node[node]['k_snp'] * weights['snp'] + g.node[node]['k_indel'] * weights['indel']))\n",
      "        K.append((g.node[node]['K_snp'] * weights['snp'] + g.node[node]['K_indel'] * weights['indel'])\\\n",
      "                 / (20.0 * (weights['snp'] + weights['indel'])))\n",
      "        escore.append(g.node[node]['e_score'])\n",
      "\n",
      "mpl.rcParams['figure.figsize'] = '12, 12'\n",
      "\n",
      "heatmap, xedges, yedges = np.histogram2d(escore, K,\\\n",
      "                                         range=((0.35, 0.5), (0, 1)),\\\n",
      "                                         bins=(15, 21))\n",
      "\n",
      "_1 = plt.subplot(2, 2, 1)\n",
      "_1.pcolor(heatmap.T, edgecolors='none', cmap=plt.cm.RdBu_r, alpha=0.8)\n",
      "_1.set_xlim(0, 15)\n",
      "_1.set_ylim(0, 21)\n",
      "# # put the major ticks at the middle of each cell\n",
      "_1.set_xticklabels([0.01 * i + 0.35 for i in range(15)], minor=False)\n",
      "_1.set_xticks([i + 0.5 for i in range(15)], minor=False)\n",
      "_1.set_yticklabels(range(0, 21, 5), minor=False)\n",
      "_1.set_yticks([i + 0.5 for i in range(0, 21, 5)], minor=False)\n",
      "_1.set_xlabel('e-score')\n",
      "_1.set_ylabel('K')\n",
      "\n",
      "heatmap, xedges, yedges = np.histogram2d(q, K,\\\n",
      "                                         range=((0, 1), (0, 1)),\\\n",
      "                                         bins=(25, 104))\n",
      "\n",
      "_2 = plt.subplot(2, 2, 2)\n",
      "_2.pcolor(heatmap.T, edgecolors='none', cmap=plt.cm.RdBu_r, alpha=0.8)\n",
      "_2.set_xlim(0, 25)\n",
      "_2.set_ylim(0, 21)\n",
      "# # put the major ticks at the middle of each cell\n",
      "_2.set_xticklabels([i / 25.0 for i in range(0, 25, 5)], minor=False)\n",
      "_2.set_xticks([i + 0.5 for i in range(0, 25, 5)], minor=False)\n",
      "_2.set_yticklabels(range(0, 21, 5), minor=False)\n",
      "_2.set_yticks([i + 0.5 for i in range(0, 21, 5)], minor=False)\n",
      "_2.set_xlabel('q')\n",
      "_2.set_ylabel('K')\n",
      "\n",
      "heatmap, xedges, yedges = np.histogram2d(escore, q,\\\n",
      "                                         range=((0.35, 0.5), (0, 1)),\\\n",
      "                                         bins=(15, 25))\n",
      "\n",
      "_3 = plt.subplot(2, 2, 3)\n",
      "_3.pcolor(heatmap.T, edgecolors='none', cmap=plt.cm.RdBu_r, alpha=0.8)\n",
      "_3.set_xlim(0, 15)\n",
      "_3.set_ylim(0, 25)\n",
      "# put the major ticks at the middle of each cell\n",
      "_3.set_xticklabels([0.01 * i + 0.35 for i in range(15)], minor=False)\n",
      "_3.set_xticks([i + 0.5 for i in range(15)], minor=False)\n",
      "_3.set_yticklabels([i / 25.0 for i in range(0, 25, 5)], minor=False)\n",
      "_3.set_yticks([i + 0.5 for i in range(0, 25, 5)], minor=False)\n",
      "_3.set_xlabel('e-score')\n",
      "_3.set_ylabel('q')\n",
      "_3.invert_yaxis()\n",
      "\n",
      "mpl.rcParams['figure.figsize'] = '16, 4.5'"
     ],
     "language": "python",
     "metadata": {},
     "outputs": [
      {
       "metadata": {},
       "output_type": "display_data",
       "png": "[encoded data removed]",
       "text": [
        "<matplotlib.figure.Figure at 0x7fa449a3f110>"
       ]
      }
     ],
     "prompt_number": 43
    },
    {
     "cell_type": "code",
     "collapsed": false,
     "input": [],
     "language": "python",
     "metadata": {},
     "outputs": []
    }
   ],
   "metadata": {}
  }
 ]
}