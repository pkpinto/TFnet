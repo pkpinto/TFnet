{
 "metadata": {
  "name": "",
  "signature": "sha256:32fb7789600aaffba260df5b9ec3f417142e9cbe8bee29c4ea453217950eafb0"
 },
 "nbformat": 3,
 "nbformat_minor": 0,
 "worksheets": [
  {
   "cells": [
    {
     "cell_type": "raw",
     "metadata": {},
     "source": [
      "sqlite3 uniprobe_data\n",
      "    .tables\n",
      "    insert into contig_8mers_0 select * from contig_8mers_1;\n",
      "    drop contig_8mers_1;"
     ]
    },
    {
     "cell_type": "heading",
     "level": 1,
     "metadata": {},
     "source": [
      "UniProbe data"
     ]
    },
    {
     "cell_type": "code",
     "collapsed": false,
     "input": [
      "from sqlalchemy import create_engine\n",
      "engine = create_engine('sqlite:///uniprobe_data.db')"
     ],
     "language": "python",
     "metadata": {},
     "outputs": [],
     "prompt_number": 1
    },
    {
     "cell_type": "heading",
     "level": 4,
     "metadata": {},
     "source": [
      "Check structure of the db"
     ]
    },
    {
     "cell_type": "code",
     "collapsed": false,
     "input": [
      "from sqlalchemy import inspect\n",
      "inspector = inspect(engine)"
     ],
     "language": "python",
     "metadata": {},
     "outputs": [],
     "prompt_number": 2
    },
    {
     "cell_type": "code",
     "collapsed": false,
     "input": [
      "for tn in inspector.get_table_names():\n",
      "   for c in inspector.get_columns(tn):\n",
      "       print('%s > %s %s : %s' % (tn, '*' if c['primary_key'] > 0 else ' ', c['name'], c['type']))"
     ],
     "language": "python",
     "metadata": {},
     "outputs": [
      {
       "output_type": "stream",
       "stream": "stdout",
       "text": [
        "clone_to_protseq > * clone : INTEGER\n",
        "clone_to_protseq >   prot_sequence : TEXT\n",
        "clone_to_protseq >   clone_type : VARCHAR(9)\n",
        "clone_to_protseq >   mutation : VARCHAR(10)\n",
        "clone_to_protseq >   comments : TEXT\n",
        "clone_to_protseq >   clone_name : VARCHAR(40)\n",
        "contig_8mers_0 > * gene_id : SMALLINT\n",
        "contig_8mers_0 > * kmer : SMALLINT\n",
        "contig_8mers_0 >   enrichment_score : FLOAT\n",
        "dbds > * gene_name : VARCHAR(30)\n",
        "dbds >   seq : VARCHAR(250)\n",
        "dbds > * species : VARCHAR(50)\n",
        "gene_id_complex > * gene_id : SMALLINT\n",
        "gene_id_complex > * protein_complex_id : INTEGER\n",
        "gene_ids > * gene_id : SMALLINT\n",
        "gene_ids >   gene_name : VARCHAR(30)\n",
        "gene_ids >   species : VARCHAR(50)\n",
        "gene_ids >   publication_id : SMALLINT\n",
        "gene_ids >   type : VARCHAR(15)\n",
        "gene_ids >   is_complex : INTEGER\n",
        "gene_ids >   gene_id_name : VARCHAR(30)\n",
        "gene_ids >   has_pbm_data : CHAR(1)\n",
        "gene_ids_public >   gene_id : SMALLINT\n",
        "gene_ids_public >   gene_name : VARCHAR(30)\n",
        "gene_ids_public >   species : VARCHAR(50)\n",
        "gene_ids_public >   publication_id : SMALLINT\n",
        "gene_ids_public >   type : VARCHAR(15)\n",
        "gene_ids_public >   is_complex : INTEGER\n",
        "gene_ids_public >   gene_id_name : VARCHAR(30)\n",
        "gene_ids_public >   has_pbm_data : CHAR(1)\n",
        "genomic_info > * gene_name : VARCHAR(30)\n",
        "genomic_info >   name : VARCHAR(100)\n",
        "genomic_info >   synonyms : TEXT\n",
        "genomic_info > * species : VARCHAR(50)\n",
        "genomic_info >   ihop : VARCHAR(15)\n",
        "genomic_info >   uniprot : VARCHAR(15)\n",
        "genomic_info >   refseq_id : VARCHAR(15)\n",
        "genomic_info >   uniq_id : VARCHAR(15)\n",
        "genomic_info >   uniq_id_2 : VARCHAR(15)\n",
        "genomic_info >   jaspar : VARCHAR(10)\n",
        "genomic_info >   description : TEXT\n",
        "genomic_info >   domain : VARCHAR(50)\n",
        "genomic_info_complex > * gene_name : VARCHAR(30)\n",
        "genomic_info_complex > * species : VARCHAR(50)\n",
        "genomic_info_complex > * protein_complex_id : INTEGER\n",
        "licensed_files > * licensed_id : SMALLINT\n",
        "licensed_files >   filename : VARCHAR(200)\n",
        "log_downloads > * download_id : INTEGER\n",
        "log_downloads >   download_name : VARCHAR(200)\n",
        "log_downloads >   ip : VARCHAR(20)\n",
        "log_downloads >   sid : VARCHAR(20)\n",
        "log_downloads >   location : VARCHAR(80)\n",
        "log_downloads >   browser : VARCHAR(30)\n",
        "log_downloads >   os : VARCHAR(30)\n",
        "log_downloads >   time : TIMESTAMP\n",
        "log_downloads >   visitor_id : INTEGER\n",
        "log_queries > * query_id : INTEGER\n",
        "log_queries >   visitor_id : INTEGER\n",
        "log_queries >   searchParam : VARCHAR(36)\n",
        "log_queries >   type : CHAR(1)\n",
        "log_queries >   time : TIMESTAMP\n",
        "log_visitors > * visitor_id : INTEGER\n",
        "log_visitors >   ip : VARCHAR(20)\n",
        "log_visitors >   location : VARCHAR(80)\n",
        "log_visitors >   browser : VARCHAR(30)\n",
        "log_visitors >   os : VARCHAR(30)\n",
        "log_visitors >   visit_time : TIMESTAMP\n",
        "motif_map > * motif_id : VARCHAR(10)\n",
        "motif_map >   gene_id : SMALLINT\n",
        "motif_map >   motif_type : VARCHAR(10)\n",
        "page_mod_date > * gene_id : SMALLINT\n",
        "page_mod_date >   date : DATE\n",
        "pfam_beta >   seq_id : VARCHAR(20)\n",
        "pfam_beta >   seq_start : SMALLINT\n",
        "pfam_beta >   seq_end : SMALLINT\n",
        "pfam_beta >   pfam_acc : VARCHAR(15)\n",
        "pfam_beta >   hmm_start : VARCHAR(10)\n",
        "pfam_beta >   hmm_end : VARCHAR(10)\n",
        "pfam_beta >   bit_score : FLOAT\n",
        "pfam_beta >   evalue : FLOAT\n",
        "pfam_beta >   pfam_id : VARCHAR(20)\n",
        "pfam_beta >   recipient_ID : VARCHAR(8)\n",
        "pfam_beta >   clone : INTEGER\n",
        "pfam_beta >   full_seq : TEXT\n",
        "pfam_beta >   domain_seq : VARCHAR(250)\n",
        "pfam_beta >   domain_size : SMALLINT\n",
        "protein_complex > * id : INTEGER\n",
        "protein_complex >   complex_name : VARCHAR(50)\n",
        "publication_ids > * publication_id : SMALLINT\n",
        "publication_ids >   small_ref : TEXT\n",
        "publication_ids >   full_ref : TEXT\n",
        "publication_ids >   folder_name : VARCHAR(30)\n",
        "publication_ids >   is_bulyklab : INTEGER\n",
        "publication_ids >   in_TFBSshape : INTEGER\n",
        "tf_heterodimers >   gene1 : VARCHAR(30)\n",
        "tf_heterodimers >   gene2 : VARCHAR(30)\n",
        "tf_heterodimers >   species : VARCHAR(50)\n",
        "tf_homodimers > * gene1 : VARCHAR(10)\n",
        "tf_homodimers >   gene2 : VARCHAR(10)\n",
        "tf_homodimers >   species : VARCHAR(50)\n",
        "tf_mod_date >   gene_name : VARCHAR(30)\n",
        "tf_mod_date >   TF_id : VARCHAR(40)\n",
        "tf_mod_date >   date : DATE\n",
        "tf_mod_date >   comments : TEXT\n",
        "tf_mod_date >   species : VARCHAR(50)\n",
        "trans_factors >   TF_id : VARCHAR(40)\n",
        "trans_factors >   gene_name : VARCHAR(30)\n",
        "trans_factors >   version : VARCHAR(20)\n",
        "trans_factors >   clone : INTEGER\n",
        "trans_factors >   shipment : INTEGER\n",
        "trans_factors >   pur_protocol : VARCHAR(40)\n",
        "trans_factors >   expr_num : INTEGER\n",
        "trans_factors >   publication_id : SMALLINT\n",
        "trans_factors >   species : VARCHAR(50)\n",
        "trans_factors >   gene_id : SMALLINT\n",
        "users > * email : VARCHAR(320)\n",
        "users >   organization : VARCHAR(60)\n",
        "users >   how_hear : VARCHAR(300)\n",
        "users >   receive_email : CHAR(1)\n",
        "users >   website : CHAR(1)\n",
        "version_to_amadid > * version : VARCHAR(20)\n",
        "version_to_amadid >   amadid : VARCHAR(20)\n"
       ]
      },
      {
       "output_type": "stream",
       "stream": "stderr",
       "text": [
        "/usr/local/lib/python2.7/dist-packages/sqlalchemy/dialects/sqlite/base.py:938: SAWarning: Could not instantiate type <class 'sqlalchemy.sql.sqltypes.INTEGER'> with reflected arguments [u'6']; using no arguments.\n",
        "  coltype = self._resolve_type_affinity(type_)\n",
        "/usr/local/lib/python2.7/dist-packages/sqlalchemy/dialects/sqlite/base.py:938: SAWarning: Could not instantiate type <class 'sqlalchemy.sql.sqltypes.SMALLINT'> with reflected arguments [u'5']; using no arguments.\n",
        "  coltype = self._resolve_type_affinity(type_)\n",
        "/usr/local/lib/python2.7/dist-packages/sqlalchemy/dialects/sqlite/base.py:938: SAWarning: Could not instantiate type <class 'sqlalchemy.sql.sqltypes.INTEGER'> with reflected arguments [u'10']; using no arguments.\n",
        "  coltype = self._resolve_type_affinity(type_)\n",
        "/usr/local/lib/python2.7/dist-packages/sqlalchemy/dialects/sqlite/base.py:938: SAWarning: Could not instantiate type <class 'sqlalchemy.sql.sqltypes.SMALLINT'> with reflected arguments [u'6']; using no arguments.\n",
        "  coltype = self._resolve_type_affinity(type_)\n",
        "/usr/local/lib/python2.7/dist-packages/sqlalchemy/dialects/sqlite/base.py:938: SAWarning: Could not instantiate type <class 'sqlalchemy.sql.sqltypes.INTEGER'> with reflected arguments [u'1']; using no arguments.\n",
        "  coltype = self._resolve_type_affinity(type_)\n",
        "/usr/local/lib/python2.7/dist-packages/sqlalchemy/dialects/sqlite/base.py:938: SAWarning: Could not instantiate type <class 'sqlalchemy.sql.sqltypes.INTEGER'> with reflected arguments [u'4']; using no arguments.\n",
        "  coltype = self._resolve_type_affinity(type_)\n"
       ]
      }
     ],
     "prompt_number": 3
    },
    {
     "cell_type": "code",
     "collapsed": false,
     "input": [
      "!sqlt-diagram -d=MySQL -o=uniprobe_data.png uniprobe_data.sql --color"
     ],
     "language": "python",
     "metadata": {},
     "outputs": []
    },
    {
     "cell_type": "code",
     "collapsed": false,
     "input": [
      "from IPython.display import Image\n",
      "Image(filename='uniprobe_data.png')"
     ],
     "language": "python",
     "metadata": {},
     "outputs": []
    },
    {
     "cell_type": "heading",
     "level": 4,
     "metadata": {},
     "source": [
      "Classical mapper"
     ]
    },
    {
     "cell_type": "code",
     "collapsed": false,
     "input": [
      "from sqlalchemy import MetaData, Table, Column\n",
      "from sqlalchemy.types import Integer, String, Float, Boolean\n",
      "metadata = MetaData()"
     ],
     "language": "python",
     "metadata": {},
     "outputs": [],
     "prompt_number": 16
    },
    {
     "cell_type": "code",
     "collapsed": false,
     "input": [
      "metadata.tables"
     ],
     "language": "python",
     "metadata": {},
     "outputs": [
      {
       "metadata": {},
       "output_type": "pyout",
       "prompt_number": 17,
       "text": [
        "immutabledict({})"
       ]
      }
     ],
     "prompt_number": 17
    },
    {
     "cell_type": "code",
     "collapsed": false,
     "input": [
      "Table('contig_8mers_0', metadata, \n",
      "    Column('kmer', Integer, nullable=False, primary_key=True), \n",
      "    Column('gene_id', Integer, nullable=False, primary_key=True), \n",
      "    Column('enrichment_score', Float, nullable=False))"
     ],
     "language": "python",
     "metadata": {},
     "outputs": [
      {
       "metadata": {},
       "output_type": "pyout",
       "prompt_number": 18,
       "text": [
        "Table('contig_8mers_0', MetaData(bind=None), Column('kmer', Integer(), table=<contig_8mers_0>, primary_key=True, nullable=False), Column('gene_id', Integer(), table=<contig_8mers_0>, primary_key=True, nullable=False), Column('enrichment_score', Float(), table=<contig_8mers_0>, nullable=False), schema=None)"
       ]
      }
     ],
     "prompt_number": 18
    },
    {
     "cell_type": "code",
     "collapsed": false,
     "input": [
      "import sqlalchemy.types as types\n",
      "\n",
      "class StrIntBoolean(types.TypeDecorator):\n",
      "    impl = types.Integer\n",
      "    def process_bind_param(self, value, dialect):\n",
      "        return '1' if value else '0'\n",
      "    def process_result_value(self, value, dialect):\n",
      "        if value is None:\n",
      "            return None\n",
      "        elif value == '1':\n",
      "            return True\n",
      "        elif value == '0':\n",
      "            return False\n",
      "        else:\n",
      "            raise 'invalid value %s' % value"
     ],
     "language": "python",
     "metadata": {},
     "outputs": [],
     "prompt_number": 19
    },
    {
     "cell_type": "code",
     "collapsed": false,
     "input": [
      "Table('gene_ids', metadata, \n",
      "    Column('gene_id', Integer, nullable=False, primary_key=True), \n",
      "    Column('gene_name', String),\n",
      "    Column('species', String),\n",
      "    Column('publication_id', Integer),\n",
      "    Column('type', String),\n",
      "    Column('is_complex', Boolean), \n",
      "    Column('gene_id_name', String), \n",
      "    Column('has_pbm_data', StrIntBoolean))"
     ],
     "language": "python",
     "metadata": {},
     "outputs": [
      {
       "metadata": {},
       "output_type": "pyout",
       "prompt_number": 20,
       "text": [
        "Table('gene_ids', MetaData(bind=None), Column('gene_id', Integer(), table=<gene_ids>, primary_key=True, nullable=False), Column('gene_name', String(), table=<gene_ids>), Column('species', String(), table=<gene_ids>), Column('publication_id', Integer(), table=<gene_ids>), Column('type', String(), table=<gene_ids>), Column('is_complex', Boolean(), table=<gene_ids>), Column('gene_id_name', String(), table=<gene_ids>), Column('has_pbm_data', StrIntBoolean(), table=<gene_ids>), schema=None)"
       ]
      }
     ],
     "prompt_number": 20
    },
    {
     "cell_type": "code",
     "collapsed": false,
     "input": [
      "metadata.tables.keys()"
     ],
     "language": "python",
     "metadata": {},
     "outputs": [
      {
       "metadata": {},
       "output_type": "pyout",
       "prompt_number": 21,
       "text": [
        "['gene_ids', 'contig_8mers_0']"
       ]
      }
     ],
     "prompt_number": 21
    },
    {
     "cell_type": "code",
     "collapsed": false,
     "input": [
      "from sqlalchemy.orm import mapper\n",
      "\n",
      "class Contig_0(object):\n",
      "    def __init__(self, gene_id, kmer, enrichment_score):\n",
      "        self.gene_id = gene_id\n",
      "        self.kmer = kmer\n",
      "        self.enrichment_score = enrichment_score\n",
      "    def __repr__(self):\n",
      "        return '<Contig(gene_id=%s, kmer=%s, enrichment_score=%s)>' % (self.gene_id, self.kmer, self.enrichment_score)\n",
      "\n",
      "mapper(Contig_0, metadata.tables['contig_8mers_0'])"
     ],
     "language": "python",
     "metadata": {},
     "outputs": [
      {
       "metadata": {},
       "output_type": "pyout",
       "prompt_number": 22,
       "text": [
        "<Mapper at 0x7f0bb2fa6d50; Contig_0>"
       ]
      }
     ],
     "prompt_number": 22
    },
    {
     "cell_type": "heading",
     "level": 4,
     "metadata": {},
     "source": [
      "Declarative base"
     ]
    },
    {
     "cell_type": "code",
     "collapsed": false,
     "input": [
      "from sqlalchemy.ext.declarative import declarative_base\n",
      "Base = declarative_base()"
     ],
     "language": "python",
     "metadata": {},
     "outputs": [],
     "prompt_number": 2
    },
    {
     "cell_type": "code",
     "collapsed": false,
     "input": [
      "from sqlalchemy import Column, ForeignKey, Integer, String, Float, Boolean\n",
      "from sqlalchemy.orm import relationship, backref"
     ],
     "language": "python",
     "metadata": {},
     "outputs": [],
     "prompt_number": 3
    },
    {
     "cell_type": "code",
     "collapsed": false,
     "input": [
      "import sqlalchemy.types as types\n",
      "\n",
      "class StrIntBoolean(types.TypeDecorator):\n",
      "\n",
      "    impl = types.Integer\n",
      "    \n",
      "    def process_bind_param(self, value, dialect):\n",
      "        return '1' if value else '0'\n",
      "    def process_result_value(self, value, dialect):\n",
      "        if value is None:\n",
      "            return None\n",
      "        elif value == '1':\n",
      "            return True\n",
      "        elif value == '0':\n",
      "            return False\n",
      "        else:\n",
      "            raise 'invalid value %s' % value"
     ],
     "language": "python",
     "metadata": {},
     "outputs": [],
     "prompt_number": 4
    },
    {
     "cell_type": "code",
     "collapsed": false,
     "input": [
      "class Gene(Base):\n",
      "    __tablename__ = 'gene_ids'\n",
      "\n",
      "    gene_id = Column(Integer, primary_key=True)\n",
      "    gene_name = Column(String)\n",
      "    species  = Column(String)\n",
      "    publication_id = Column(Integer)\n",
      "    type = Column(String)\n",
      "    is_complex = Column(Boolean)\n",
      "    gene_id_name = Column(String)\n",
      "    has_pbm_data = Column(StrIntBoolean)\n",
      "\n",
      "    def __repr__(self):\n",
      "        return '<Gene(gene_id=%s, gene_name=%s, species=%s, publication_id=%s)>' %\\\n",
      "                    (self.gene_id, self.gene_name, self.species, self.publication_id)"
     ],
     "language": "python",
     "metadata": {},
     "outputs": [],
     "prompt_number": 5
    },
    {
     "cell_type": "code",
     "collapsed": false,
     "input": [
      "class Contig(Base):\n",
      "    __tablename__ = 'contig_8mers_0'\n",
      "\n",
      "    gene_id = Column(Integer, ForeignKey('gene_ids.gene_id'), primary_key=True)\n",
      "    kmer = Column(Integer, primary_key=True)\n",
      "    enrichment_score  = Column(Float)\n",
      "\n",
      "    gene = relationship('Gene', backref=backref('contigs'))\n",
      "\n",
      "    def __repr__(self):\n",
      "        return '<Contig(gene_id=%s, kmer=%s, enrichment_score=%s)>' % (self.gene_id, self.kmer, self.enrichment_score)"
     ],
     "language": "python",
     "metadata": {},
     "outputs": [],
     "prompt_number": 6
    },
    {
     "cell_type": "code",
     "collapsed": false,
     "input": [
      "Contig.__table__"
     ],
     "language": "python",
     "metadata": {},
     "outputs": [
      {
       "metadata": {},
       "output_type": "pyout",
       "prompt_number": 7,
       "text": [
        "Table('contig_8mers_0', MetaData(bind=None), Column('gene_id', Integer(), ForeignKey('gene_ids.gene_id'), table=<contig_8mers_0>, primary_key=True, nullable=False), Column('kmer', Integer(), table=<contig_8mers_0>, primary_key=True, nullable=False), Column('enrichment_score', Float(), table=<contig_8mers_0>), schema=None)"
       ]
      }
     ],
     "prompt_number": 7
    },
    {
     "cell_type": "code",
     "collapsed": false,
     "input": [
      "class Publication(Base):\n",
      "    __tablename__ = 'publication_ids'\n",
      "    \n",
      "    publication_id = Column(Integer, ForeignKey('gene_ids.publication_id'), primary_key=True)\n",
      "    small_ref = Column(String)\n",
      "    full_ref = Column(String)\n",
      "    folder_name = Column(String)\n",
      "    is_bulyklab = Column(String)\n",
      "    in_TFBSshape = Column(String)\n",
      "\n",
      "    gene = relationship('Gene', backref=backref('publication'))\n",
      "\n",
      "    def __repr__(self):\n",
      "        return '<Publication(publication_id=%s, small_ref=%s)>' %\\\n",
      "                    (self.publication_id, self.small_ref)"
     ],
     "language": "python",
     "metadata": {},
     "outputs": [],
     "prompt_number": 8
    },
    {
     "cell_type": "code",
     "collapsed": false,
     "input": [
      "class GeneInfo(Base):\n",
      "    __tablename__ = 'genomic_info'\n",
      "    \n",
      "    gene_name = Column(String, ForeignKey('gene_ids.gene_name'), primary_key=True)\n",
      "    name = Column(String)\n",
      "    synonyms = Column(String)\n",
      "    species = Column(String, ForeignKey('gene_ids.species'), primary_key=True)\n",
      "    ihop = Column(String)\n",
      "    uniprot = Column(String)\n",
      "    refseq_id = Column(String)\n",
      "    uniq_id = Column(String)\n",
      "    uniq_id_2 = Column(String)\n",
      "    jaspar = Column(String)\n",
      "    description = Column(String)\n",
      "    domain = Column(String)\n",
      "\n",
      "    gene = relationship('Gene', backref=backref('gene_info'), \n",
      "                        primaryjoin='(GeneInfo.gene_name == Gene.gene_name) & (GeneInfo.species == Gene.species)')\n",
      "\n",
      "    def __repr__(self):\n",
      "        return '<GeneInfo(gene_name=%s, synonyms=%s, species=%s)>' %\\\n",
      "                    (self.gene_name, self.synonyms, self.species)"
     ],
     "language": "python",
     "metadata": {},
     "outputs": [],
     "prompt_number": 9
    },
    {
     "cell_type": "heading",
     "level": 2,
     "metadata": {},
     "source": [
      "Load data"
     ]
    },
    {
     "cell_type": "code",
     "collapsed": false,
     "input": [
      "from sqlalchemy.orm import sessionmaker\n",
      "Session = sessionmaker(bind=engine)"
     ],
     "language": "python",
     "metadata": {},
     "outputs": [],
     "prompt_number": 10
    },
    {
     "cell_type": "code",
     "collapsed": false,
     "input": [
      "session = Session()"
     ],
     "language": "python",
     "metadata": {},
     "outputs": [],
     "prompt_number": 11
    },
    {
     "cell_type": "heading",
     "level": 3,
     "metadata": {},
     "source": [
      "From uniprobe_data.py"
     ]
    },
    {
     "cell_type": "markdown",
     "metadata": {},
     "source": [
      "uniprobe_data.py takes care of defining the engine, the classes and the session. It's just just a cleaned up version of the code above. TODO: put everything inside a namespace, \"from foo import *\" is ugly."
     ]
    },
    {
     "cell_type": "code",
     "collapsed": false,
     "input": [
      "from uniprobe_data import *"
     ],
     "language": "python",
     "metadata": {},
     "outputs": [],
     "prompt_number": 8
    },
    {
     "cell_type": "code",
     "collapsed": false,
     "input": [
      "session.query(Contig).filter(Contig.kmer == 0)[:10]"
     ],
     "language": "python",
     "metadata": {},
     "outputs": [
      {
       "metadata": {},
       "output_type": "pyout",
       "prompt_number": 9,
       "text": [
        "[<Contig(gene_id=0, kmer=0, enrichment_score=0.250106)>,\n",
        " <Contig(gene_id=1, kmer=0, enrichment_score=0.295985)>,\n",
        " <Contig(gene_id=2, kmer=0, enrichment_score=0.33732)>,\n",
        " <Contig(gene_id=3, kmer=0, enrichment_score=0.218833)>,\n",
        " <Contig(gene_id=4, kmer=0, enrichment_score=0.357226)>,\n",
        " <Contig(gene_id=5, kmer=0, enrichment_score=0.318749)>,\n",
        " <Contig(gene_id=6, kmer=0, enrichment_score=-0.105257)>,\n",
        " <Contig(gene_id=7, kmer=0, enrichment_score=0.234288)>,\n",
        " <Contig(gene_id=8, kmer=0, enrichment_score=0.208513)>,\n",
        " <Contig(gene_id=9, kmer=0, enrichment_score=0.266657)>]"
       ]
      }
     ],
     "prompt_number": 9
    },
    {
     "cell_type": "code",
     "collapsed": false,
     "input": [
      "session.query(Gene).filter(Gene.gene_id < 10).order_by(Gene.gene_id).all()"
     ],
     "language": "python",
     "metadata": {},
     "outputs": [
      {
       "metadata": {},
       "output_type": "pyout",
       "prompt_number": 10,
       "text": [
        "[<Gene(gene_id=0, gene_name=Smad3, species=Mus musculus, publication_id=2)>,\n",
        " <Gene(gene_id=1, gene_name=E2F2, species=Mus musculus, publication_id=2)>,\n",
        " <Gene(gene_id=2, gene_name=Sp4, species=Mus musculus, publication_id=2)>,\n",
        " <Gene(gene_id=3, gene_name=E2F3, species=Mus musculus, publication_id=2)>,\n",
        " <Gene(gene_id=4, gene_name=Sox14, species=Mus musculus, publication_id=2)>,\n",
        " <Gene(gene_id=5, gene_name=Tcfap2a, species=Mus musculus, publication_id=2)>,\n",
        " <Gene(gene_id=6, gene_name=Zic3, species=Mus musculus, publication_id=2)>,\n",
        " <Gene(gene_id=7, gene_name=Egr1, species=Mus musculus, publication_id=2)>,\n",
        " <Gene(gene_id=8, gene_name=Six6, species=Mus musculus, publication_id=2)>,\n",
        " <Gene(gene_id=9, gene_name=Nr2f2, species=Mus musculus, publication_id=2)>]"
       ]
      }
     ],
     "prompt_number": 10
    },
    {
     "cell_type": "code",
     "collapsed": false,
     "input": [
      "[(c,c.gene) for c in session.query(Contig).filter(Contig.kmer == 0)[:10]]"
     ],
     "language": "python",
     "metadata": {},
     "outputs": [
      {
       "metadata": {},
       "output_type": "pyout",
       "prompt_number": 14,
       "text": [
        "[(<Contig(gene_id=0, kmer=0, enrichment_score=0.250106)>,\n",
        "  <Gene(gene_id=0, gene_name=Smad3, species=Mus musculus, publication_id=2)>),\n",
        " (<Contig(gene_id=1, kmer=0, enrichment_score=0.295985)>,\n",
        "  <Gene(gene_id=1, gene_name=E2F2, species=Mus musculus, publication_id=2)>),\n",
        " (<Contig(gene_id=2, kmer=0, enrichment_score=0.33732)>,\n",
        "  <Gene(gene_id=2, gene_name=Sp4, species=Mus musculus, publication_id=2)>),\n",
        " (<Contig(gene_id=3, kmer=0, enrichment_score=0.218833)>,\n",
        "  <Gene(gene_id=3, gene_name=E2F3, species=Mus musculus, publication_id=2)>),\n",
        " (<Contig(gene_id=4, kmer=0, enrichment_score=0.357226)>,\n",
        "  <Gene(gene_id=4, gene_name=Sox14, species=Mus musculus, publication_id=2)>),\n",
        " (<Contig(gene_id=5, kmer=0, enrichment_score=0.318749)>,\n",
        "  <Gene(gene_id=5, gene_name=Tcfap2a, species=Mus musculus, publication_id=2)>),\n",
        " (<Contig(gene_id=6, kmer=0, enrichment_score=-0.105257)>,\n",
        "  <Gene(gene_id=6, gene_name=Zic3, species=Mus musculus, publication_id=2)>),\n",
        " (<Contig(gene_id=7, kmer=0, enrichment_score=0.234288)>,\n",
        "  <Gene(gene_id=7, gene_name=Egr1, species=Mus musculus, publication_id=2)>),\n",
        " (<Contig(gene_id=8, kmer=0, enrichment_score=0.208513)>,\n",
        "  <Gene(gene_id=8, gene_name=Six6, species=Mus musculus, publication_id=2)>),\n",
        " (<Contig(gene_id=9, kmer=0, enrichment_score=0.266657)>,\n",
        "  <Gene(gene_id=9, gene_name=Nr2f2, species=Mus musculus, publication_id=2)>)]"
       ]
      }
     ],
     "prompt_number": 14
    },
    {
     "cell_type": "code",
     "collapsed": false,
     "input": [
      "[(g, g.publication, g.contigs[:10]) for g in session.query(Gene).filter(Gene.gene_id < 2)]"
     ],
     "language": "python",
     "metadata": {},
     "outputs": [
      {
       "metadata": {},
       "output_type": "pyout",
       "prompt_number": 15,
       "text": [
        "[(<Gene(gene_id=0, gene_name=Smad3, species=Mus musculus, publication_id=2)>,\n",
        "  [<Publication(publication_id=2, small_ref=Badis et al., Science 2009)>],\n",
        "  [<Contig(gene_id=0, kmer=0, enrichment_score=0.250106)>,\n",
        "   <Contig(gene_id=0, kmer=1, enrichment_score=0.205027)>,\n",
        "   <Contig(gene_id=0, kmer=2, enrichment_score=0.125331)>,\n",
        "   <Contig(gene_id=0, kmer=3, enrichment_score=0.151731)>,\n",
        "   <Contig(gene_id=0, kmer=4, enrichment_score=0.10707)>,\n",
        "   <Contig(gene_id=0, kmer=5, enrichment_score=0.230361)>,\n",
        "   <Contig(gene_id=0, kmer=6, enrichment_score=0.114943)>,\n",
        "   <Contig(gene_id=0, kmer=7, enrichment_score=0.031067)>,\n",
        "   <Contig(gene_id=0, kmer=8, enrichment_score=0.150954)>,\n",
        "   <Contig(gene_id=0, kmer=9, enrichment_score=0.074337)>]),\n",
        " (<Gene(gene_id=1, gene_name=E2F2, species=Mus musculus, publication_id=2)>,\n",
        "  [<Publication(publication_id=2, small_ref=Badis et al., Science 2009)>],\n",
        "  [<Contig(gene_id=1, kmer=0, enrichment_score=0.295985)>,\n",
        "   <Contig(gene_id=1, kmer=1, enrichment_score=0.230924)>,\n",
        "   <Contig(gene_id=1, kmer=2, enrichment_score=0.144164)>,\n",
        "   <Contig(gene_id=1, kmer=3, enrichment_score=0.22744)>,\n",
        "   <Contig(gene_id=1, kmer=4, enrichment_score=0.184696)>,\n",
        "   <Contig(gene_id=1, kmer=5, enrichment_score=0.195762)>,\n",
        "   <Contig(gene_id=1, kmer=6, enrichment_score=0.213283)>,\n",
        "   <Contig(gene_id=1, kmer=7, enrichment_score=0.054579)>,\n",
        "   <Contig(gene_id=1, kmer=8, enrichment_score=0.151499)>,\n",
        "   <Contig(gene_id=1, kmer=9, enrichment_score=0.179931)>])]"
       ]
      }
     ],
     "prompt_number": 15
    },
    {
     "cell_type": "code",
     "collapsed": false,
     "input": [
      "[(g, g.gene_info) for g in session.query(Gene).filter(Gene.gene_id < 10)]"
     ],
     "language": "python",
     "metadata": {},
     "outputs": [
      {
       "metadata": {},
       "output_type": "pyout",
       "prompt_number": 16,
       "text": [
        "[(<Gene(gene_id=0, gene_name=Smad3, species=Mus musculus, publication_id=2)>,\n",
        "  [<GeneInfo(gene_name=Smad3, synonyms=AU022421, Mad3, Madh3, mMad3, Mothers against decapentaplegic homolog 3, Mothers against DPP homolog 3, Smad 3, SMAD 3, species=Mus musculus)>]),\n",
        " (<Gene(gene_id=1, gene_name=E2F2, species=Mus musculus, publication_id=2)>,\n",
        "  [<GeneInfo(gene_name=E2F2, synonyms=E2F-2, Transcription factor E2F2, species=Mus musculus)>]),\n",
        " (<Gene(gene_id=2, gene_name=Sp4, species=Mus musculus, publication_id=2)>,\n",
        "  [<GeneInfo(gene_name=Sp4, synonyms=5730497N03Rik, HF1-b, HF-1b, Transcription factor Sp4, species=Mus musculus)>]),\n",
        " (<Gene(gene_id=3, gene_name=E2F3, species=Mus musculus, publication_id=2)>,\n",
        "  [<GeneInfo(gene_name=E2F3, synonyms=E2F-3, E2f3a, E2F3b, mKIAA0075, Transcription factor E2F3, species=Mus musculus)>]),\n",
        " (<Gene(gene_id=4, gene_name=Sox14, species=Mus musculus, publication_id=2)>,\n",
        "  [<GeneInfo(gene_name=Sox14, synonyms=Sox-14, Transcription factor SOX-14, species=Mus musculus)>]),\n",
        " (<Gene(gene_id=5, gene_name=Tcfap2a, species=Mus musculus, publication_id=2)>,\n",
        "  [<GeneInfo(gene_name=Tcfap2a, synonyms=Activating enhancer-binding protein 2 alpha, Activator protein 2, Ap2, AP-2, Ap-2 (a), AP2-alpha, AP-2 alpha, Ap2tf, Tfap2a, Transcription factor AP-2 alpha, species=Mus musculus)>]),\n",
        " (<Gene(gene_id=6, gene_name=Zic3, species=Mus musculus, publication_id=2)>,\n",
        "  [<GeneInfo(gene_name=Zic3, synonyms=Zinc finger protein of the cerebellum 3, Zinc finger protein ZIC 3, species=Mus musculus)>]),\n",
        " (<Gene(gene_id=7, gene_name=Egr1, species=Mus musculus, publication_id=2)>,\n",
        "  [<GeneInfo(gene_name=Egr1, synonyms=A530045N19Rik, Early growth response protein 1, egr, Egr-1, EGR-1, ETR103, Krox-1, Krox24, Krox-24, Krox-24 protein, Nerve growth factor-induced protein A, NGF1-A, NGFIA, NGFI-A, TIS8, Transcription factor Zif268, Zenk, Zfp-6, Zif268, species=Mus musculus)>]),\n",
        " (<Gene(gene_id=8, gene_name=Six6, species=Mus musculus, publication_id=2)>,\n",
        "  [<GeneInfo(gene_name=Six6, synonyms=Homeobox protein SIX6, Optic homeobox 2, Optx2, Sine oculis homeobox homolog 6, Six9, Six9 protein, species=Mus musculus)>]),\n",
        " (<Gene(gene_id=9, gene_name=Nr2f2, species=Mus musculus, publication_id=2)>,\n",
        "  [<GeneInfo(gene_name=Nr2f2, synonyms=2700033K02Rik, 9430015G03Rik, Apolipoprotein AI regulatory protein 1, Aporp1, Arp1, Arp-1, ARP-1, COUP-TF2, COUPTFB, COUP-TFII, COUP-TF II, COUP transcription factor 2, SVP40, Tcfcoup2, Tfcoup2, species=Mus musculus)>])]"
       ]
      }
     ],
     "prompt_number": 16
    },
    {
     "cell_type": "heading",
     "level": 4,
     "metadata": {},
     "source": [
      "Data available"
     ]
    },
    {
     "cell_type": "code",
     "collapsed": false,
     "input": [
      "from sqlalchemy import func\n",
      "from sqlalchemy import distinct"
     ],
     "language": "python",
     "metadata": {},
     "outputs": [],
     "prompt_number": 25
    },
    {
     "cell_type": "code",
     "collapsed": false,
     "input": [
      "print(session.query(distinct(Gene.type)).all())"
     ],
     "language": "python",
     "metadata": {},
     "outputs": [
      {
       "output_type": "stream",
       "stream": "stdout",
       "text": [
        "[(u'factor',), (u'complex',), (u'clone',)]\n"
       ]
      }
     ],
     "prompt_number": 26
    },
    {
     "cell_type": "code",
     "collapsed": false,
     "input": [
      "print(session.query(func.count(Gene.gene_id)).filter(Gene.type == 'factor').all())\n",
      "print(session.query(func.count(Gene.gene_id)).filter(Gene.type == 'complex').all())\n",
      "print(session.query(func.count(Gene.gene_id)).filter(Gene.type == 'clone').all())"
     ],
     "language": "python",
     "metadata": {},
     "outputs": [
      {
       "output_type": "stream",
       "stream": "stdout",
       "text": [
        "[(510,)]\n",
        "[(20,)]\n",
        "[(16,)]\n"
       ]
      }
     ],
     "prompt_number": 27
    },
    {
     "cell_type": "code",
     "collapsed": false,
     "input": [
      "print([g.type for g in session.query(Gene).filter(Gene.gene_name != Gene.gene_id_name)])"
     ],
     "language": "python",
     "metadata": {},
     "outputs": [
      {
       "output_type": "stream",
       "stream": "stdout",
       "text": [
        "[u'clone', u'clone', u'clone', u'clone', u'clone', u'clone', u'clone', u'clone', u'clone', u'clone', u'clone', u'complex', u'complex', u'complex', u'complex', u'complex', u'complex', u'complex', u'complex', u'complex', u'clone', u'clone', u'clone', u'clone', u'clone']\n"
       ]
      }
     ],
     "prompt_number": 28
    },
    {
     "cell_type": "code",
     "collapsed": false,
     "input": [
      "print([(g.gene_name, g.gene_id_name) for g in session.query(Gene).filter(Gene.type != 'factor')])"
     ],
     "language": "python",
     "metadata": {},
     "outputs": [
      {
       "output_type": "stream",
       "stream": "stdout",
       "text": [
        "[(u'HLH-2_HLH-3', u'HLH-2_HLH-3'), (u'HLH-2_CND-1', u'HLH-2_CND-1'), (u'HLH-2_LIN-32', u'HLH-2_LIN-32'), (u'HLH-2_HLH-19', u'HLH-2_HLH-19'), (u'HLH-2_HLH-4', u'HLH-2_HLH-4'), (u'HLH-2_HLH-8', u'HLH-2_HLH-8'), (u'HLH-2_HLH-15', u'HLH-2_HLH-15'), (u'MXL-1_MDL-1', u'MXL-1_MDL-1'), (u'HLH-2_HLH-14', u'HLH-2_HLH-14'), (u'HLH-2_HLH-10', u'HLH-2_HLH-10'), (u'Jun_Fos', u'Jun_Fos'), (u'PFF0670w', u'PFF0670w_D1'), (u'PFD0985w', u'PFD0985w_D2'), (u'PFD0985w', u'PFD0985w_D1'), (u'PF10_0075', u'PF10_0075_D3'), (u'PF10_0075', u'PF10_0075_D2'), (u'PF10_0075', u'PF10_0075_D1'), (u'PFF0670w', u'PFF0670w_D2'), (u'PFL1900w', u'PFL1900w_D1'), (u'PFL1900w', u'PFL1900w_DLD'), (u'PFF0200c', u'PFF0200c_D1'), (u'PFF0200c', u'PFF0200c_DLD'), (u'', u'GST-CSL-NOTCH1'), (u'', u'GST-CSL'), (u'', u'GST-NOTCH1'), (u'', u'GST-NOTCH1_CSL-6His'), (u'', u'GST-NOTCH1_CSL-6His_MAML1'), (u'', u'MAML1-CSL-GST-NOTCH1'), (u'', u'MAML1-CSL-GST-NOTCH2'), (u'', u'MAML1-CSL-GST-NOTCH3'), (u'', u'MAML1-CSL-GST-NOTCH4'), (u'CLAMP', u'CLAMP_Cterm6Zn'), (u'CLAMP', u'CLAMP_Cterm4Zn'), (u'HLH-1', u'HLH-1_L13R'), (u'HLH-1', u'HLH-1_L13T'), (u'HLH-1', u'HLH-1_L13V')]\n"
       ]
      }
     ],
     "prompt_number": 29
    },
    {
     "cell_type": "code",
     "collapsed": false,
     "input": [
      "# count gene_names\n",
      "print(session.query(func.count(Gene.gene_name)).filter(Gene.type == 'factor').all())\n",
      "print(session.query(func.count(distinct(Gene.gene_name))).filter(Gene.type == 'factor').all())\n",
      "\n",
      "# gene_name duplicates \n",
      "print([g for g in session.query(Gene.gene_name, func.count(Gene.gene_name).label('count'))\\\n",
      "                       .group_by(Gene.gene_name).filter(Gene.type == 'factor') if g.count > 1])"
     ],
     "language": "python",
     "metadata": {},
     "outputs": [
      {
       "output_type": "stream",
       "stream": "stdout",
       "text": [
        "[(510,)]\n",
        "[(494,)]\n",
        "[(u'Cbf1', 2), (u'Ecm22', 2), (u'Ehf', 2), (u'Elf3', 2), (u'Gabpa', 2), (u'HLH-1', 2), (u'Hoxa3', 2), (u'Nkx3-1', 2), (u'PFF0200c', 2), (u'Rap1', 2), (u'Sfpi1', 2), (u'Six4', 2), (u'Six6', 2), (u'Sox4', 2), (u'Spdef', 2), (u'Tcf1', 2)]\n"
       ]
      }
     ],
     "prompt_number": 30
    },
    {
     "cell_type": "code",
     "collapsed": false,
     "input": [
      "repeated_gene_names = [g.gene_name for g in session.query(Gene.gene_name, func.count(Gene.gene_name).label('count'))\\\n",
      "                       .group_by(Gene.gene_name).filter(Gene.type == 'factor') if g.count > 1]\n",
      "\n",
      "print([(g.gene_name, g.species, g.publication_id) for g in session.query(Gene).order_by(Gene.gene_name)\\\n",
      "      .filter(Gene.type == 'factor').filter(Gene.gene_name.in_(repeated_gene_names)).all()])"
     ],
     "language": "python",
     "metadata": {},
     "outputs": [
      {
       "output_type": "stream",
       "stream": "stdout",
       "text": [
        "[(u'Cbf1', u'Saccharomyces cerevisiae', 8), (u'Cbf1', u'Saccharomyces cerevisiae', 1), (u'Ecm22', u'Saccharomyces cerevisiae', 1), (u'Ecm22', u'Saccharomyces cerevisiae', 16), (u'Ehf', u'Mus musculus', 2), (u'Ehf', u'Mus musculus', 13), (u'Elf3', u'Mus musculus', 2), (u'Elf3', u'Mus musculus', 13), (u'Gabpa', u'Mus musculus', 2), (u'Gabpa', u'Mus musculus', 13), (u'HLH-1', u'Caenorhabditis elegans', 3), (u'HLH-1', u'Caenorhabditis elegans', 25), (u'Hoxa3', u'Mus musculus', 2), (u'Hoxa3', u'Mus musculus', 0), (u'Nkx3-1', u'Mus musculus', 2), (u'Nkx3-1', u'Mus musculus', 0), (u'PFF0200c', u'Plasmodium falciparum', 5), (u'PFF0200c', u'Plasmodium falciparum', 15), (u'Rap1', u'Saccharomyces cerevisiae', 8), (u'Rap1', u'Saccharomyces cerevisiae', 1), (u'Sfpi1', u'Mus musculus', 2), (u'Sfpi1', u'Mus musculus', 13), (u'Six4', u'Mus musculus', 0), (u'Six4', u'Drosophila melanogaster', 19), (u'Six6', u'Mus musculus', 2), (u'Six6', u'Mus musculus', 0), (u'Sox4', u'Mus musculus', 2), (u'Sox4', u'Homo sapiens', 11), (u'Spdef', u'Mus musculus', 2), (u'Spdef', u'Mus musculus', 13), (u'Tcf1', u'Mus musculus', 2), (u'Tcf1', u'Mus musculus', 0)]\n"
       ]
      }
     ],
     "prompt_number": 31
    },
    {
     "cell_type": "code",
     "collapsed": false,
     "input": [
      "list(session.query(GeneInfo))[:10]"
     ],
     "language": "python",
     "metadata": {},
     "outputs": [
      {
       "metadata": {},
       "output_type": "pyout",
       "prompt_number": 32,
       "text": [
        "[<GeneInfo(gene_name=PFF0200c, synonyms=NONE, species=Plasmodium falciparum)>,\n",
        " <GeneInfo(gene_name=PF14_0633, synonyms=NONE, species=Plasmodium falciparum)>,\n",
        " <GeneInfo(gene_name=Cgd2_3490, synonyms=NONE, species=Cryptosporidium parvum)>,\n",
        " <GeneInfo(gene_name=CEH-22, synonyms=\"F29F11.5, Homeobox protein ceh-22\", species=Caenorhabditis elegans)>,\n",
        " <GeneInfo(gene_name=Oct-1, synonyms=\"POU2F1, NF-A1, OCT1, Oct-1, Octamer-binding transcription factor 1, OTF1, OTF-1\", species=Homo sapiens)>,\n",
        " <GeneInfo(gene_name=Alx3, synonyms=Homeobox protein aristaless-like 3, Proline-rich transcription factor ALX3, species=Mus musculus)>,\n",
        " <GeneInfo(gene_name=Alx4, synonyms=ALX-4, Aristaless-like 4, Homeobox protein aristaless-like 4, species=Mus musculus)>,\n",
        " <GeneInfo(gene_name=Arx, synonyms=Aristaless-related homeobox, Homeobox protein ARX, species=Mus musculus)>,\n",
        " <GeneInfo(gene_name=Bapx1, synonyms=Bagpipe homeobox protein homolog 1, Homeobox protein Nkx-3.2, NKX3.2, Nkx-3.2, Nkx3-2, Nkx3b, species=Mus musculus)>,\n",
        " <GeneInfo(gene_name=Barhl1, synonyms=Bar-class homeodomain protein MBH2, BarH-like 1 homeobox protein, BarH-related homeobox protein 1, Bhx1, Dres115, Mbh2, MBH2, species=Mus musculus)>]"
       ]
      }
     ],
     "prompt_number": 32
    },
    {
     "cell_type": "code",
     "collapsed": false,
     "input": [
      "print(session.query(func.count(distinct(GeneInfo.gene_name))).all())\n",
      "\n",
      "# duplicates\n",
      "print([g for g in session.query(GeneInfo.gene_name, func.count(GeneInfo.gene_name).label('count'))\\\n",
      "                       .group_by(GeneInfo.gene_name) if g.count > 1])"
     ],
     "language": "python",
     "metadata": {},
     "outputs": [
      {
       "output_type": "stream",
       "stream": "stdout",
       "text": [
        "[(493,)]\n",
        "[(u'Six4', 2), (u'Sox4', 2)]\n"
       ]
      }
     ],
     "prompt_number": 33
    },
    {
     "cell_type": "code",
     "collapsed": false,
     "input": [
      "print(session.query(GeneInfo).filter(GeneInfo.gene_name.in_(['Six4', 'Sox4'])).all())"
     ],
     "language": "python",
     "metadata": {},
     "outputs": [
      {
       "output_type": "stream",
       "stream": "stdout",
       "text": [
        "[<GeneInfo(gene_name=Six4, synonyms=CG3871, Dmel\\CG3871, Dsix4, DSix4, D-six4, D-Six4, six4, six4/5, species=Drosophila melanogaster)>, <GeneInfo(gene_name=Six4, synonyms=AI047561, Arec3, AREC3, Homeobox protein SIX4, Sine oculis homeobox homolog 4, Skeletal muscle-specific ARE binding protein AREC3, TrexBF, species=Mus musculus)>, <GeneInfo(gene_name=Sox4, synonyms=Transcription factor SOX-4, OTTHUMP00000039358, SRY-related HMG-box gene 4, ecotropic viral integration site 16, EVI16\n",
        ", species=Homo sapiens)>, <GeneInfo(gene_name=Sox4, synonyms=AA682046, Sox-4, Transcription factor SOX-4, species=Mus musculus)>]\n"
       ]
      }
     ],
     "prompt_number": 34
    },
    {
     "cell_type": "code",
     "collapsed": false,
     "input": [
      "g_Gene = set(session.query(distinct(Gene.gene_name)).filter(Gene.type == 'factor').all())\n",
      "g_GeneInfo = set(session.query(distinct(GeneInfo.gene_name)).all())\n",
      "\n",
      "print(g_Gene - g_GeneInfo)\n",
      "print(g_GeneInfo - g_Gene)"
     ],
     "language": "python",
     "metadata": {},
     "outputs": [
      {
       "output_type": "stream",
       "stream": "stdout",
       "text": [
        "set([(u'Gcn4',)])\n",
        "set([])\n"
       ]
      }
     ],
     "prompt_number": 35
    },
    {
     "cell_type": "code",
     "collapsed": false,
     "input": [
      "print(session.query(Gene).filter(Gene.gene_name == 'Gcn4').all())"
     ],
     "language": "python",
     "metadata": {},
     "outputs": [
      {
       "output_type": "stream",
       "stream": "stdout",
       "text": [
        "[<Gene(gene_id=285, gene_name=Gcn4, species=Saccharomyces cerevisiae, publication_id=1)>]\n"
       ]
      }
     ],
     "prompt_number": 36
    },
    {
     "cell_type": "code",
     "collapsed": false,
     "input": [
      "print(session.query(GeneInfo).filter(GeneInfo.gene_name == 'Gcn4').all())"
     ],
     "language": "python",
     "metadata": {},
     "outputs": [
      {
       "output_type": "stream",
       "stream": "stdout",
       "text": [
        "[]\n"
       ]
      }
     ],
     "prompt_number": 37
    },
    {
     "cell_type": "code",
     "collapsed": false,
     "input": [
      "for g in session.query(distinct(Gene.species)).filter(Gene.type == 'factor'):\n",
      "    print(g[0])"
     ],
     "language": "python",
     "metadata": {},
     "outputs": [
      {
       "output_type": "stream",
       "stream": "stdout",
       "text": [
        "Plasmodium falciparum\n",
        "Cryptosporidium parvum\n",
        "Caenorhabditis elegans\n",
        "Saccharomyces cerevisiae\n",
        "Homo sapiens\n",
        "Mus musculus\n",
        "Vibrio harveyi\n",
        "Patiria miniata\n",
        "Strongylocentrotus purpuratus\n",
        "Drosophila melanogaster\n",
        "Acanthamoeba castellanii\n",
        "Allomyces macrogynus\n",
        "Ashbya gossypii\n",
        "Aspergillus nidulans\n",
        "Kluyveromyces lactis\n",
        "Monosiga brevisollis\n",
        "Mycosphaerella graminicola\n",
        "Nematostella vectensis\n",
        "Trichoplax adhaerens\n",
        "Tuber melanosporum\n",
        "Arabidopsis thaliana\n"
       ]
      }
     ],
     "prompt_number": 38
    },
    {
     "cell_type": "code",
     "collapsed": false,
     "input": [
      "for s in session.query(distinct(Gene.species)).filter(Gene.type == 'factor'):\n",
      "    print(\"%s\\t%s\" % (session.query(func.count(Gene.gene_id)).filter(Gene.species == s[0]).all()[0][0], s[0]))"
     ],
     "language": "python",
     "metadata": {},
     "outputs": [
      {
       "output_type": "stream",
       "stream": "stdout",
       "text": [
        "32\tPlasmodium falciparum\n",
        "1\tCryptosporidium parvum\n",
        "37\tCaenorhabditis elegans\n",
        "119\tSaccharomyces cerevisiae\n",
        "24\tHomo sapiens\n",
        "300\tMus musculus\n",
        "1\tVibrio harveyi\n",
        "1\tPatiria miniata\n",
        "2\tStrongylocentrotus purpuratus\n",
        "16\tDrosophila melanogaster\n",
        "1\tAcanthamoeba castellanii\n",
        "2\tAllomyces macrogynus\n",
        "1\tAshbya gossypii\n",
        "2\tAspergillus nidulans\n",
        "1\tKluyveromyces lactis\n",
        "1\tMonosiga brevisollis\n",
        "1\tMycosphaerella graminicola\n",
        "1\tNematostella vectensis\n",
        "1\tTrichoplax adhaerens\n",
        "1\tTuber melanosporum\n",
        "1\tArabidopsis thaliana\n"
       ]
      }
     ],
     "prompt_number": 39
    },
    {
     "cell_type": "code",
     "collapsed": false,
     "input": [
      "for s in session.query(distinct(Gene.species)).filter(Gene.type == 'factor'):\n",
      "    if session.query(func.count(Gene.gene_id)).filter(Gene.species == s[0]).all()[0][0] < 3:\n",
      "        print(\"%s\\t\\t\\t%s\" % (session.query(Gene.gene_name).filter(Gene.species == s[0]).all(), s[0]))"
     ],
     "language": "python",
     "metadata": {},
     "outputs": [
      {
       "output_type": "stream",
       "stream": "stdout",
       "text": [
        "[(u'Cgd2_3490',)]\t\t\tCryptosporidium parvum\n",
        "[(u'LuxR',)]\t\t\tVibrio harveyi\n",
        "[(u'PmTbr',)]\t\t\tPatiria miniata\n",
        "[(u'SpTbr',), (u'FoxM_Spur',)]\t\t\tStrongylocentrotus purpuratus\n",
        "[(u'ACA1_126960',)]\t\t\tAcanthamoeba castellanii\n",
        "[(u'AMAG_02766',), (u'AMAG_00796',)]\t\t\tAllomyces macrogynus\n",
        "[(u'AEL327Wp',)]\t\t\tAshbya gossypii\n",
        "[(u'ANID_04985',), (u'ANID_04521',)]\t\t\tAspergillus nidulans\n",
        "[(u'KLLA0F08206p',)]\t\t\tKluyveromyces lactis\n",
        "[(u'FoxN1-4_Mbre',)]\t\t\tMonosiga brevisollis\n",
        "[(u'Fox3_Mgra',)]\t\t\tMycosphaerella graminicola\n",
        "[(u'FoxN2-3_Nvec',)]\t\t\tNematostella vectensis\n",
        "[(u'FoxN2-3_Tadh',)]\t\t\tTrichoplax adhaerens\n",
        "[(u'Fox3_Tmel',)]\t\t\tTuber melanosporum\n",
        "[(u'LUX',)]\t\t\tArabidopsis thaliana\n"
       ]
      }
     ],
     "prompt_number": 40
    },
    {
     "cell_type": "code",
     "collapsed": false,
     "input": [
      "session.query(Gene.publication_id).filter(Gene.gene_name == 'LUX').all()"
     ],
     "language": "python",
     "metadata": {},
     "outputs": [
      {
       "metadata": {},
       "output_type": "pyout",
       "prompt_number": 41,
       "text": [
        "[(26)]"
       ]
      }
     ],
     "prompt_number": 41
    },
    {
     "cell_type": "code",
     "collapsed": false,
     "input": [
      "session.query(Gene).filter(Gene.publication_id == 26).all()"
     ],
     "language": "python",
     "metadata": {},
     "outputs": [
      {
       "metadata": {},
       "output_type": "pyout",
       "prompt_number": 42,
       "text": [
        "[<Gene(gene_id=552, gene_name=LUX, species=Arabidopsis thaliana, publication_id=26)>]"
       ]
      }
     ],
     "prompt_number": 42
    },
    {
     "cell_type": "code",
     "collapsed": false,
     "input": [
      "session.query(GeneInfo.synonyms).filter(GeneInfo.species == 'Arabidopsis thaliana').all()"
     ],
     "language": "python",
     "metadata": {},
     "outputs": [
      {
       "metadata": {},
       "output_type": "pyout",
       "prompt_number": 43,
       "text": [
        "[(u'LUX ARRHYTHMO; PCL1; PHYTOCLOCK 1')]"
       ]
      }
     ],
     "prompt_number": 43
    },
    {
     "cell_type": "code",
     "collapsed": false,
     "input": [
      "for s in session.query(distinct(Gene.species)).filter(Gene.type == 'factor'):\n",
      "    if session.query(func.count(Gene.gene_id)).filter(Gene.species == s[0]).all()[0][0] < 3:\n",
      "        print(\"%s\\t\\t\\t%s\\t\\t\\t%s\" % (session.query(Gene.gene_name).filter(Gene.species == s[0]).all(),\\\n",
      "                              session.query(GeneInfo.synonyms).filter(GeneInfo.species == s[0]).all(),\\\n",
      "                              s[0]))"
     ],
     "language": "python",
     "metadata": {},
     "outputs": [
      {
       "output_type": "stream",
       "stream": "stdout",
       "text": [
        "[(u'Cgd2_3490',)]\t\t\t[(u'NONE',)]\t\t\tCryptosporidium parvum\n",
        "[(u'LuxR',)]\t\t\t[(None,)]\t\t\tVibrio harveyi\n",
        "[(u'PmTbr',)]\t\t\t[(u'',)]\t\t\tPatiria miniata\n",
        "[(u'SpTbr',), (u'FoxM_Spur',)]\t\t\t[(u'FoxM',), (u'',)]\t\t\tStrongylocentrotus purpuratus\n",
        "[(u'ACA1_126960',)]\t\t\t[(u'A.cas Fox',)]\t\t\tAcanthamoeba castellanii\n",
        "[(u'AMAG_02766',), (u'AMAG_00796',)]\t\t\t[(u'',), (u'',)]\t\t\tAllomyces macrogynus\n",
        "[(u'AEL327Wp',)]\t\t\t[(u'A.gos Fox3',)]\t\t\tAshbya gossypii\n",
        "[(u'ANID_04985',), (u'ANID_04521',)]\t\t\t[(u'fhpA, A.nid Fox4',), (u'',)]\t\t\tAspergillus nidulans\n",
        "[(u'KLLA0F08206p',)]\t\t\t[(u'K.lac Fox3',)]\t\t\tKluyveromyces lactis\n",
        "[(u'FoxN1-4_Mbre',)]\t\t\t[(u'M.bre FoxN1/4',)]\t\t\tMonosiga brevisollis\n",
        "[(u'Fox3_Mgra',)]\t\t\t[(u'M.gra Fox3',)]\t\t\tMycosphaerella graminicola\n",
        "[(u'FoxN2-3_Nvec',)]\t\t\t[(u'N.vec FoxN2/3',)]\t\t\tNematostella vectensis"
       ]
      },
      {
       "output_type": "stream",
       "stream": "stdout",
       "text": [
        "\n",
        "[(u'FoxN2-3_Tadh',)]\t\t\t[(u'T.adh FoxN2/3',)]\t\t\tTrichoplax adhaerens\n",
        "[(u'Fox3_Tmel',)]\t\t\t[(u'T.mel Fox3',)]\t\t\tTuber melanosporum\n",
        "[(u'LUX',)]\t\t\t[(u'LUX ARRHYTHMO; PCL1; PHYTOCLOCK 1',)]\t\t\tArabidopsis thaliana\n"
       ]
      }
     ],
     "prompt_number": 44
    },
    {
     "cell_type": "code",
     "collapsed": false,
     "input": [],
     "language": "python",
     "metadata": {},
     "outputs": []
    }
   ],
   "metadata": {}
  }
 ]
}