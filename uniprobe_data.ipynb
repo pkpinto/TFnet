{
 "cells": [
  {
   "cell_type": "markdown",
   "metadata": {},
   "source": [
    "Deleted tables with logs and user details. Renamed \"xxx_ids\" to \"xxxs\". Merged all contig tables to single \"contigs\" table."
   ]
  },
  {
   "cell_type": "markdown",
   "metadata": {},
   "source": [
    "* .tables\n",
    "* .schema tablename"
   ]
  },
  {
   "cell_type": "markdown",
   "metadata": {},
   "source": [
    "# UniProbe data"
   ]
  },
  {
   "cell_type": "code",
   "execution_count": 1,
   "metadata": {
    "collapsed": false
   },
   "outputs": [],
   "source": [
    "from sqlalchemy import create_engine\n",
    "engine = create_engine('sqlite:///uniprobe.db')"
   ]
  },
  {
   "cell_type": "markdown",
   "metadata": {},
   "source": [
    "#### Check structure of the db"
   ]
  },
  {
   "cell_type": "code",
   "execution_count": 2,
   "metadata": {
    "collapsed": false
   },
   "outputs": [],
   "source": [
    "from sqlalchemy import inspect\n",
    "inspector = inspect(engine)"
   ]
  },
  {
   "cell_type": "raw",
   "metadata": {},
   "source": [
    "for tn in inspector.get_table_names():\n",
    "   for c in inspector.get_columns(tn):\n",
    "       print('%s > %s %s : %s' % (tn, '*' if c['primary_key'] > 0 else ' ', c['name'], c['type']))"
   ]
  },
  {
   "cell_type": "markdown",
   "metadata": {},
   "source": [
    "#### Declarative base"
   ]
  },
  {
   "cell_type": "code",
   "execution_count": 3,
   "metadata": {
    "collapsed": false
   },
   "outputs": [],
   "source": [
    "from sqlalchemy.ext.declarative import declarative_base\n",
    "Base = declarative_base()"
   ]
  },
  {
   "cell_type": "code",
   "execution_count": 4,
   "metadata": {
    "collapsed": false
   },
   "outputs": [],
   "source": [
    "from sqlalchemy import Column, ForeignKey, Integer, String, Float, Boolean\n",
    "from sqlalchemy.orm import relationship, backref"
   ]
  },
  {
   "cell_type": "code",
   "execution_count": 5,
   "metadata": {
    "collapsed": false
   },
   "outputs": [],
   "source": [
    "import sqlalchemy.types as types\n",
    "\n",
    "class StrIntBoolean(types.TypeDecorator):\n",
    "\n",
    "    impl = types.Integer\n",
    "    \n",
    "    def process_bind_param(self, value, dialect):\n",
    "        return '1' if value else '0'\n",
    "    def process_result_value(self, value, dialect):\n",
    "        if value is None:\n",
    "            return None\n",
    "        elif value == '1':\n",
    "            return True\n",
    "        elif value == '0':\n",
    "            return False\n",
    "        else:\n",
    "            return None"
   ]
  },
  {
   "cell_type": "code",
   "execution_count": 6,
   "metadata": {
    "collapsed": false
   },
   "outputs": [],
   "source": [
    "class Gene(Base):\n",
    "    __tablename__ = 'genes'\n",
    "\n",
    "    gene_id = Column(Integer, primary_key=True)\n",
    "    gene_name = Column(String, ForeignKey('genomic_info.gene_name'))\n",
    "    species = Column(String, ForeignKey('genomic_info.species'))\n",
    "    publication_id = Column(Integer, ForeignKey('publications.publication_id'))\n",
    "    type = Column(String)\n",
    "    extended_name = Column('gene_id_name', String)\n",
    "\n",
    "    publication = relationship('Publication', backref=backref('genes'))\n",
    "    gene_info = relationship('GeneInfo', backref=backref('genes'),\n",
    "                             primaryjoin='(GeneInfo.gene_name == Gene.gene_name) &\\\n",
    "                                          (GeneInfo.species == Gene.species)')\n",
    "\n",
    "    def __repr__(self):\n",
    "        return '<Gene(gene_id=%s, gene_name=%s, species=%s, publication_id=%s)>' %\\\n",
    "            (self.gene_id, self.gene_name, self.species, self.publication_id)"
   ]
  },
  {
   "cell_type": "code",
   "execution_count": 7,
   "metadata": {
    "collapsed": false
   },
   "outputs": [],
   "source": [
    "class Contig(Base):\n",
    "    __tablename__ = 'contigs'\n",
    "\n",
    "    gene_id = Column(Integer, ForeignKey('genes.gene_id'), primary_key=True)\n",
    "    kmer = Column(Integer, primary_key=True)\n",
    "    enrichment_score = Column(Float)\n",
    "\n",
    "    gene = relationship('Gene', backref=backref('contigs'))\n",
    "\n",
    "    def __repr__(self):\n",
    "        return '<Contig(gene_id=%s, kmer=%s, enrichment_score=%s)>' %\\\n",
    "            (self.gene_id, self.kmer, self.enrichment_score)"
   ]
  },
  {
   "cell_type": "code",
   "execution_count": 8,
   "metadata": {
    "collapsed": false
   },
   "outputs": [],
   "source": [
    "class Publication(Base):\n",
    "    __tablename__ = 'publications'\n",
    "\n",
    "    publication_id = Column(Integer, primary_key=True)\n",
    "    short_ref = Column('small_ref', String)\n",
    "    full_ref = Column(String)\n",
    "\n",
    "    def __repr__(self):\n",
    "        return '<Publication(publication_id=%s, short_ref=%s)>' %\\\n",
    "            (self.publication_id, self.short_ref)"
   ]
  },
  {
   "cell_type": "code",
   "execution_count": 9,
   "metadata": {
    "collapsed": false
   },
   "outputs": [],
   "source": [
    "class GeneInfo(Base):\n",
    "    __tablename__ = 'genomic_info'\n",
    "\n",
    "    gene_name = Column(String, primary_key=True)\n",
    "    name = Column(String)\n",
    "    synonyms = Column(String)\n",
    "    species = Column(String, primary_key=True)\n",
    "    ihop = Column(String)\n",
    "    uniprot = Column(String)\n",
    "    refseq_id = Column(String)\n",
    "    uniq_id = Column(String)\n",
    "    uniq_id_2 = Column(String)\n",
    "    jaspar = Column(String)\n",
    "    description = Column(String)\n",
    "    domain = Column(String)\n",
    "\n",
    "    def __repr__(self):\n",
    "        return '<GeneInfo(gene_name=%s, synonyms=%s, species=%s)>' %\\\n",
    "            (self.gene_name, self.synonyms, self.species)"
   ]
  },
  {
   "cell_type": "markdown",
   "metadata": {},
   "source": [
    "## Access data"
   ]
  },
  {
   "cell_type": "code",
   "execution_count": 10,
   "metadata": {
    "collapsed": false
   },
   "outputs": [],
   "source": [
    "from sqlalchemy.orm import sessionmaker\n",
    "Session = sessionmaker(bind=engine)"
   ]
  },
  {
   "cell_type": "code",
   "execution_count": 11,
   "metadata": {
    "collapsed": false
   },
   "outputs": [],
   "source": [
    "session = Session()"
   ]
  },
  {
   "cell_type": "markdown",
   "metadata": {},
   "source": [
    "# From uniprobe_data.py"
   ]
  },
  {
   "cell_type": "markdown",
   "metadata": {},
   "source": [
    "uniprobe_data.py takes care of defining the engine, the classes and the session. It's just just a cleaned up version of the code above."
   ]
  },
  {
   "cell_type": "code",
   "execution_count": 1,
   "metadata": {
    "collapsed": false
   },
   "outputs": [],
   "source": [
    "from uniprobe_data import *"
   ]
  },
  {
   "cell_type": "markdown",
   "metadata": {},
   "source": [
    "### Testing"
   ]
  },
  {
   "cell_type": "code",
   "execution_count": 2,
   "metadata": {
    "collapsed": false
   },
   "outputs": [
    {
     "data": {
      "text/plain": [
       "[<Contig(gene_id=0, kmer=0, enrichment_score=0.250106)>,\n",
       " <Contig(gene_id=1, kmer=0, enrichment_score=0.295985)>,\n",
       " <Contig(gene_id=2, kmer=0, enrichment_score=0.33732)>,\n",
       " <Contig(gene_id=3, kmer=0, enrichment_score=0.218833)>,\n",
       " <Contig(gene_id=4, kmer=0, enrichment_score=0.357226)>,\n",
       " <Contig(gene_id=5, kmer=0, enrichment_score=0.318749)>,\n",
       " <Contig(gene_id=6, kmer=0, enrichment_score=-0.105257)>,\n",
       " <Contig(gene_id=7, kmer=0, enrichment_score=0.234288)>,\n",
       " <Contig(gene_id=8, kmer=0, enrichment_score=0.208513)>,\n",
       " <Contig(gene_id=9, kmer=0, enrichment_score=0.266657)>]"
      ]
     },
     "execution_count": 2,
     "metadata": {},
     "output_type": "execute_result"
    }
   ],
   "source": [
    "session.query(Contig).filter(Contig.kmer == 0)[:10]"
   ]
  },
  {
   "cell_type": "code",
   "execution_count": 3,
   "metadata": {
    "collapsed": false
   },
   "outputs": [
    {
     "data": {
      "text/plain": [
       "[<Gene(gene_id=0, gene_name=Smad3, species=Mus musculus, publication_id=2)>,\n",
       " <Gene(gene_id=1, gene_name=E2F2, species=Mus musculus, publication_id=2)>,\n",
       " <Gene(gene_id=2, gene_name=Sp4, species=Mus musculus, publication_id=2)>,\n",
       " <Gene(gene_id=3, gene_name=E2F3, species=Mus musculus, publication_id=2)>,\n",
       " <Gene(gene_id=4, gene_name=Sox14, species=Mus musculus, publication_id=2)>,\n",
       " <Gene(gene_id=5, gene_name=Tcfap2a, species=Mus musculus, publication_id=2)>,\n",
       " <Gene(gene_id=6, gene_name=Zic3, species=Mus musculus, publication_id=2)>,\n",
       " <Gene(gene_id=7, gene_name=Egr1, species=Mus musculus, publication_id=2)>,\n",
       " <Gene(gene_id=8, gene_name=Six6, species=Mus musculus, publication_id=2)>,\n",
       " <Gene(gene_id=9, gene_name=Nr2f2, species=Mus musculus, publication_id=2)>]"
      ]
     },
     "execution_count": 3,
     "metadata": {},
     "output_type": "execute_result"
    }
   ],
   "source": [
    "session.query(Gene).filter(Gene.gene_id < 10).order_by(Gene.gene_id).all()"
   ]
  },
  {
   "cell_type": "code",
   "execution_count": 4,
   "metadata": {
    "collapsed": false
   },
   "outputs": [
    {
     "data": {
      "text/plain": [
       "[<Contig(gene_id=104, kmer=0, enrichment_score=0.16832)>,\n",
       " <Contig(gene_id=104, kmer=1, enrichment_score=0.00078)>,\n",
       " <Contig(gene_id=104, kmer=2, enrichment_score=-0.00073)>]"
      ]
     },
     "execution_count": 4,
     "metadata": {},
     "output_type": "execute_result"
    }
   ],
   "source": [
    "session.query(Contig).join(Gene)[:3]"
   ]
  },
  {
   "cell_type": "code",
   "execution_count": 5,
   "metadata": {
    "collapsed": false
   },
   "outputs": [
    {
     "data": {
      "text/plain": [
       "[(<Contig(gene_id=0, kmer=0, enrichment_score=0.250106)>,\n",
       "  <Gene(gene_id=0, gene_name=Smad3, species=Mus musculus, publication_id=2)>),\n",
       " (<Contig(gene_id=1, kmer=0, enrichment_score=0.295985)>,\n",
       "  <Gene(gene_id=1, gene_name=E2F2, species=Mus musculus, publication_id=2)>),\n",
       " (<Contig(gene_id=2, kmer=0, enrichment_score=0.33732)>,\n",
       "  <Gene(gene_id=2, gene_name=Sp4, species=Mus musculus, publication_id=2)>),\n",
       " (<Contig(gene_id=3, kmer=0, enrichment_score=0.218833)>,\n",
       "  <Gene(gene_id=3, gene_name=E2F3, species=Mus musculus, publication_id=2)>),\n",
       " (<Contig(gene_id=4, kmer=0, enrichment_score=0.357226)>,\n",
       "  <Gene(gene_id=4, gene_name=Sox14, species=Mus musculus, publication_id=2)>),\n",
       " (<Contig(gene_id=5, kmer=0, enrichment_score=0.318749)>,\n",
       "  <Gene(gene_id=5, gene_name=Tcfap2a, species=Mus musculus, publication_id=2)>),\n",
       " (<Contig(gene_id=6, kmer=0, enrichment_score=-0.105257)>,\n",
       "  <Gene(gene_id=6, gene_name=Zic3, species=Mus musculus, publication_id=2)>),\n",
       " (<Contig(gene_id=7, kmer=0, enrichment_score=0.234288)>,\n",
       "  <Gene(gene_id=7, gene_name=Egr1, species=Mus musculus, publication_id=2)>),\n",
       " (<Contig(gene_id=8, kmer=0, enrichment_score=0.208513)>,\n",
       "  <Gene(gene_id=8, gene_name=Six6, species=Mus musculus, publication_id=2)>),\n",
       " (<Contig(gene_id=9, kmer=0, enrichment_score=0.266657)>,\n",
       "  <Gene(gene_id=9, gene_name=Nr2f2, species=Mus musculus, publication_id=2)>)]"
      ]
     },
     "execution_count": 5,
     "metadata": {},
     "output_type": "execute_result"
    }
   ],
   "source": [
    "[(c, c.gene) for c in session.query(Contig).filter(Contig.kmer == 0)[:10]]"
   ]
  },
  {
   "cell_type": "code",
   "execution_count": 6,
   "metadata": {
    "collapsed": false
   },
   "outputs": [
    {
     "data": {
      "text/plain": [
       "[(<Gene(gene_id=0, gene_name=Smad3, species=Mus musculus, publication_id=2)>,\n",
       "  <Publication(publication_id=2, short_ref=Badis et al., Science 2009)>,\n",
       "  [<Contig(gene_id=0, kmer=0, enrichment_score=0.250106)>,\n",
       "   <Contig(gene_id=0, kmer=1, enrichment_score=0.205027)>,\n",
       "   <Contig(gene_id=0, kmer=2, enrichment_score=0.125331)>,\n",
       "   <Contig(gene_id=0, kmer=3, enrichment_score=0.151731)>,\n",
       "   <Contig(gene_id=0, kmer=4, enrichment_score=0.10707)>,\n",
       "   <Contig(gene_id=0, kmer=5, enrichment_score=0.230361)>,\n",
       "   <Contig(gene_id=0, kmer=6, enrichment_score=0.114943)>,\n",
       "   <Contig(gene_id=0, kmer=7, enrichment_score=0.031067)>,\n",
       "   <Contig(gene_id=0, kmer=8, enrichment_score=0.150954)>,\n",
       "   <Contig(gene_id=0, kmer=9, enrichment_score=0.074337)>]),\n",
       " (<Gene(gene_id=1, gene_name=E2F2, species=Mus musculus, publication_id=2)>,\n",
       "  <Publication(publication_id=2, short_ref=Badis et al., Science 2009)>,\n",
       "  [<Contig(gene_id=1, kmer=0, enrichment_score=0.295985)>,\n",
       "   <Contig(gene_id=1, kmer=1, enrichment_score=0.230924)>,\n",
       "   <Contig(gene_id=1, kmer=2, enrichment_score=0.144164)>,\n",
       "   <Contig(gene_id=1, kmer=3, enrichment_score=0.22744)>,\n",
       "   <Contig(gene_id=1, kmer=4, enrichment_score=0.184696)>,\n",
       "   <Contig(gene_id=1, kmer=5, enrichment_score=0.195762)>,\n",
       "   <Contig(gene_id=1, kmer=6, enrichment_score=0.213283)>,\n",
       "   <Contig(gene_id=1, kmer=7, enrichment_score=0.054579)>,\n",
       "   <Contig(gene_id=1, kmer=8, enrichment_score=0.151499)>,\n",
       "   <Contig(gene_id=1, kmer=9, enrichment_score=0.179931)>])]"
      ]
     },
     "execution_count": 6,
     "metadata": {},
     "output_type": "execute_result"
    }
   ],
   "source": [
    "[(g, g.publication, g.contigs[:10]) for g in session.query(Gene).filter(Gene.gene_id < 2)]"
   ]
  },
  {
   "cell_type": "code",
   "execution_count": null,
   "metadata": {
    "collapsed": false
   },
   "outputs": [],
   "source": [
    "[(p, p.genes) for p in session.query(Publication)]"
   ]
  },
  {
   "cell_type": "code",
   "execution_count": 6,
   "metadata": {
    "collapsed": false
   },
   "outputs": [
    {
     "name": "stdout",
     "output_type": "stream",
     "text": [
      "[<Gene(gene_id=393, gene_name=PFF0200c, species=Plasmodium falciparum, publication_id=5)>, <Gene(gene_id=478, gene_name=PFF0200c, species=Plasmodium falciparum, publication_id=15)>, <Gene(gene_id=479, gene_name=PFF0200c, species=Plasmodium falciparum, publication_id=15)>, <Gene(gene_id=500, gene_name=PFF0200c, species=Plasmodium falciparum, publication_id=15)>]\n",
      "[<Gene(gene_id=63, gene_name=Hoxa3, species=Mus musculus, publication_id=2)>, <Gene(gene_id=391, gene_name=Hoxa3, species=Mus musculus, publication_id=0)>]\n",
      "[<Gene(gene_id=17, gene_name=Nkx3-1, species=Mus musculus, publication_id=2)>, <Gene(gene_id=389, gene_name=Nkx3-1, species=Mus musculus, publication_id=0)>]\n",
      "[<Gene(gene_id=8, gene_name=Six6, species=Mus musculus, publication_id=2)>, <Gene(gene_id=388, gene_name=Six6, species=Mus musculus, publication_id=0)>]\n",
      "[<Gene(gene_id=89, gene_name=Tcf1, species=Mus musculus, publication_id=2)>, <Gene(gene_id=390, gene_name=Tcf1, species=Mus musculus, publication_id=0)>]\n",
      "[<Gene(gene_id=38, gene_name=Spdef, species=Mus musculus, publication_id=2)>, <Gene(gene_id=406, gene_name=Spdef, species=Mus musculus, publication_id=13)>]\n",
      "[<Gene(gene_id=85, gene_name=Sfpi1, species=Mus musculus, publication_id=2)>, <Gene(gene_id=405, gene_name=Sfpi1, species=Mus musculus, publication_id=13)>]\n",
      "[<Gene(gene_id=13, gene_name=Gabpa, species=Mus musculus, publication_id=2)>, <Gene(gene_id=408, gene_name=Gabpa, species=Mus musculus, publication_id=13)>]\n",
      "[<Gene(gene_id=15, gene_name=Ehf, species=Mus musculus, publication_id=2)>, <Gene(gene_id=403, gene_name=Ehf, species=Mus musculus, publication_id=13)>]\n",
      "[<Gene(gene_id=90, gene_name=Elf3, species=Mus musculus, publication_id=2)>, <Gene(gene_id=407, gene_name=Elf3, species=Mus musculus, publication_id=13)>]\n",
      "[<Gene(gene_id=534, gene_name=CLAMP, species=Drosophila melanogaster, publication_id=21)>, <Gene(gene_id=535, gene_name=CLAMP, species=Drosophila melanogaster, publication_id=21)>, <Gene(gene_id=536, gene_name=CLAMP, species=Drosophila melanogaster, publication_id=21)>]\n",
      "[<Gene(gene_id=397, gene_name=Cbf1, species=Saccharomyces cerevisiae, publication_id=8)>, <Gene(gene_id=309, gene_name=Cbf1, species=Saccharomyces cerevisiae, publication_id=1)>]\n",
      "[<Gene(gene_id=398, gene_name=Rap1, species=Saccharomyces cerevisiae, publication_id=8)>, <Gene(gene_id=321, gene_name=Rap1, species=Saccharomyces cerevisiae, publication_id=1)>]\n",
      "[<Gene(gene_id=305, gene_name=Ecm22, species=Saccharomyces cerevisiae, publication_id=1)>, <Gene(gene_id=495, gene_name=Ecm22, species=Saccharomyces cerevisiae, publication_id=16)>]\n",
      "[<Gene(gene_id=387, gene_name=HLH-1, species=Caenorhabditis elegans, publication_id=3)>, <Gene(gene_id=548, gene_name=HLH-1, species=Caenorhabditis elegans, publication_id=25)>, <Gene(gene_id=549, gene_name=HLH-1, species=Caenorhabditis elegans, publication_id=25)>, <Gene(gene_id=550, gene_name=HLH-1, species=Caenorhabditis elegans, publication_id=25)>, <Gene(gene_id=551, gene_name=HLH-1, species=Caenorhabditis elegans, publication_id=25)>]\n",
      "[<Gene(gene_id=445, gene_name=PF10_0075, species=Plasmodium falciparum, publication_id=15)>, <Gene(gene_id=444, gene_name=PF10_0075, species=Plasmodium falciparum, publication_id=15)>, <Gene(gene_id=443, gene_name=PF10_0075, species=Plasmodium falciparum, publication_id=15)>, <Gene(gene_id=496, gene_name=PF10_0075, species=Plasmodium falciparum, publication_id=15)>]\n",
      "[<Gene(gene_id=450, gene_name=PFL1900w, species=Plasmodium falciparum, publication_id=15)>, <Gene(gene_id=451, gene_name=PFL1900w, species=Plasmodium falciparum, publication_id=15)>, <Gene(gene_id=499, gene_name=PFL1900w, species=Plasmodium falciparum, publication_id=15)>]\n",
      "[<Gene(gene_id=447, gene_name=PFD0985w, species=Plasmodium falciparum, publication_id=15)>, <Gene(gene_id=446, gene_name=PFD0985w, species=Plasmodium falciparum, publication_id=15)>, <Gene(gene_id=497, gene_name=PFD0985w, species=Plasmodium falciparum, publication_id=15)>]\n",
      "[<Gene(gene_id=448, gene_name=PFF0670w, species=Plasmodium falciparum, publication_id=15)>, <Gene(gene_id=449, gene_name=PFF0670w, species=Plasmodium falciparum, publication_id=15)>, <Gene(gene_id=498, gene_name=PFF0670w, species=Plasmodium falciparum, publication_id=15)>]\n"
     ]
    }
   ],
   "source": [
    "for gene_info in session.query(GeneInfo):\n",
    "    if len(gene_info.genes) > 1:\n",
    "        print(gene_info.genes)"
   ]
  },
  {
   "cell_type": "code",
   "execution_count": 8,
   "metadata": {
    "collapsed": false
   },
   "outputs": [
    {
     "data": {
      "text/plain": [
       "[(<Gene(gene_id=0, gene_name=Smad3, species=Mus musculus, publication_id=2)>,\n",
       "  <GeneInfo(gene_name=Smad3, synonyms=AU022421, Mad3, Madh3, mMad3, Mothers against decapentaplegic homolog 3, Mothers against DPP homolog 3, Smad 3, SMAD 3, species=Mus musculus)>),\n",
       " (<Gene(gene_id=1, gene_name=E2F2, species=Mus musculus, publication_id=2)>,\n",
       "  <GeneInfo(gene_name=E2F2, synonyms=E2F-2, Transcription factor E2F2, species=Mus musculus)>),\n",
       " (<Gene(gene_id=2, gene_name=Sp4, species=Mus musculus, publication_id=2)>,\n",
       "  <GeneInfo(gene_name=Sp4, synonyms=5730497N03Rik, HF1-b, HF-1b, Transcription factor Sp4, species=Mus musculus)>),\n",
       " (<Gene(gene_id=3, gene_name=E2F3, species=Mus musculus, publication_id=2)>,\n",
       "  <GeneInfo(gene_name=E2F3, synonyms=E2F-3, E2f3a, E2F3b, mKIAA0075, Transcription factor E2F3, species=Mus musculus)>),\n",
       " (<Gene(gene_id=4, gene_name=Sox14, species=Mus musculus, publication_id=2)>,\n",
       "  <GeneInfo(gene_name=Sox14, synonyms=Sox-14, Transcription factor SOX-14, species=Mus musculus)>),\n",
       " (<Gene(gene_id=5, gene_name=Tcfap2a, species=Mus musculus, publication_id=2)>,\n",
       "  <GeneInfo(gene_name=Tcfap2a, synonyms=Activating enhancer-binding protein 2 alpha, Activator protein 2, Ap2, AP-2, Ap-2 (a), AP2-alpha, AP-2 alpha, Ap2tf, Tfap2a, Transcription factor AP-2 alpha, species=Mus musculus)>),\n",
       " (<Gene(gene_id=6, gene_name=Zic3, species=Mus musculus, publication_id=2)>,\n",
       "  <GeneInfo(gene_name=Zic3, synonyms=Zinc finger protein of the cerebellum 3, Zinc finger protein ZIC 3, species=Mus musculus)>),\n",
       " (<Gene(gene_id=7, gene_name=Egr1, species=Mus musculus, publication_id=2)>,\n",
       "  <GeneInfo(gene_name=Egr1, synonyms=A530045N19Rik, Early growth response protein 1, egr, Egr-1, EGR-1, ETR103, Krox-1, Krox24, Krox-24, Krox-24 protein, Nerve growth factor-induced protein A, NGF1-A, NGFIA, NGFI-A, TIS8, Transcription factor Zif268, Zenk, Zfp-6, Zif268, species=Mus musculus)>),\n",
       " (<Gene(gene_id=8, gene_name=Six6, species=Mus musculus, publication_id=2)>,\n",
       "  <GeneInfo(gene_name=Six6, synonyms=Homeobox protein SIX6, Optic homeobox 2, Optx2, Sine oculis homeobox homolog 6, Six9, Six9 protein, species=Mus musculus)>),\n",
       " (<Gene(gene_id=9, gene_name=Nr2f2, species=Mus musculus, publication_id=2)>,\n",
       "  <GeneInfo(gene_name=Nr2f2, synonyms=2700033K02Rik, 9430015G03Rik, Apolipoprotein AI regulatory protein 1, Aporp1, Arp1, Arp-1, ARP-1, COUP-TF2, COUPTFB, COUP-TFII, COUP-TF II, COUP transcription factor 2, SVP40, Tcfcoup2, Tfcoup2, species=Mus musculus)>)]"
      ]
     },
     "execution_count": 8,
     "metadata": {},
     "output_type": "execute_result"
    }
   ],
   "source": [
    "[(g, g.gene_info) for g in session.query(Gene).filter(Gene.gene_id < 10)]"
   ]
  },
  {
   "cell_type": "code",
   "execution_count": 9,
   "metadata": {
    "collapsed": false
   },
   "outputs": [
    {
     "data": {
      "text/plain": [
       "[(<Gene(gene_id=285, gene_name=Gcn4, species=Saccharomyces cerevisiae, publication_id=1)>,\n",
       "  u'factor',\n",
       "  None)]"
      ]
     },
     "execution_count": 9,
     "metadata": {},
     "output_type": "execute_result"
    }
   ],
   "source": [
    "[(g, g.type, g.gene_info) for g in session.query(Gene).filter(Gene.gene_id == 285)]"
   ]
  },
  {
   "cell_type": "code",
   "execution_count": 11,
   "metadata": {
    "collapsed": false
   },
   "outputs": [
    {
     "data": {
      "text/plain": [
       "[(0, u'Q8BUN5'),\n",
       " (1, u'P56931'),\n",
       " (2, u'Q62445'),\n",
       " (3, u'O35261'),\n",
       " (4, u'Q04892'),\n",
       " (5, u'P34056'),\n",
       " (6, u'Q62521'),\n",
       " (7, u'P08046'),\n",
       " (8, u'Q9QZ28'),\n",
       " (9, u'P43135')]"
      ]
     },
     "execution_count": 11,
     "metadata": {},
     "output_type": "execute_result"
    }
   ],
   "source": [
    "[(g.gene_id, g.gene_info.uniprot) for g in session.query(Gene).filter(Gene.gene_id < 10)]"
   ]
  },
  {
   "cell_type": "code",
   "execution_count": 12,
   "metadata": {
    "collapsed": false
   },
   "outputs": [
    {
     "data": {
      "text/plain": [
       "[(0, u'Q8BUN5'),\n",
       " (1, u'P56931'),\n",
       " (2, u'Q62445'),\n",
       " (3, u'O35261'),\n",
       " (4, u'Q04892'),\n",
       " (5, u'P34056'),\n",
       " (6, u'Q62521'),\n",
       " (7, u'P08046'),\n",
       " (8, u'Q9QZ28'),\n",
       " (9, u'P43135')]"
      ]
     },
     "execution_count": 12,
     "metadata": {},
     "output_type": "execute_result"
    }
   ],
   "source": [
    "[(g[0].gene_id, g[1].uniprot) for g in session.query(Gene, GeneInfo).filter(Gene.gene_id < 10)\\\n",
    "                                         .filter(GeneInfo.gene_name == Gene.gene_name)\\\n",
    "                                         .filter(GeneInfo.species == Gene.species)]"
   ]
  },
  {
   "cell_type": "code",
   "execution_count": 2,
   "metadata": {
    "collapsed": false
   },
   "outputs": [
    {
     "data": {
      "text/plain": [
       "[(<Contig(gene_id=0, kmer=0, enrichment_score=0.250106)>,\n",
       "  u'>sp|Q8BUN5|SMAD3_MOUSE Mothers against decapentaplegic homolog 3 OS=Mus musculus GN=Smad3 PE=1 SV=2\\nMSSILPFTPPIVKRLLGWKKGEQNGQEEKWCEKAVKSLVKKLKKTGQLDELEKAITTQNVNTKCITIPRSLDGRLQVSHRKGLPHVIYCRLWRWPDLHSHHELRAMELCEFAFNMKKDEVCVNPYHYQRVETPVLPPVLVPRHTEIPAEFPPLDDYSHSIPENTNFPAGIEPQSNIPETPPPGYLSEDGETSDHQMNHSMDAGSPNLSPNPMSPAHNNLDLQPVTYCEPAFWCSISYYELNQRVGETFHASQPSMTVDGFTDPSNSERFCLGLLSNVNRNAAVELTRRHIGRGVRLYYIGGEVFAECLSDSAIFVQSPNCNQRYGWHPATVCKIPPGCNLKIFNNQEFAALLAQSVNQGFEAVYQLTRMCTIRMSFVKGWGAEYRRQTVTSTPCWIELHLNGPLQWLDKVLTQMGSPSIRCSSVS'),\n",
       " (<Contig(gene_id=1, kmer=0, enrichment_score=0.295985)>,\n",
       "  u'>sp|P56931|E2F2_MOUSE Transcription factor E2F2 OS=Mus musculus GN=E2f2 PE=1 SV=2\\nMLRAPRTLAPATAQPTKSLPALNPTELWPSGLSSPQLCPATTATTYYTSLYTQTVPSSVALGTCLDATPHGPEGQIVRCAPAGRLPAKRKLDLEGIGRPTVPEFRTPKGKCIRVDGLPSPKTPKSPGEKTRYDTSLGLLTKKFIYLLSESEDGVLDLNWAAEVLDVQKRRIYDITNVLEGIQLIRKKSKNNIQWVGRELFEDPTRPSRQQQLGQELKELMNAEQTLDQLIQSCSLSFKHLTEDNANKKLAYVTYQDIRAVGNFKEQTVIAVKAPPQTRLEVPDRAEENLQIYLKSTQGPIEVYLCPEEGQEPDSPAKEALPSTSALSPIPDCAQPGCSTDSGIAETIEPSVLIPQPIPPPPPPPLPPAPSLVPLEATDNMLELSHPLLQQTEDQFLSPILAANSPLISFSPPLDQDEYLWGMDEGEGISDLFDSYDLGDLLIN'),\n",
       " (<Contig(gene_id=2, kmer=0, enrichment_score=0.33732)>,\n",
       "  u'>sp|Q62445|SP4_MOUSE Transcription factor Sp4 OS=Mus musculus GN=Sp4 PE=2 SV=2\\nMSDQKKEEEEEAAAAMATEGGKTSEPENNNKKPKTSGSQDSHPSPLALLAATCSKIGTPGENQATGQQQIIIDPSQGLVQLQNQPQQLELVTTQLAGNAWQLVASTPPASKENNVSQPASSSSSSSSSNNGSSSPTKTKSGNPSTPNQFQVIQVQNPSGSVQYQVIPQLQTVEGQQIQINPTSSSSLQDLQGQIQLISAGNNQAILTAANRTASGNILAQNLANQTVPVQIRPGVSIPLQLQTLPGTQAQVVTTLPINIGGVTLALPVINNVTAGGGTGQVGQPTTTTDSGTSNGNQLVSTPTTSTAPASTMPESPSSSTTCTTTASTTLTSSDTLVSSADTGQYASTSASSSERTIEEPQTPAATESEAQSSSQLQSNGIQNAQDQSNSLQQVQIVGQPILQQIQIQQPQQQIIQAIPPQSFQLQSGQTIQTIQQQPLQNVQLQAVNPTQVLIRAPTLTPSGQISWQTVQVQNIQSLSNLQVQNAGLSQQLTITPVSSSGGTTLAQIAPVAVAGAPITLNTAQLASVPNLQTVSVANLGAAGVQVQGVPVTITSVAGQQQGQDGVKVQQATIAPVTVAVGGIANATIGAVSPDQLTQVHLQQGQQTSDAEVQPGKRLRRVACSCPNCREGEGRGSSEPGKKKQHVCHIEGCGKVYGKTSHLRAHLRWHTGERPFICNWMFCGKRFTRSDELQRHRRTHTGEKRFECPECSKRFMRSDHLSKHVKTHQNKKGGGTALAIVTSGELDSSVTEVLGSPRIVTVAAISQDSNPATPNVSTNMEEF'),\n",
       " (<Contig(gene_id=3, kmer=0, enrichment_score=0.218833)>,\n",
       "  u'>sp|O35261|E2F3_MOUSE Transcription factor E2F3 OS=Mus musculus GN=E2f3 PE=1 SV=2\\nMRKGIQPALEQYLVTAGGGEGAAVVAAAAAASMDKRALLASPGFAAAAAPGTYIQILTTNPSTTSCATSLQSGALTAGPLLPSVPGTEPAASSLYTTPQGPSSRVGLLQQPPAPGRGGGGGPPAKRRLELGESGHQYLSDGLKTPKGKGRAALRSPDSPKTPKSPSEKTRYDTSLGLLTKKFIQLLSQSPDGVLDLNKAAEVLKVQKRRIYDITNVLEGIHLIKKKSKNNVQWMGCSLSEDGGMLAQCQGLSKEVTELSQEEKKLDELIQSCTLDLKLLTEDSENQRLAYVTYQDIRKISGLKDQTVIVVKAPPETRLEVPDSIESLQIHLASTQGPIEVYLCPEETETHRPMKTNNQDHNGNIPKPTSKDLASNNSGHSDCSVSTANLSPLASPANLLQQTEDQIPSNLEGPFVNLLPPLLQEDYLLSLGEEEGISDLFDAYDLEKLPLVEDFMCS'),\n",
       " (<Contig(gene_id=4, kmer=0, enrichment_score=0.357226)>,\n",
       "  u'>sp|Q04892|SOX14_MOUSE Transcription factor SOX-14 OS=Mus musculus GN=Sox14 PE=2 SV=2\\nMSKPSDHIKRPMNAFMVWSRGQRRKMAQENPKMHNSEISKRLGAEWKLLSEAEKRPYIDEAKRLRAQHMKEHPDYKYRPRRKPKNLLKKDRYVFPLPYLGDTDPLKAAGLPVGASDGLLSAPEKARAFLPPASAPYSLLDPAQFSSSAIQKMGEVPHTLATSALPYASTLGYQNGAFGSLSCPSQHTHTHPSPTNPGYVVPCNCTAWSASTLQPPVAYILFPGMTKTGIDPYSSAHATAM'),\n",
       " (<Contig(gene_id=5, kmer=0, enrichment_score=0.318749)>,\n",
       "  u'>sp|P34056|AP2A_MOUSE Transcription factor AP-2-alpha OS=Mus musculus GN=Tfap2a PE=1 SV=2\\nMLWKLTDNIKYEDCEDRHDGTSNGTARLPQLGTVGQSPYTSAPPLSHTPNADFQPPYFPPPYQPIYPQSQDPYSHVNDPYSLNPLHAQPQPQHPGWPGQRQSQESGLLHTHRGLPHQLSGLDPRRDYRRHEDLLHGPHALGSGLGDLPIHSLPHAIEDVPHVEDPGINIPDQTVIKKGPVSLSKSNSNAVSAIPINKDNLFGGVVNPNEVFCSVPGRLSLLSSTSKYKVTVAEVQRRLSPPECLNASLLGGVLRRAKSKNGGRSLREKLDKIGLNLPAGRRKAANVTLLTSLVEGEAVHLARDFGYVCETEFPAKAVAEFLNRQHSDPNEQVARKNMLLATKQICKEFTDLLAQDRSPLGNSRPNPILEPGIQSCLTHFNLISHGFGSPAVCAAVTALQNYLTEALKAMDKMYLSNNPNSHTDNSAKSSDKEEKHRK'),\n",
       " (<Contig(gene_id=6, kmer=0, enrichment_score=-0.105257)>,\n",
       "  u'>sp|Q62521|ZIC3_MOUSE Zinc finger protein ZIC 3 OS=Mus musculus GN=Zic3 PE=1 SV=2\\nMTMLLDGGPQFPGLGVGSFGAPRHHEMPNREPAGMGLNPFGDSTHAAAAAAAAAAFKLSPATAHDLSSGQSSAFTPQGSGYANALGHHHHHHHHHHASQVPTYGGAASAAFNSTRDFLFRQRGSGLSEAASGGGQHGLFAGSASSLHAPAGIPEPPSYLLFPGLHEQGAGHPSPTGHVDNNQVHLGLRGELFGRADPYRPVASPRTDPYAASAQFPNYSPMNMNMGVNVAAHHGPGAFFRYMRQPIKQELSCKWIEEAQLSRPKKSCDRTFSTMHELVTHVTMEHVGGPEQNNHVCYWEECPREGKSFKAKYKLVNHIRVHTGEKPFPCPFPGCGKIFARSENLKIHKRTHTGEKPFKCEFEGCDRRFANSSDRKKHMHVHTSDKPYICKVCDKSYTHPSSLRKHMKVHESQGSDSSPAASSGYESSTPPAIASANSKDTTKTPSAVQTSTSHNPGLPPNFNEWYV'),\n",
       " (<Contig(gene_id=7, kmer=0, enrichment_score=0.234288)>,\n",
       "  u'>sp|P08046|EGR1_MOUSE Early growth response protein 1 OS=Mus musculus GN=Egr1 PE=1 SV=2\\nMAAAKAEMQLMSPLQISDPFGSFPHSPTMDNYPKLEEMMLLSNGAPQFLGAAGTPEGSGGNSSSSTSSGGGGGGGSNSGSSAFNPQGEPSEQPYEHLTTESFSDIALNNEKAMVETSYPSQTTRLPPITYTGRFSLEPAPNSGNTLWPEPLFSLVSGLVSMTNPPTSSSSAPSPAASSSSSASQSPPLSCAVPSNDSSPIYSAAPTFPTPNTDIFPEPQSQAFPGSAGTALQYPPPAYPATKGGFQVPMIPDYLFPQQQGDLSLGTPDQKPFQGLENRTQQPSLTPLSTIKAFATQSGSQDLKALNTTYQSQLIKPSRMRKYPNRPSKTPPHERPYACPVESCDRRFSRSDELTRHIRIHTGQKPFQCRICMRNFSRSDHLTTHIRTHTGEKPFACDICGRKFARSDERKRHTKIHLRQKDKKADKSVVASPAASSLSSYPSPVATSYPSPATTSFPSPVPTSYSSPGSSTYPSPAHSGFPSPSVATTFASVPPAFPTQVSSFPSAGVSSSFSTSTGLSDMTATFSPRTIEIC'),\n",
       " (<Contig(gene_id=8, kmer=0, enrichment_score=0.208513)>,\n",
       "  u'>sp|Q9QZ28|SIX6_MOUSE Homeobox protein SIX6 OS=Mus musculus GN=Six6 PE=1 SV=2\\nMFQLPILNFSPQQVAGVCETLEESGDVERLGRFLWSLPVAPAACEALNKNESVLRARAIVAFHGGNYRELYHILENHKFTKESHAKLQALWLEAHYQEAEKLRGRPLGPVDKYRVRKKFPLPRTIWDGEQKTHCFKERTRHLLREWYLQDPYPNPSKKRELAQATGLTPTQVGNWFKNRRQRDRAAAAKNRLQQQVLSQGPGRVLRSEGEGTPEVLGVASSPAASLSSKAATSAISITSSDSECDI'),\n",
       " (<Contig(gene_id=9, kmer=0, enrichment_score=0.266657)>,\n",
       "  u'>sp|P43135|COT2_MOUSE COUP transcription factor 2 OS=Mus musculus GN=Nr2f2 PE=1 SV=2\\nMAMVVSTWRDPQDEVPGSQGSQASQAPPVPGPPPGAPHTPQTPGQGGPASTPAQTAAGGQGGPGGPGSDKQQQQQHIECVVCGDKSSGKHYGQFTCEGCKSFFKRSVRRNLSYTCRANRNCPIDQHHRNQCQYCRLKKCLKVGMRREAVQRGRMPPTQPTHGQFALTNGDPLNCHSYLSGYISLLLRAEPYPTSRFGSQCMQPNNIMGIENICELAARMLFSAVEWARNIPFFPDLQITDQVALLRLTWSELFVLNAAQCSMPLHVAPLLAAAGLHASPMSADRVVAFMDHIRIFQEQVEKLKALHVDSAEYSCLKAIVLFTSDACGLSDVAHVESLQEKSQCALEEYVRSQYPNQPTRFGKLLLRLPSLRTVSSSVIEQLFFVRLVGKTPIETLIRDMLLSGSSFNWPYMAIQ')]"
      ]
     },
     "execution_count": 2,
     "metadata": {},
     "output_type": "execute_result"
    }
   ],
   "source": [
    "[(c, c.gene.gene_info.gene_data.fasta) for c in session.query(Contig).filter(Contig.kmer == 0)[:10]]"
   ]
  },
  {
   "cell_type": "markdown",
   "metadata": {},
   "source": [
    "## Data exploration"
   ]
  },
  {
   "cell_type": "code",
   "execution_count": 3,
   "metadata": {
    "collapsed": false
   },
   "outputs": [],
   "source": [
    "from sqlalchemy import func\n",
    "from sqlalchemy import distinct"
   ]
  },
  {
   "cell_type": "markdown",
   "metadata": {},
   "source": [
    "### Repeated gene_info"
   ]
  },
  {
   "cell_type": "code",
   "execution_count": 4,
   "metadata": {
    "collapsed": false
   },
   "outputs": [
    {
     "data": {
      "text/plain": [
       "[(u'', 21), (u'P08046', 2)]"
      ]
     },
     "execution_count": 4,
     "metadata": {},
     "output_type": "execute_result"
    }
   ],
   "source": [
    "[gene_info for gene_info in\\\n",
    " session.query(GeneInfo.uniprot, func.count(GeneInfo.uniprot).label('count')).group_by(GeneInfo.uniprot)\\\n",
    " if gene_info.count > 1]"
   ]
  },
  {
   "cell_type": "code",
   "execution_count": 5,
   "metadata": {
    "collapsed": false
   },
   "outputs": [
    {
     "data": {
      "text/plain": [
       "[(<GeneInfo(gene_name=Egr1, synonyms=A530045N19Rik, Early growth response protein 1, egr, Egr-1, EGR-1, ETR103, Krox-1, Krox24, Krox-24, Krox-24 protein, Nerve growth factor-induced protein A, NGF1-A, NGFIA, NGFI-A, TIS8, Transcription factor Zif268, Zenk, Zfp-6, Zif268, species=Mus musculus)>,\n",
       "  [<Gene(gene_id=7, gene_name=Egr1, species=Mus musculus, publication_id=2)>]),\n",
       " (<GeneInfo(gene_name=Zif268, synonyms=early growth response 1, A530045N19Rik, Early growth response protein 1, egr, Egr-1, EGR-1, ETR103, Krox-1, Krox24, Krox-24, Krox-24 protein, Nerve growth factor-induced protein A, NGF1-A, NGFIA, NGFI-A, TIS8, Transcription factor Zif268, Zenk, Zfp-6, species=Mus musculus)>,\n",
       "  [<Gene(gene_id=400, gene_name=Zif268, species=Mus musculus, publication_id=10)>])]"
      ]
     },
     "execution_count": 5,
     "metadata": {},
     "output_type": "execute_result"
    }
   ],
   "source": [
    "[(gene_info, gene_info.genes) for gene_info in session.query(GeneInfo).filter(GeneInfo.uniprot == u'P08046')]"
   ]
  },
  {
   "cell_type": "code",
   "execution_count": 6,
   "metadata": {
    "collapsed": false
   },
   "outputs": [
    {
     "data": {
      "text/plain": [
       "[<GeneInfo(gene_name=Zif268, synonyms=early growth response 1, A530045N19Rik, Early growth response protein 1, egr, Egr-1, EGR-1, ETR103, Krox-1, Krox24, Krox-24, Krox-24 protein, Nerve growth factor-induced protein A, NGF1-A, NGFIA, NGFI-A, TIS8, Transcription factor Zif268, Zenk, Zfp-6, species=Mus musculus)>]"
      ]
     },
     "execution_count": 6,
     "metadata": {},
     "output_type": "execute_result"
    }
   ],
   "source": [
    "session.query(GeneInfo).filter(GeneInfo.gene_name == 'Zif268').all()"
   ]
  },
  {
   "cell_type": "code",
   "execution_count": 7,
   "metadata": {
    "collapsed": false
   },
   "outputs": [
    {
     "data": {
      "text/plain": [
       "[<GeneInfo(gene_name=Egr1, synonyms=A530045N19Rik, Early growth response protein 1, egr, Egr-1, EGR-1, ETR103, Krox-1, Krox24, Krox-24, Krox-24 protein, Nerve growth factor-induced protein A, NGF1-A, NGFIA, NGFI-A, TIS8, Transcription factor Zif268, Zenk, Zfp-6, Zif268, species=Mus musculus)>]"
      ]
     },
     "execution_count": 7,
     "metadata": {},
     "output_type": "execute_result"
    }
   ],
   "source": [
    "session.query(GeneInfo).filter(GeneInfo.gene_name == 'Egr1').all()"
   ]
  },
  {
   "cell_type": "code",
   "execution_count": 8,
   "metadata": {
    "collapsed": false
   },
   "outputs": [],
   "source": [
    "session.execute(Gene.__table__.update().where(Gene.gene_id == 400).values(gene_name='Egr1'))\n",
    "session.query(GeneInfo).filter(GeneInfo.gene_name == 'Zif268').delete()\n",
    "session.commit()"
   ]
  },
  {
   "cell_type": "code",
   "execution_count": 9,
   "metadata": {
    "collapsed": false
   },
   "outputs": [
    {
     "data": {
      "text/plain": [
       "[(u'', 21)]"
      ]
     },
     "execution_count": 9,
     "metadata": {},
     "output_type": "execute_result"
    }
   ],
   "source": [
    "[gene_info for gene_info in\\\n",
    " session.query(GeneInfo.uniprot, func.count(GeneInfo.uniprot).label('count')).group_by(GeneInfo.uniprot)\\\n",
    " if gene_info.count > 1]"
   ]
  },
  {
   "cell_type": "code",
   "execution_count": 10,
   "metadata": {
    "collapsed": false
   },
   "outputs": [
    {
     "data": {
      "text/plain": [
       "[(<GeneInfo(gene_name=Egr1, synonyms=A530045N19Rik, Early growth response protein 1, egr, Egr-1, EGR-1, ETR103, Krox-1, Krox24, Krox-24, Krox-24 protein, Nerve growth factor-induced protein A, NGF1-A, NGFIA, NGFI-A, TIS8, Transcription factor Zif268, Zenk, Zfp-6, Zif268, species=Mus musculus)>,\n",
       "  [<Gene(gene_id=400, gene_name=Egr1, species=Mus musculus, publication_id=10)>,\n",
       "   <Gene(gene_id=7, gene_name=Egr1, species=Mus musculus, publication_id=2)>])]"
      ]
     },
     "execution_count": 10,
     "metadata": {},
     "output_type": "execute_result"
    }
   ],
   "source": [
    "[(gene_info, gene_info.genes) for gene_info in session.query(GeneInfo).filter(GeneInfo.uniprot == u'P08046')]"
   ]
  },
  {
   "cell_type": "code",
   "execution_count": 13,
   "metadata": {
    "collapsed": false
   },
   "outputs": [
    {
     "data": {
      "text/plain": [
       "[<GeneInfo(gene_name=Egr1, synonyms=A530045N19Rik, Early growth response protein 1, egr, Egr-1, EGR-1, ETR103, Krox-1, Krox24, Krox-24, Krox-24 protein, Nerve growth factor-induced protein A, NGF1-A, NGFIA, NGFI-A, TIS8, Transcription factor Zif268, Zenk, Zfp-6, Zif268, species=Mus musculus)>]"
      ]
     },
     "execution_count": 13,
     "metadata": {},
     "output_type": "execute_result"
    }
   ],
   "source": [
    "[gene_data.gene_info for gene_data in session.query(GeneData).filter(GeneData.uniprot == u'P08046')]"
   ]
  },
  {
   "cell_type": "code",
   "execution_count": 14,
   "metadata": {
    "collapsed": false
   },
   "outputs": [
    {
     "data": {
      "text/plain": [
       "[(u'', 21), (u'P31257', 2)]"
      ]
     },
     "execution_count": 14,
     "metadata": {},
     "output_type": "execute_result"
    }
   ],
   "source": [
    "[gene_info for gene_info in\\\n",
    " session.query(GeneInfo.uniprot, func.count(GeneInfo.uniprot).label('count')).group_by(GeneInfo.uniprot)\\\n",
    " if gene_info.count > 1]"
   ]
  },
  {
   "cell_type": "markdown",
   "metadata": {},
   "source": [
    "### Types"
   ]
  },
  {
   "cell_type": "code",
   "execution_count": 28,
   "metadata": {
    "collapsed": false
   },
   "outputs": [
    {
     "name": "stdout",
     "output_type": "stream",
     "text": [
      "[(u'factor',), (u'complex',), (u'clone',)]\n"
     ]
    }
   ],
   "source": [
    "print(session.query(distinct(Gene.type)).all())"
   ]
  },
  {
   "cell_type": "code",
   "execution_count": 29,
   "metadata": {
    "collapsed": false
   },
   "outputs": [
    {
     "name": "stdout",
     "output_type": "stream",
     "text": [
      "[(510,)]\n",
      "[(20,)]\n",
      "[(16,)]\n"
     ]
    }
   ],
   "source": [
    "print(session.query(func.count(Gene.gene_id)).filter(Gene.type == 'factor').all())\n",
    "print(session.query(func.count(Gene.gene_id)).filter(Gene.type == 'complex').all())\n",
    "print(session.query(func.count(Gene.gene_id)).filter(Gene.type == 'clone').all())"
   ]
  },
  {
   "cell_type": "code",
   "execution_count": 31,
   "metadata": {
    "collapsed": false
   },
   "outputs": [
    {
     "name": "stdout",
     "output_type": "stream",
     "text": [
      "[448, 447, 446, 445, 444, 443, 449, 450, 451, 478, 479, 486, 487, 488, 489, 490, 491, 492, 493, 494, 535, 536, 549, 550, 551]\n"
     ]
    }
   ],
   "source": [
    "print([g.gene_id for g in session.query(Gene).filter(Gene.gene_name != Gene.extended_name)])"
   ]
  },
  {
   "cell_type": "code",
   "execution_count": 32,
   "metadata": {
    "collapsed": false
   },
   "outputs": [
    {
     "name": "stdout",
     "output_type": "stream",
     "text": [
      "[u'clone', u'clone', u'clone', u'clone', u'clone', u'clone', u'clone', u'clone', u'clone', u'clone', u'clone', u'complex', u'complex', u'complex', u'complex', u'complex', u'complex', u'complex', u'complex', u'complex', u'clone', u'clone', u'clone', u'clone', u'clone']\n"
     ]
    }
   ],
   "source": [
    "print([g.type for g in session.query(Gene).filter(Gene.gene_name != Gene.extended_name)])"
   ]
  },
  {
   "cell_type": "code",
   "execution_count": 33,
   "metadata": {
    "collapsed": false
   },
   "outputs": [
    {
     "name": "stdout",
     "output_type": "stream",
     "text": [
      "[(u'HLH-2_HLH-3', u'HLH-2_HLH-3'), (u'HLH-2_CND-1', u'HLH-2_CND-1'), (u'HLH-2_LIN-32', u'HLH-2_LIN-32'), (u'HLH-2_HLH-19', u'HLH-2_HLH-19'), (u'HLH-2_HLH-4', u'HLH-2_HLH-4'), (u'HLH-2_HLH-8', u'HLH-2_HLH-8'), (u'HLH-2_HLH-15', u'HLH-2_HLH-15'), (u'MXL-1_MDL-1', u'MXL-1_MDL-1'), (u'HLH-2_HLH-14', u'HLH-2_HLH-14'), (u'HLH-2_HLH-10', u'HLH-2_HLH-10'), (u'Jun_Fos', u'Jun_Fos'), (u'PFF0670w', u'PFF0670w_D1'), (u'PFD0985w', u'PFD0985w_D2'), (u'PFD0985w', u'PFD0985w_D1'), (u'PF10_0075', u'PF10_0075_D3'), (u'PF10_0075', u'PF10_0075_D2'), (u'PF10_0075', u'PF10_0075_D1'), (u'PFF0670w', u'PFF0670w_D2'), (u'PFL1900w', u'PFL1900w_D1'), (u'PFL1900w', u'PFL1900w_DLD'), (u'PFF0200c', u'PFF0200c_D1'), (u'PFF0200c', u'PFF0200c_DLD'), (u'', u'GST-CSL-NOTCH1'), (u'', u'GST-CSL'), (u'', u'GST-NOTCH1'), (u'', u'GST-NOTCH1_CSL-6His'), (u'', u'GST-NOTCH1_CSL-6His_MAML1'), (u'', u'MAML1-CSL-GST-NOTCH1'), (u'', u'MAML1-CSL-GST-NOTCH2'), (u'', u'MAML1-CSL-GST-NOTCH3'), (u'', u'MAML1-CSL-GST-NOTCH4'), (u'CLAMP', u'CLAMP_Cterm6Zn'), (u'CLAMP', u'CLAMP_Cterm4Zn'), (u'HLH-1', u'HLH-1_L13R'), (u'HLH-1', u'HLH-1_L13T'), (u'HLH-1', u'HLH-1_L13V')]\n"
     ]
    }
   ],
   "source": [
    "print([(g.gene_name, g.extended_name) for g in session.query(Gene).filter(Gene.type != 'factor')])"
   ]
  },
  {
   "cell_type": "code",
   "execution_count": 34,
   "metadata": {
    "collapsed": false
   },
   "outputs": [
    {
     "name": "stdout",
     "output_type": "stream",
     "text": [
      "[(510,)]\n",
      "[(494,)]\n",
      "[(u'Cbf1', 2), (u'Ecm22', 2), (u'Ehf', 2), (u'Elf3', 2), (u'Gabpa', 2), (u'HLH-1', 2), (u'Hoxa3', 2), (u'Nkx3-1', 2), (u'PFF0200c', 2), (u'Rap1', 2), (u'Sfpi1', 2), (u'Six4', 2), (u'Six6', 2), (u'Sox4', 2), (u'Spdef', 2), (u'Tcf1', 2)]\n"
     ]
    }
   ],
   "source": [
    "# count gene_names\n",
    "print(session.query(func.count(Gene.gene_name)).filter(Gene.type == 'factor').all())\n",
    "print(session.query(func.count(distinct(Gene.gene_name))).filter(Gene.type == 'factor').all())\n",
    "\n",
    "# gene_name duplicates \n",
    "print([g for g in session.query(Gene.gene_name, func.count(Gene.gene_name).label('count'))\\\n",
    "                       .group_by(Gene.gene_name).filter(Gene.type == 'factor') if g.count > 1])"
   ]
  },
  {
   "cell_type": "code",
   "execution_count": 35,
   "metadata": {
    "collapsed": false
   },
   "outputs": [
    {
     "name": "stdout",
     "output_type": "stream",
     "text": [
      "[(u'Cbf1', u'Saccharomyces cerevisiae', 8), (u'Cbf1', u'Saccharomyces cerevisiae', 1), (u'Ecm22', u'Saccharomyces cerevisiae', 1), (u'Ecm22', u'Saccharomyces cerevisiae', 16), (u'Ehf', u'Mus musculus', 2), (u'Ehf', u'Mus musculus', 13), (u'Elf3', u'Mus musculus', 2), (u'Elf3', u'Mus musculus', 13), (u'Gabpa', u'Mus musculus', 2), (u'Gabpa', u'Mus musculus', 13), (u'HLH-1', u'Caenorhabditis elegans', 3), (u'HLH-1', u'Caenorhabditis elegans', 25), (u'Hoxa3', u'Mus musculus', 2), (u'Hoxa3', u'Mus musculus', 0), (u'Nkx3-1', u'Mus musculus', 2), (u'Nkx3-1', u'Mus musculus', 0), (u'PFF0200c', u'Plasmodium falciparum', 5), (u'PFF0200c', u'Plasmodium falciparum', 15), (u'Rap1', u'Saccharomyces cerevisiae', 8), (u'Rap1', u'Saccharomyces cerevisiae', 1), (u'Sfpi1', u'Mus musculus', 2), (u'Sfpi1', u'Mus musculus', 13), (u'Six4', u'Mus musculus', 0), (u'Six4', u'Drosophila melanogaster', 19), (u'Six6', u'Mus musculus', 2), (u'Six6', u'Mus musculus', 0), (u'Sox4', u'Mus musculus', 2), (u'Sox4', u'Homo sapiens', 11), (u'Spdef', u'Mus musculus', 2), (u'Spdef', u'Mus musculus', 13), (u'Tcf1', u'Mus musculus', 2), (u'Tcf1', u'Mus musculus', 0)]\n"
     ]
    }
   ],
   "source": [
    "repeated_gene_names = [g.gene_name for g in session.query(Gene.gene_name, func.count(Gene.gene_name).label('count'))\\\n",
    "                       .group_by(Gene.gene_name).filter(Gene.type == 'factor') if g.count > 1]\n",
    "\n",
    "print([(g.gene_name, g.species, g.publication_id) for g in session.query(Gene).order_by(Gene.gene_name)\\\n",
    "      .filter(Gene.type == 'factor').filter(Gene.gene_name.in_(repeated_gene_names)).all()])"
   ]
  },
  {
   "cell_type": "code",
   "execution_count": 36,
   "metadata": {
    "collapsed": false
   },
   "outputs": [
    {
     "data": {
      "text/plain": [
       "[<GeneInfo(gene_name=PFF0200c, synonyms=NONE, species=Plasmodium falciparum)>,\n",
       " <GeneInfo(gene_name=PF14_0633, synonyms=NONE, species=Plasmodium falciparum)>,\n",
       " <GeneInfo(gene_name=Cgd2_3490, synonyms=NONE, species=Cryptosporidium parvum)>,\n",
       " <GeneInfo(gene_name=CEH-22, synonyms=\"F29F11.5, Homeobox protein ceh-22\", species=Caenorhabditis elegans)>,\n",
       " <GeneInfo(gene_name=Oct-1, synonyms=\"POU2F1, NF-A1, OCT1, Oct-1, Octamer-binding transcription factor 1, OTF1, OTF-1\", species=Homo sapiens)>,\n",
       " <GeneInfo(gene_name=Alx3, synonyms=Homeobox protein aristaless-like 3, Proline-rich transcription factor ALX3, species=Mus musculus)>,\n",
       " <GeneInfo(gene_name=Alx4, synonyms=ALX-4, Aristaless-like 4, Homeobox protein aristaless-like 4, species=Mus musculus)>,\n",
       " <GeneInfo(gene_name=Arx, synonyms=Aristaless-related homeobox, Homeobox protein ARX, species=Mus musculus)>,\n",
       " <GeneInfo(gene_name=Bapx1, synonyms=Bagpipe homeobox protein homolog 1, Homeobox protein Nkx-3.2, NKX3.2, Nkx-3.2, Nkx3-2, Nkx3b, species=Mus musculus)>,\n",
       " <GeneInfo(gene_name=Barhl1, synonyms=Bar-class homeodomain protein MBH2, BarH-like 1 homeobox protein, BarH-related homeobox protein 1, Bhx1, Dres115, Mbh2, MBH2, species=Mus musculus)>]"
      ]
     },
     "execution_count": 36,
     "metadata": {},
     "output_type": "execute_result"
    }
   ],
   "source": [
    "list(session.query(GeneInfo))[:10]"
   ]
  },
  {
   "cell_type": "code",
   "execution_count": 37,
   "metadata": {
    "collapsed": false
   },
   "outputs": [
    {
     "name": "stdout",
     "output_type": "stream",
     "text": [
      "[(493,)]\n",
      "[(u'Six4', 2), (u'Sox4', 2)]\n"
     ]
    }
   ],
   "source": [
    "print(session.query(func.count(distinct(GeneInfo.gene_name))).all())\n",
    "\n",
    "# duplicates\n",
    "print([g for g in session.query(GeneInfo.gene_name, func.count(GeneInfo.gene_name).label('count'))\\\n",
    "                       .group_by(GeneInfo.gene_name) if g.count > 1])"
   ]
  },
  {
   "cell_type": "code",
   "execution_count": 38,
   "metadata": {
    "collapsed": false
   },
   "outputs": [
    {
     "name": "stdout",
     "output_type": "stream",
     "text": [
      "[<GeneInfo(gene_name=Six4, synonyms=CG3871, Dmel\\CG3871, Dsix4, DSix4, D-six4, D-Six4, six4, six4/5, species=Drosophila melanogaster)>, <GeneInfo(gene_name=Six4, synonyms=AI047561, Arec3, AREC3, Homeobox protein SIX4, Sine oculis homeobox homolog 4, Skeletal muscle-specific ARE binding protein AREC3, TrexBF, species=Mus musculus)>, <GeneInfo(gene_name=Sox4, synonyms=Transcription factor SOX-4, OTTHUMP00000039358, SRY-related HMG-box gene 4, ecotropic viral integration site 16, EVI16\n",
      ", species=Homo sapiens)>, <GeneInfo(gene_name=Sox4, synonyms=AA682046, Sox-4, Transcription factor SOX-4, species=Mus musculus)>]\n"
     ]
    }
   ],
   "source": [
    "print(session.query(GeneInfo).filter(GeneInfo.gene_name.in_(['Six4', 'Sox4'])).all())"
   ]
  },
  {
   "cell_type": "code",
   "execution_count": 39,
   "metadata": {
    "collapsed": false
   },
   "outputs": [
    {
     "name": "stdout",
     "output_type": "stream",
     "text": [
      "set([(u'HLH-2_HLH-14',), (u'',), (u'HLH-2_HLH-15',), (u'HLH-2_CND-1',), (u'HLH-2_HLH-19',), (u'MXL-1_MDL-1',), (u'Jun_Fos',), (u'HLH-2_HLH-10',), (u'HLH-2_HLH-3',), (u'HLH-2_HLH-4',), (u'Gcn4',), (u'HLH-2_LIN-32',), (u'HLH-2_HLH-8',)])\n",
      "set([])\n"
     ]
    }
   ],
   "source": [
    "g_Gene = set(session.query(distinct(Gene.gene_name)).all())\n",
    "g_GeneInfo = set(session.query(distinct(GeneInfo.gene_name)).all())\n",
    "\n",
    "print(g_Gene - g_GeneInfo)\n",
    "print(g_GeneInfo - g_Gene)"
   ]
  },
  {
   "cell_type": "code",
   "execution_count": 40,
   "metadata": {
    "collapsed": false
   },
   "outputs": [
    {
     "name": "stdout",
     "output_type": "stream",
     "text": [
      "[<Gene(gene_id=285, gene_name=Gcn4, species=Saccharomyces cerevisiae, publication_id=1)>]\n"
     ]
    }
   ],
   "source": [
    "print(session.query(Gene).filter(Gene.gene_name == 'Gcn4').all())"
   ]
  },
  {
   "cell_type": "code",
   "execution_count": 41,
   "metadata": {
    "collapsed": false
   },
   "outputs": [
    {
     "name": "stdout",
     "output_type": "stream",
     "text": [
      "[]\n"
     ]
    }
   ],
   "source": [
    "print(session.query(GeneInfo).filter(GeneInfo.gene_name == 'Gcn4').all())"
   ]
  },
  {
   "cell_type": "code",
   "execution_count": 5,
   "metadata": {
    "collapsed": false
   },
   "outputs": [
    {
     "name": "stdout",
     "output_type": "stream",
     "text": [
      "Plasmodium falciparum\n",
      "Cryptosporidium parvum\n",
      "Caenorhabditis elegans\n",
      "Saccharomyces cerevisiae\n",
      "Homo sapiens\n",
      "Mus musculus\n",
      "Vibrio harveyi\n",
      "Patiria miniata\n",
      "Strongylocentrotus purpuratus\n",
      "Drosophila melanogaster\n",
      "Acanthamoeba castellanii\n",
      "Allomyces macrogynus\n",
      "Ashbya gossypii\n",
      "Aspergillus nidulans\n",
      "Kluyveromyces lactis\n",
      "Monosiga brevisollis\n",
      "Mycosphaerella graminicola\n",
      "Nematostella vectensis\n",
      "Trichoplax adhaerens\n",
      "Tuber melanosporum\n",
      "Arabidopsis thaliana\n"
     ]
    }
   ],
   "source": [
    "for g in session.query(distinct(Gene.species)).filter(Gene.type == 'factor'):\n",
    "    print(g[0])"
   ]
  },
  {
   "cell_type": "code",
   "execution_count": 43,
   "metadata": {
    "collapsed": false
   },
   "outputs": [
    {
     "name": "stdout",
     "output_type": "stream",
     "text": [
      "32\tPlasmodium falciparum\n",
      "1\tCryptosporidium parvum\n",
      "37\tCaenorhabditis elegans\n",
      "119\tSaccharomyces cerevisiae\n",
      "24\tHomo sapiens\n",
      "300\tMus musculus\n",
      "1\tVibrio harveyi\n",
      "1\tPatiria miniata\n",
      "2\tStrongylocentrotus purpuratus\n",
      "16\tDrosophila melanogaster\n",
      "1\tAcanthamoeba castellanii\n",
      "2\tAllomyces macrogynus\n",
      "1\tAshbya gossypii\n",
      "2\tAspergillus nidulans\n",
      "1\tKluyveromyces lactis\n",
      "1\tMonosiga brevisollis\n",
      "1\tMycosphaerella graminicola\n",
      "1\tNematostella vectensis\n",
      "1\tTrichoplax adhaerens\n",
      "1\tTuber melanosporum\n",
      "1\tArabidopsis thaliana\n"
     ]
    }
   ],
   "source": [
    "for s in session.query(distinct(Gene.species)).filter(Gene.type == 'factor'):\n",
    "    print(\"%s\\t%s\" % (session.query(func.count(Gene.gene_id)).filter(Gene.species == s[0]).all()[0][0], s[0]))"
   ]
  },
  {
   "cell_type": "code",
   "execution_count": 44,
   "metadata": {
    "collapsed": false
   },
   "outputs": [
    {
     "name": "stdout",
     "output_type": "stream",
     "text": [
      "[(u'Cgd2_3490',)]\t\t\tCryptosporidium parvum\n",
      "[(u'LuxR',)]\t\t\tVibrio harveyi\n",
      "[(u'PmTbr',)]\t\t\tPatiria miniata\n",
      "[(u'SpTbr',), (u'FoxM_Spur',)]\t\t\tStrongylocentrotus purpuratus\n",
      "[(u'ACA1_126960',)]\t\t\tAcanthamoeba castellanii\n",
      "[(u'AMAG_02766',), (u'AMAG_00796',)]\t\t\tAllomyces macrogynus\n",
      "[(u'AEL327Wp',)]\t\t\tAshbya gossypii\n",
      "[(u'ANID_04985',), (u'ANID_04521',)]\t\t\tAspergillus nidulans\n",
      "[(u'KLLA0F08206p',)]\t\t\tKluyveromyces lactis\n",
      "[(u'FoxN1-4_Mbre',)]\t\t\tMonosiga brevisollis\n",
      "[(u'Fox3_Mgra',)]\t\t\tMycosphaerella graminicola\n",
      "[(u'FoxN2-3_Nvec',)]\t\t\tNematostella vectensis\n",
      "[(u'FoxN2-3_Tadh',)]\t\t\tTrichoplax adhaerens\n",
      "[(u'Fox3_Tmel',)]\t\t\tTuber melanosporum\n",
      "[(u'LUX',)]\t\t\tArabidopsis thaliana\n"
     ]
    }
   ],
   "source": [
    "for s in session.query(distinct(Gene.species)).filter(Gene.type == 'factor'):\n",
    "    if session.query(func.count(Gene.gene_id)).filter(Gene.species == s[0]).all()[0][0] < 3:\n",
    "        print(\"%s\\t\\t\\t%s\" % (session.query(Gene.gene_name).filter(Gene.species == s[0]).all(), s[0]))"
   ]
  },
  {
   "cell_type": "code",
   "execution_count": 45,
   "metadata": {
    "collapsed": false
   },
   "outputs": [
    {
     "data": {
      "text/plain": [
       "[(26)]"
      ]
     },
     "execution_count": 45,
     "metadata": {},
     "output_type": "execute_result"
    }
   ],
   "source": [
    "session.query(Gene.publication_id).filter(Gene.gene_name == 'LUX').all()"
   ]
  },
  {
   "cell_type": "code",
   "execution_count": 46,
   "metadata": {
    "collapsed": false
   },
   "outputs": [
    {
     "data": {
      "text/plain": [
       "[<Gene(gene_id=552, gene_name=LUX, species=Arabidopsis thaliana, publication_id=26)>]"
      ]
     },
     "execution_count": 46,
     "metadata": {},
     "output_type": "execute_result"
    }
   ],
   "source": [
    "session.query(Gene).filter(Gene.publication_id == 26).all()"
   ]
  },
  {
   "cell_type": "code",
   "execution_count": 47,
   "metadata": {
    "collapsed": false
   },
   "outputs": [
    {
     "data": {
      "text/plain": [
       "[(u'LUX ARRHYTHMO; PCL1; PHYTOCLOCK 1')]"
      ]
     },
     "execution_count": 47,
     "metadata": {},
     "output_type": "execute_result"
    }
   ],
   "source": [
    "session.query(GeneInfo.synonyms).filter(GeneInfo.species == 'Arabidopsis thaliana').all()"
   ]
  },
  {
   "cell_type": "code",
   "execution_count": 48,
   "metadata": {
    "collapsed": false
   },
   "outputs": [
    {
     "name": "stdout",
     "output_type": "stream",
     "text": [
      "[(u'Cgd2_3490',)]\t\t\t[(u'NONE',)]\t\t\tCryptosporidium parvum\n",
      "[(u'LuxR',)]\t\t\t[(None,)]\t\t\tVibrio harveyi\n",
      "[(u'PmTbr',)]\t\t\t[(u'',)]\t\t\tPatiria miniata\n",
      "[(u'SpTbr',), (u'FoxM_Spur',)]\t\t\t[(u'FoxM',), (u'',)]\t\t\tStrongylocentrotus purpuratus\n",
      "[(u'ACA1_126960',)]\t\t\t[(u'A.cas Fox',)]\t\t\tAcanthamoeba castellanii\n",
      "[(u'AMAG_02766',), (u'AMAG_00796',)]\t\t\t[(u'',), (u'',)]\t\t\tAllomyces macrogynus\n",
      "[(u'AEL327Wp',)]\t\t\t[(u'A.gos Fox3',)]\t\t\tAshbya gossypii\n",
      "[(u'ANID_04985',), (u'ANID_04521',)]\t\t\t[(u'fhpA, A.nid Fox4',), (u'',)]\t\t\tAspergillus nidulans\n",
      "[(u'KLLA0F08206p',)]\t\t\t[(u'K.lac Fox3',)]\t\t\tKluyveromyces lactis\n",
      "[(u'FoxN1-4_Mbre',)]\t\t\t[(u'M.bre FoxN1/4',)]\t\t\tMonosiga brevisollis\n",
      "[(u'Fox3_Mgra',)]\t\t\t[(u'M.gra Fox3',)]\t\t\tMycosphaerella graminicola\n",
      "[(u'FoxN2-3_Nvec',)]\t\t\t[(u'N.vec FoxN2/3',)]\t\t\tNematostella vectensis\n",
      "[(u'FoxN2-3_Tadh',)]\t\t\t[(u'T.adh FoxN2/3',)]\t\t\tTrichoplax adhaerens\n",
      "[(u'Fox3_Tmel',)]\t\t\t[(u'T.mel Fox3',)]\t\t\tTuber melanosporum\n",
      "[(u'LUX',)]\t\t\t[(u'LUX ARRHYTHMO; PCL1; PHYTOCLOCK 1',)]\t\t\tArabidopsis thaliana\n"
     ]
    }
   ],
   "source": [
    "for s in session.query(distinct(Gene.species)).filter(Gene.type == 'factor'):\n",
    "    if session.query(func.count(Gene.gene_id)).filter(Gene.species == s[0]).all()[0][0] < 3:\n",
    "        print(\"%s\\t\\t\\t%s\\t\\t\\t%s\" % (session.query(Gene.gene_name).filter(Gene.species == s[0]).all(),\\\n",
    "                              session.query(GeneInfo.synonyms).filter(GeneInfo.species == s[0]).all(),\\\n",
    "                              s[0]))"
   ]
  },
  {
   "cell_type": "code",
   "execution_count": 49,
   "metadata": {
    "collapsed": false
   },
   "outputs": [
    {
     "data": {
      "text/plain": [
       "[(<Gene(gene_id=388, gene_name=Six6, species=Mus musculus, publication_id=0)>,\n",
       "  u'factor',\n",
       "  [])]"
      ]
     },
     "execution_count": 49,
     "metadata": {},
     "output_type": "execute_result"
    }
   ],
   "source": [
    "[(g, g.type, g.contigs) for g in session.query(Gene).filter(Gene.gene_id == 388)]"
   ]
  }
 ],
 "metadata": {
  "kernelspec": {
   "display_name": "Python 2",
   "language": "python",
   "name": "python2"
  },
  "language_info": {
   "codemirror_mode": {
    "name": "ipython",
    "version": 2
   },
   "file_extension": ".py",
   "mimetype": "text/x-python",
   "name": "python",
   "nbconvert_exporter": "python",
   "pygments_lexer": "ipython2",
   "version": "2.7.6"
  }
 },
 "nbformat": 4,
 "nbformat_minor": 0
}
