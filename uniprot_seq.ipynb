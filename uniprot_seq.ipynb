{
 "cells": [
  {
   "cell_type": "code",
   "execution_count": 1,
   "metadata": {
    "collapsed": false
   },
   "outputs": [],
   "source": [
    "def fasta_iter(fastafile):\n",
    "    \"\"\"\n",
    "    Iterator of the records present in a .fasta file. Each record is yielded as\n",
    "    a tuple containg the title line (without '>') and the sequence itself.\n",
    "    \"\"\"\n",
    "    on_open_record = False\n",
    "    with open(fastafile, 'r') as fasta:\n",
    "        for line in fasta:\n",
    "            line = line.strip()\n",
    "            if len(line) == 0:\n",
    "                continue\n",
    "            elif line[0] == '#':\n",
    "                continue\n",
    "            elif line[0] == '>':\n",
    "                # close old record\n",
    "                if on_open_record:\n",
    "                    yield title, sequence.upper()\n",
    "                # new record\n",
    "                title = line[1:].rstrip()\n",
    "                sequence = ''\n",
    "                on_open_record = True\n",
    "            else:\n",
    "                sequence += line.rstrip()\n",
    "    if on_open_record:\n",
    "        yield title, sequence.upper()"
   ]
  },
  {
   "cell_type": "markdown",
   "metadata": {},
   "source": [
    "# seqs from Uniprot"
   ]
  },
  {
   "cell_type": "code",
   "execution_count": 2,
   "metadata": {
    "collapsed": false
   },
   "outputs": [],
   "source": [
    "from uniprobe_data import *"
   ]
  },
  {
   "cell_type": "raw",
   "metadata": {},
   "source": [
    "session.execute(GeneInfo.__table__.update().where(GeneInfo.uniprot == 'PQ62424').values(uniprot='Q62424'))\n",
    "session.execute(GeneInfo.__table__.update().where(GeneInfo.uniprot == 'Q04889').values(uniprot='Q7M6Y2'))\n",
    "session.execute(GeneInfo.__table__.update().where(GeneInfo.uniprot == 'n/a').values(uniprot=None))\n",
    "\n",
    "session.commit()"
   ]
  },
  {
   "cell_type": "raw",
   "metadata": {},
   "source": [
    "class GeneData(Base):\n",
    "    __tablename__ = 'gene_data'\n",
    "\n",
    "    gene_name = Column(String, primary_key=True)\n",
    "    species = Column(String, primary_key=True)\n",
    "    name = Column(String)\n",
    "    synonyms = Column(String)\n",
    "    uniprot = Column(String, ForeignKey('genomic_info.uniprot'), index=True)\n",
    "    fasta = Column(String)\n",
    "    domains = Column(String)\n",
    "\n",
    "    gene_info = relationship('GeneInfo', backref=backref('gene_data',\n",
    "                                                         uselist=False))\n",
    "\n",
    "    def __repr__(self):\n",
    "        return '<GeneData(gene_name=%s, synonyms=%s, species=%s)>' %\\\n",
    "            (self.gene_name, self.synonyms, self.species)"
   ]
  },
  {
   "cell_type": "code",
   "execution_count": 4,
   "metadata": {
    "collapsed": false
   },
   "outputs": [],
   "source": [
    "metadata.create_all()\n",
    "session.commit()"
   ]
  },
  {
   "cell_type": "code",
   "execution_count": 9,
   "metadata": {
    "collapsed": false
   },
   "outputs": [
    {
     "name": "stdout",
     "output_type": "stream",
     "text": [
      "- Q6LFM5: empty fasta\n",
      "> Dobox4: no uniprot entry\n",
      "> Dobox5: no uniprot entry\n",
      "> Tgif1: no uniprot entry\n",
      "> Zscan4: no uniprot entry\n",
      "> IRC900814: no uniprot entry\n",
      "> Gsm1: no uniprot entry\n",
      "> Yrr1: no uniprot entry\n",
      "> Stp4: no uniprot entry\n",
      "> Ypr196w: no uniprot entry\n",
      "> Matalpha2: no uniprot entry\n",
      "> Ydr520c: no uniprot entry\n",
      "> Yll054c: no uniprot entry\n",
      "> Usv1: no uniprot entry\n",
      "> Ypr013c: no uniprot entry\n",
      "> Ypr015c: no uniprot entry\n",
      "> Yrm1: no uniprot entry\n",
      "- Q17588: empty fasta\n",
      "- P91527: empty fasta\n",
      "- Q21663: empty fasta\n",
      "- P90982: empty fasta\n",
      "- Q22069: empty fasta\n",
      "- Q4PIU8: empty fasta\n",
      "- D3Z7Q1: empty fasta\n",
      "> Gm4881: no uniprot entry\n",
      "> PmTbr: no uniprot entry\n",
      "> ACA1_126960: no uniprot entry\n",
      "> AMAG_02766: no uniprot entry\n",
      "> AMAG_00796: no uniprot entry\n",
      "> FoxN1-4_Mbre: no uniprot entry\n"
     ]
    }
   ],
   "source": [
    "import urllib2\n",
    "\n",
    "url = 'http://www.uniprot.org/uniprot/'\n",
    "\n",
    "with open('uniprot_seq.fasta', 'w') as fasta:\n",
    "    for gene_info in session.query(GeneInfo):\n",
    "        \n",
    "        if gene_info.uniprot:\n",
    "            uniprot_fasta = None\n",
    "            try:\n",
    "                uniprot_fasta = urllib2.urlopen(url + gene_info.uniprot + '.fasta').read()\n",
    "                if uniprot_fasta:\n",
    "                    __u = uniprot_fasta.split('\\n')\n",
    "                    uniprot_fasta = __u[0] + '\\n' + ''.join(__u[1:])\n",
    "                    fasta.write(uniprot_fasta + '\\n')\n",
    "                    \n",
    "                    gene_data = gene_info.gene_data\n",
    "                    if gene_data:\n",
    "                        gene_data.fasta = uniprot_fasta\n",
    "                    else:\n",
    "                        gene_data = GeneData(gene_name=gene_info.gene_name, species=gene_info.species,\n",
    "                                             name=gene_info.name, synonyms=gene_info.synonyms,\n",
    "                                             uniprot=gene_info.uniprot, fasta=uniprot_fasta)\n",
    "                        session.add(gene_data)\n",
    "                else:\n",
    "                    print('- %s: empty fasta' % gene_info.uniprot)\n",
    "\n",
    "            except urllib2.URLError as e:\n",
    "                print('  %s: %s (%s)' % (gene_info.uniprot, e.code, e.reason))\n",
    "            \n",
    "        else:\n",
    "            print('> %s: no uniprot entry' % gene_info.gene_name)\n",
    "\n",
    "session.commit()"
   ]
  },
  {
   "cell_type": "code",
   "execution_count": 6,
   "metadata": {
    "collapsed": false
   },
   "outputs": [
    {
     "name": "stdout",
     "output_type": "stream",
     "text": [
      "(u'P31312', u'P31257', True)\n",
      "(u'Q32M12', u'Q9WUN8', False)\n",
      "(u'Q9D2W8', u'Q3UHX8', False)\n",
      "(u'P70367', u'Q8VIH1', False)\n",
      "(u'Q78DU3', u'O08934', False)\n",
      "(u'Q8R4X9', u'Q8VDL9', False)\n",
      "(u'Q922E8', u'O70273', False)\n",
      "(u'Q8HWA6', u'Q7TNK1', False)\n",
      "(u'Q8BI45', u'Q3U108', False)\n",
      "(u'Q920K7', u'P81270', False)\n",
      "(u'Q3U0G6', u'Q6P3D7', False)\n",
      "(u'Q62346', u'P41971', False)\n"
     ]
    }
   ],
   "source": [
    "from sqlalchemy import exists\n",
    "\n",
    "for gene_data in session.query(GeneData):\n",
    "    if gene_data.uniprot != gene_data.fasta.split('|')[1]:\n",
    "        print(gene_data.uniprot, gene_data.fasta.split('|')[1],\n",
    "              session.query(exists().where(GeneData.uniprot == gene_data.fasta.split('|')[1])).first()[0])"
   ]
  },
  {
   "cell_type": "markdown",
   "metadata": {},
   "source": [
    "Several redirects. Uniprot P31312 redirects to P31257 which is also present. Below fixes the databases, fasta file has to be edited to delete duplicate entry."
   ]
  },
  {
   "cell_type": "code",
   "execution_count": 7,
   "metadata": {
    "collapsed": false
   },
   "outputs": [],
   "source": [
    "from sqlalchemy import exists\n",
    "\n",
    "for gene_data in session.query(GeneData):\n",
    "    if gene_data.uniprot != gene_data.fasta.split('|')[1]:\n",
    "        new_uniprot = gene_data.fasta.split('|')[1]\n",
    "        gene_data.gene_info.uniprot = new_uniprot\n",
    "\n",
    "        # if the target of redirection already exists, delete the old entry\n",
    "        if session.query(exists().where(GeneData.uniprot == gene_data.fasta.split('|')[1])).first()[0]:\n",
    "            session.query(GeneData).filter(GeneData.uniprot == gene_data.uniprot).delete()\n",
    "        # else just rename the old entry\n",
    "        else:\n",
    "            gene_data.uniprot = new_uniprot\n",
    "\n",
    "session.commit()"
   ]
  },
  {
   "cell_type": "code",
   "execution_count": 10,
   "metadata": {
    "collapsed": false
   },
   "outputs": [],
   "source": [
    "from sqlalchemy import exists\n",
    "\n",
    "for gene_data in session.query(GeneData):\n",
    "    if gene_data.uniprot != gene_data.fasta.split('|')[1]:\n",
    "        print(gene_data.uniprot, gene_data.fasta.split('|')[1],\n",
    "              session.query(exists().where(GeneData.uniprot == gene_data.fasta.split('|')[1])).first()[0])"
   ]
  },
  {
   "cell_type": "markdown",
   "metadata": {},
   "source": [
    "### Blast"
   ]
  },
  {
   "cell_type": "code",
   "execution_count": 12,
   "metadata": {
    "collapsed": false
   },
   "outputs": [
    {
     "name": "stdout",
     "output_type": "stream",
     "text": [
      "\n",
      "\n",
      "Building a new DB, current time: 04/10/2015 15:35:51\n",
      "New DB name:   uniprot_seq_blastdb/uniprot_seq\n",
      "New DB title:  uniprot_seq.fasta\n",
      "Sequence type: Protein\n",
      "Keep Linkouts: T\n",
      "Keep MBits: T\n",
      "Maximum file size: 1000000000B\n",
      "Adding sequences from FASTA; added 463 sequences in 0.0279899 seconds.\n"
     ]
    }
   ],
   "source": [
    "!makeblastdb -parse_seqids -dbtype prot -in uniprot_seq.fasta -out uniprot_seq_blastdb/uniprot_seq"
   ]
  },
  {
   "cell_type": "code",
   "execution_count": 13,
   "metadata": {
    "collapsed": false
   },
   "outputs": [],
   "source": [
    "!blastp -db uniprot_seq_blastdb/uniprot_seq -query uniprot_seq.fasta -outfmt 6 -out uniprot_seq.blast"
   ]
  },
  {
   "cell_type": "code",
   "execution_count": 12,
   "metadata": {
    "collapsed": false
   },
   "outputs": [
    {
     "name": "stdout",
     "output_type": "stream",
     "text": [
      "tr|Q8IKH2|Q8IKH2_PLAF7\ttr|Q8IKH2|Q8IKH2_PLAF7\t100.00\t813\t0\t0\t1\t813\t1\t813\t0.0\t1571\r\n",
      "tr|Q8IKH2|Q8IKH2_PLAF7\ttr|Q5CTD3|Q5CTD3_CRYPI\t53.85\t52\t22\t1\t64\t115\t341\t390\t7e-13\t67.0\r\n",
      "tr|Q8IKH2|Q8IKH2_PLAF7\ttr|Q8IHT5|Q8IHT5_PLAF7\t28.36\t134\t61\t4\t15\t115\t1283\t1414\t5e-04\t38.1\r\n",
      "tr|Q8IKH2|Q8IKH2_PLAF7\ttr|Q8IJW6|Q8IJW6_PLAF7\t32.79\t61\t36\t1\t68\t123\t776\t836\t0.003\t35.4\r\n",
      "tr|Q8IKH2|Q8IKH2_PLAF7\ttr|Q8IJW6|Q8IJW6_PLAF7\t27.27\t77\t52\t2\t67\t143\t526\t598\t0.033\t32.3\r\n",
      "tr|Q8IKH2|Q8IKH2_PLAF7\ttr|Q8I3U0|Q8I3U0_PLAF7\t27.40\t73\t47\t3\t47\t115\t1783\t1853\t0.039\t32.0\r\n",
      "tr|Q8IKH2|Q8IKH2_PLAF7\ttr|Q8IHX2|Q8IHX2_PLAF7\t25.37\t67\t48\t2\t53\t117\t1345\t1411\t0.12\t30.4\r\n",
      "tr|Q8IKH2|Q8IKH2_PLAF7\ttr|Q8IHX2|Q8IHX2_PLAF7\t26.67\t105\t64\t4\t68\t169\t290\t384\t1.1\t27.3\r\n",
      "tr|Q8IKH2|Q8IKH2_PLAF7\ttr|D5GGF2|D5GGF2_TUBMM\t47.62\t21\t11\t0\t411\t431\t785\t805\t3.3\t25.8\r\n",
      "tr|Q8IKH2|Q8IKH2_PLAF7\ttr|Q8I5I9|Q8I5I9_PLAF7\t26.67\t60\t41\t2\t76\t135\t2172\t2228\t4.8\t25.0\r\n"
     ]
    }
   ],
   "source": [
    "!head uniprot_seq.blast"
   ]
  },
  {
   "cell_type": "markdown",
   "metadata": {},
   "source": [
    "### Emboss"
   ]
  },
  {
   "cell_type": "code",
   "execution_count": 3,
   "metadata": {
    "collapsed": false
   },
   "outputs": [],
   "source": [
    "def parse_emboss_algn(algn_file):\n",
    "    \"\"\"\n",
    "    Parses identity, similarity and gap percentage.\n",
    "    \"\"\"\n",
    "    with open(algn_file, 'r') as f:\n",
    "        for line in f:\n",
    "            if line[:13] == '# Identity:  ':\n",
    "                identity = float(line.strip().split('(')[1][:-2])\n",
    "            elif line[:13] == '# Similarity:':\n",
    "                similarity = float(line.strip().split('(')[1][:-2])\n",
    "            elif line[:13] == '# Gaps:      ':\n",
    "                gaps = float(line.strip().split('(')[1][:-2])\n",
    "    return (identity, similarity, gaps)"
   ]
  },
  {
   "cell_type": "code",
   "execution_count": null,
   "metadata": {
    "collapsed": false
   },
   "outputs": [],
   "source": [
    "with open('uniprot_seq.algn', 'w') as aligned:\n",
    "\n",
    "    for seq1 in fasta_iter('uniprot_seq.fasta'):\n",
    "        with open('_a.fasta', 'w') as f:\n",
    "            f.write('> ' + seq1[0] + '\\n' + seq1[1])\n",
    "\n",
    "        for seq2 in fasta_iter('uniprot_seq.fasta'):\n",
    "            with open('_b.fasta', 'w') as f:\n",
    "                f.write('> ' + seq2[0] + '\\n' + seq2[1])\n",
    "\n",
    "            !water -aformat markx3 -awidth 80 _a.fasta _b.fasta -gapopen 10.0 -gapextend 0.5 -outfile _ab.water 2> /dev/null\n",
    "            !needle -aformat markx3 -awidth 80 _a.fasta _b.fasta -gapopen 10.0 -gapextend 0.5 -outfile _ab.needle 2> /dev/null\n",
    "\n",
    "            (local_identity, local_similarity, local_gaps) = parse_emboss_algn('_ab.water')\n",
    "            (global_identity, global_similarity, global_gaps)= parse_emboss_algn('_ab.needle')\n",
    "            \n",
    "            aligned.write('%s\\t%s\\t%g\\t%g\\t%g\\t%g\\t%g\\t%g\\n' % (seq1[0].split(' ')[0], seq2[0].split(' ')[0],\n",
    "                                                              local_identity, local_similarity, local_gaps,\n",
    "                                                              global_identity, global_similarity, global_gaps))\n",
    "\n",
    "!rm _a.fasta _b.fasta _ab.water _ab.needle"
   ]
  },
  {
   "cell_type": "code",
   "execution_count": 2,
   "metadata": {
    "collapsed": false
   },
   "outputs": [
    {
     "name": "stdout",
     "output_type": "stream",
     "text": [
      "tr|Q8IKH2|Q8IKH2_PLAF7\ttr|Q8IKH2|Q8IKH2_PLAF7\t100\t100\t0\t100\t100\t0\r\n",
      "tr|Q8IKH2|Q8IKH2_PLAF7\ttr|Q5CTD3|Q5CTD3_CRYPI\t20.3\t34.7\t32.7\t16\t27.4\t47.1\r\n",
      "tr|Q8IKH2|Q8IKH2_PLAF7\tsp|P41936|HM22_CAEEL\t20.2\t42.1\t21.3\t7.6\t14.9\t68.3\r\n",
      "tr|Q8IKH2|Q8IKH2_PLAF7\tsp|P14859|PO2F1_HUMAN\t20.7\t32.9\t28\t7.8\t13.9\t67.8\r\n",
      "tr|Q8IKH2|Q8IKH2_PLAF7\tsp|O70137|ALX3_MOUSE\t20\t31.4\t22.9\t0.7\t1.7\t95.8\r\n",
      "tr|Q8IKH2|Q8IKH2_PLAF7\tsp|O35137|ALX4_MOUSE\t17.5\t28.3\t36.7\t4.4\t7.2\t83.9\r\n",
      "tr|Q8IKH2|Q8IKH2_PLAF7\tsp|O35085|ARX_MOUSE\t27.9\t41.9\t25.6\t2.1\t3.1\t94.2\r\n",
      "tr|Q8IKH2|Q8IKH2_PLAF7\tsp|P97503|NKX32_MOUSE\t36.6\t56.1\t19.5\t3.7\t6.3\t87.9\r\n",
      "tr|Q8IKH2|Q8IKH2_PLAF7\tsp|P63157|BARH1_MOUSE\t24.5\t36.5\t25.5\t5.7\t8.9\t81.2\r\n",
      "tr|Q8IKH2|Q8IKH2_PLAF7\tsp|Q8VIB5|BARH2_MOUSE\t19.7\t35.6\t17.4\t5.5\t8.7\t81.1\r\n"
     ]
    }
   ],
   "source": [
    "!head uniprot_seq.algn"
   ]
  },
  {
   "cell_type": "markdown",
   "metadata": {},
   "source": [
    "# domains from PFAM"
   ]
  },
  {
   "cell_type": "markdown",
   "metadata": {},
   "source": [
    "Use profile's GA gathering cutoffs to set all thresholding"
   ]
  },
  {
   "cell_type": "code",
   "execution_count": 4,
   "metadata": {
    "collapsed": false
   },
   "outputs": [],
   "source": [
    "for gene_data in session.query(GeneData):\n",
    "    domtbl_file = 'pfam_domtbl/' + gene_data.uniprot + '.domtbl'\n",
    "    fasta = '\\\"' + gene_data.fasta + '\\\"'\n",
    "\n",
    "    !echo $fasta | hmmscan --cut_ga -o /dev/null --domtblout $domtbl_file /global/databases/pfam/v27.0/Pfam-A.hmm -"
   ]
  },
  {
   "cell_type": "code",
   "execution_count": 5,
   "metadata": {
    "collapsed": false
   },
   "outputs": [],
   "source": [
    "def get_domains(domtbl_file, accession=False):\n",
    "    \"\"\"\n",
    "    From the domain table file output by HMMscan, obtain the set of all domains found.\n",
    "    \"\"\"\n",
    "    domains = set()\n",
    "    with open(domtbl_file, 'r') as f:\n",
    "        for line in f:\n",
    "            if line[0] != '#':\n",
    "                if accession:\n",
    "                    words = line.split()\n",
    "                    domains.add((words[0], words[1].split('.')[0]))\n",
    "                else:\n",
    "                    domains.add(line.split()[0])\n",
    "    return domains"
   ]
  },
  {
   "cell_type": "code",
   "execution_count": 6,
   "metadata": {
    "collapsed": false
   },
   "outputs": [
    {
     "name": "stdout",
     "output_type": "stream",
     "text": [
      "127\n",
      "['ACDC', 'AFT', 'AP2', 'ARID', 'AXH', 'Aft1_OSA', 'Ank', 'Ank_2', 'Ank_3', 'Ank_4', 'Ank_5', 'BAF1_ABF1', 'BTB', 'BTD', 'Basic', 'CASP_C', 'CTNNB1_binding', 'Caudal_act', 'Cmyb_C', 'DLL_N', 'DUF1752', 'DUF2028', 'DUF3432', 'DUF3446', 'DUF3454', 'DUF3528', 'DUF4074', 'E2F_TDP', 'EGF', 'EGF_CA', 'ETS_PEA3_N', 'Elf-1_N', 'Engrail_1_C_sig', 'Ets', 'FHA', 'Fork_head', 'Fork_head_N', 'Fungal_trans', 'Fungal_trans_2', 'GABP-alpha', 'GATA', 'GATA-N', 'GCM', 'GCR1_C', 'Gal4_dimer', 'HLH', 'HMG_box', 'HMG_box_2', 'HNF-1A_C', 'HNF-1B_C', 'HNF-1_N', 'HNF_C', 'HSF_DNA-bind', 'Hairy_orange', 'Homeobox', 'Homeobox_KN', 'Homez', 'Hormone_recep', 'Hox9_act', 'HoxA13_N', 'IRF', 'IRF-3', 'JmjC', 'JmjN', 'Jun', 'KRAB', 'KilA-N', 'LAG1-DNAbind', 'LIM', 'LMSTEN', 'MH1', 'MH2', 'Maf_N', 'MamL-1', 'Mannitol_dh', 'Mannitol_dh_C', 'Myb_DNA-bind_6', 'Myb_DNA-binding', 'NDT80_PhoG', 'NOD', 'NODP', 'Neuro_bHLH', 'Notch', 'Nuc_recep-AF1', 'OAR', 'PAP1', 'PAS', 'PAX', 'PBC', 'Pax7', 'Pou', 'RFX1_trans_act', 'RFX_DNA_binding', 'Rap1-DNA-bind', 'Rap1_C', 'Response_reg', 'SAM_PNT', 'SAND', 'SCAN', 'SOXp', 'SRF-TF', 'STE', 'Sox_C_TAD', 'Sox_N', 'Sp100', 'Stb3', 'T-box', 'TBP', 'TEA', 'TF_AP-2', 'TF_Otx', 'TIG', 'TRF', 'TetR_N', 'Vhr1', 'Zn_clus', 'bZIP_1', 'bZIP_2', 'bZIP_Maf', 'hEGF', 'pKID', 'zf-C2H2', 'zf-C2H2_4', 'zf-C2H2_6', 'zf-C4', 'zf-H2C2_2', 'zf-met']\n"
     ]
    }
   ],
   "source": [
    "all_domains = set()\n",
    "domtbl_files = !ls pfam_domtbl/\n",
    "for f in domtbl_files:\n",
    "    all_domains |= get_domains('pfam_domtbl/' + f)\n",
    "print(len(all_domains))\n",
    "print(sorted(all_domains))"
   ]
  },
  {
   "cell_type": "markdown",
   "metadata": {},
   "source": [
    "Pfam-A.clans.tsv\n",
    "\n",
    "This file contains a list of all Pfam-A families that are in clans.\n",
    "The columns are: Pfam-A accession, clan accession, clan ID, Pfam-A\n",
    "ID, Pfam-A description."
   ]
  },
  {
   "cell_type": "code",
   "execution_count": 104,
   "metadata": {
    "collapsed": false
   },
   "outputs": [
    {
     "name": "stdout",
     "output_type": "stream",
     "text": [
      "--2015-04-07 13:18:29--  ftp://ftp.sanger.ac.uk/pub/databases/Pfam/current_release//Pfam-A.clans.tsv.gz\n",
      "           => ‘Pfam-A.clans.tsv.gz’\n",
      "Resolving ftp.sanger.ac.uk (ftp.sanger.ac.uk)... 193.62.203.17\n",
      "Connecting to ftp.sanger.ac.uk (ftp.sanger.ac.uk)|193.62.203.17|:21... connected.\n",
      "Logging in as anonymous ... Logged in!\n",
      "==> SYST ... done.    ==> PWD ... done.\n",
      "==> TYPE I ... done.  ==> CWD (1) /pub/databases/Pfam/current_release/ ... done.\n",
      "==> SIZE Pfam-A.clans.tsv.gz ... 262831\n",
      "==> PASV ... done.    ==> RETR Pfam-A.clans.tsv.gz ... done.\n",
      "Length: 262831 (257K) (unauthoritative)\n",
      "\n",
      "100%[======================================>] 262.831     1009KB/s   in 0,3s   \n",
      "\n",
      "2015-04-07 13:18:30 (1009 KB/s) - ‘Pfam-A.clans.tsv.gz’ saved [262831]\n",
      "\n",
      "PF00389\tCL0325\tForm_Glyc_dh\t2-Hacid_dh\tD-isomer specific 2-hydroxyacid dehydrogenase, catalytic domain\n",
      "PF00198\tCL0149\tCoA-acyltrans\t2-oxoacid_dh\t2-oxoacid dehydrogenases acyltransferase (catalytic domain)\n",
      "PF04029\t\\N\t\\N\t2-ph_phosp\t2-phosphosulpholactate phosphatase\n",
      "PF03171\tCL0029\tCupin\t2OG-FeII_Oxy\t2OG-Fe(II) oxygenase superfamily\n",
      "PF01073\tCL0063\tNADP_Rossmann\t3Beta_HSD\t3-beta hydroxysteroid dehydrogenase/isomerase family\n",
      "PF04419\tCL0361\tC2H2-zf\t4F5\t4F5 protein family\n",
      "PF03061\tCL0050\tHotDog\t4HBT\tThioesterase superfamily\n",
      "PF02872\t\\N\t\\N\t5_nucleotid_C\t5'-nucleotidase, C-terminal domain\n",
      "PF00003\t\\N\t\\N\t7tm_3\t7 transmembrane sweet-taste receptor of 3 GCPR\n",
      "PF01661\tCL0223\tMACRO\tMacro\tMacro domain\n"
     ]
    }
   ],
   "source": [
    "!wget ftp://ftp.sanger.ac.uk/pub/databases/Pfam/current_release//Pfam-A.clans.tsv.gz\n",
    "!gunzip Pfam-A.clans.tsv.gz\n",
    "!head Pfam-A.clans.tsv"
   ]
  },
  {
   "cell_type": "code",
   "execution_count": 7,
   "metadata": {
    "collapsed": false
   },
   "outputs": [],
   "source": [
    "family_clan = dict()\n",
    "clan_family = dict()\n",
    "\n",
    "with open('Pfam-A.clans.tsv', 'r') as f:\n",
    "    for line in f:\n",
    "\n",
    "        words = line.split('\\t')\n",
    "        if words[2] == '\\\\N':\n",
    "            words[2] = 'NA'\n",
    "\n",
    "        family_clan[words[3]] = words[2]\n",
    "        if words[2] not in clan_family:\n",
    "            clan_family[words[2]] = set()\n",
    "        clan_family[words[2]].add(words[3])"
   ]
  },
  {
   "cell_type": "code",
   "execution_count": 8,
   "metadata": {
    "collapsed": false
   },
   "outputs": [],
   "source": [
    "domtbl_files = !ls pfam_domtbl/\n",
    "\n",
    "with open('pfam.dom', 'w') as pfam_dom:\n",
    "    with open('pfam.clan', 'w') as pfam_clan:\n",
    "        for f in domtbl_files:\n",
    "            uniprot = f.split('.')[0]\n",
    "            domains = get_domains('pfam_domtbl/' + f)\n",
    "            pfam_dom.write('>' + uniprot + '\\n' + ' '.join(domains) + '\\n')\n",
    "            pfam_clan.write('>' + uniprot + '\\n' + ' '.join({(family_clan[dom] if family_clan[dom] != 'NA' else dom)\n",
    "                                                             for dom in domains}) + '\\n')"
   ]
  },
  {
   "cell_type": "code",
   "execution_count": 9,
   "metadata": {
    "collapsed": false
   },
   "outputs": [
    {
     "name": "stdout",
     "output_type": "stream",
     "text": [
      "97\n",
      "['6PGD_C', 'ACDC', 'AFT1_OSA', 'ANK', 'ARID', 'AXH', 'BAF1_ABF1', 'BASIC', 'BTD', 'BZIP', 'C2H2-ZF', 'CASP_C', 'CAUDAL_ACT', 'CHEY', 'CMYB_C', 'CTNNB1_BINDING', 'CUPIN', 'DLL_N', 'DUF1752', 'DUF2028', 'DUF3432', 'DUF3446', 'DUF3454', 'DUF3528', 'DUF4074', 'E-SET', 'EGF', 'ELF-1_N', 'ENGRAIL_1_C_SIG', 'ETS_PEA3_N', 'FORK_HEAD', 'FORK_HEAD_N', 'FUNGAL_TRANS', 'GABP-ALPHA', 'GAL4_DIMER', 'GATA-N', 'GCR1_C', 'HAIRY_ORANGE', 'HIS-ME_FINGER', 'HLH', 'HMG-BOX', 'HNF-1A_C', 'HNF-1B_C', 'HNF-1_N', 'HNF_C', 'HORMONE_RECEP', 'HOX9_ACT', 'HOXA13_N', 'HTH', 'IRF', 'JMJN', 'JUN', 'KILA-N', 'KRAB', 'LAG1-DNABIND', 'LIM', 'LMSTEN', 'MAF_N', 'MAML-1', 'MBD-LIKE', 'NADP_ROSSMANN', 'NEURO_BHLH', 'NOD', 'NODP', 'NOTCH', 'NUC_RECEP-AF1', 'OAR', 'P53-LIKE', 'PAP1', 'PAS_FOLD', 'PAX7', 'PBC', 'PKID', 'POZ', 'RAP1_C', 'RFX1_TRANS_ACT', 'SAM', 'SAND', 'SCAN', 'SMAD-FHA', 'SOXP', 'SOX_C_TAD', 'SOX_N', 'SP100', 'SRF-TF', 'STB3', 'STE', 'TBP-LIKE', 'TEA', 'TF_AP-2', 'TF_OTX', 'TRF', 'VHR1', 'WRKY-GCM1', 'ZF-C4', 'ZN_BETA_RIBBON', 'ZN_CLUS']\n"
     ]
    }
   ],
   "source": [
    "all_clans = set()\n",
    "for rec in fasta_iter('pfam.clan'):\n",
    "    all_clans |= set(rec[1].split())\n",
    "print(len(all_clans))\n",
    "print(sorted(all_clans))"
   ]
  },
  {
   "cell_type": "code",
   "execution_count": 10,
   "metadata": {
    "collapsed": false
   },
   "outputs": [
    {
     "name": "stderr",
     "output_type": "stream",
     "text": [
      "/usr/lib/python2.7/dist-packages/scipy/spatial/distance.py:287: RuntimeWarning: invalid value encountered in double_scalars\n",
      "  dist = 1.0 - np.dot(u, v) / (norm(u) * norm(v))\n"
     ]
    }
   ],
   "source": [
    "n_clans = len(all_clans)\n",
    "clan_idx = {clan: i for (i, clan) in enumerate(sorted(all_clans))}\n",
    "\n",
    "import numpy as np\n",
    "from scipy.spatial.distance import cosine, euclidean, hamming\n",
    "\n",
    "with open('pfam.clan.vs', 'w') as clan_vs:\n",
    "\n",
    "    for seq1 in fasta_iter('pfam.clan'):\n",
    "        u = np.zeros(n_clans)\n",
    "        for c in seq1[1].split():\n",
    "            u[clan_idx[c]] = 1\n",
    "\n",
    "        for seq2 in fasta_iter('pfam.clan'):\n",
    "            v = np.zeros(n_clans)\n",
    "            for c in seq2[1].split():\n",
    "                v[clan_idx[c]] = 1\n",
    "\n",
    "            clan_vs.write('%s\\t%s\\t%g\\t%g\\t%g\\n' % (seq1[0], seq2[0],\n",
    "                                                    cosine(u, v), euclidean(u, v), hamming(u, v)))"
   ]
  },
  {
   "cell_type": "code",
   "execution_count": 13,
   "metadata": {
    "collapsed": false
   },
   "outputs": [
    {
     "name": "stdout",
     "output_type": "stream",
     "text": [
      "A1A546\tA1A546\t0\t0\t0\r\n",
      "A1A546\tA5AA25\tnan\t1\t0.0103093\r\n",
      "A1A546\tA7RI36\t1\t1.41421\t0.0206186\r\n",
      "A1A546\tB3RL96\t1\t1.41421\t0.0206186\r\n",
      "A1A546\tC0H5G5\t1\t1.41421\t0.0206186\r\n",
      "A1A546\tC0LRF2\t0\t0\t0\r\n",
      "A1A546\tC6KSY0\t1\t1.41421\t0.0206186\r\n",
      "A1A546\tD5GGF2\t1\t1.73205\t0.0309278\r\n",
      "A1A546\tF9WW92\t1\t1.73205\t0.0309278\r\n",
      "A1A546\tO08580\t1\t1.73205\t0.0309278\r\n"
     ]
    }
   ],
   "source": [
    "!head pfam.clan.vs"
   ]
  },
  {
   "cell_type": "code",
   "execution_count": null,
   "metadata": {
    "collapsed": false
   },
   "outputs": [],
   "source": []
  }
 ],
 "metadata": {
  "kernelspec": {
   "display_name": "Python 2",
   "language": "python",
   "name": "python2"
  },
  "language_info": {
   "codemirror_mode": {
    "name": "ipython",
    "version": 2
   },
   "file_extension": ".py",
   "mimetype": "text/x-python",
   "name": "python",
   "nbconvert_exporter": "python",
   "pygments_lexer": "ipython2",
   "version": "2.7.6"
  }
 },
 "nbformat": 4,
 "nbformat_minor": 0
}
