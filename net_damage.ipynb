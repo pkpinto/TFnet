{
 "cells": [
  {
   "cell_type": "code",
   "execution_count": 1,
   "metadata": {
    "collapsed": false
   },
   "outputs": [],
   "source": [
    "from uniprobe_data import *\n",
    "from sqlalchemy import func\n",
    "from sqlalchemy import distinct"
   ]
  },
  {
   "cell_type": "code",
   "execution_count": 2,
   "metadata": {
    "collapsed": false
   },
   "outputs": [],
   "source": [
    "import numpy as np\n",
    "import networkx as nx"
   ]
  },
  {
   "cell_type": "code",
   "execution_count": 3,
   "metadata": {
    "collapsed": true
   },
   "outputs": [],
   "source": [
    "%matplotlib inline\n",
    "import matplotlib as mpl\n",
    "import matplotlib.pyplot as plt\n",
    "plt.style.use('ggstyle')"
   ]
  },
  {
   "cell_type": "code",
   "execution_count": 4,
   "metadata": {
    "collapsed": true
   },
   "outputs": [],
   "source": [
    "def fasta_iter(fastafile):\n",
    "    \"\"\"\n",
    "    Iterator of the records present in a .fasta file. Each record is yielded as\n",
    "    a tuple containg the title line (without '>') and the sequence itself.\n",
    "    \"\"\"\n",
    "    on_open_record = False\n",
    "    with open(fastafile, 'r') as fasta:\n",
    "        for line in fasta:\n",
    "            line = line.strip()\n",
    "            if len(line) == 0:\n",
    "                continue\n",
    "            elif line[0] == '#':\n",
    "                continue\n",
    "            elif line[0] == '>':\n",
    "                # close old record\n",
    "                if on_open_record:\n",
    "                    yield title, sequence.upper()\n",
    "                # new record\n",
    "                title = line[1:].rstrip()\n",
    "                sequence = ''\n",
    "                on_open_record = True\n",
    "            else:\n",
    "                sequence += line.rstrip()\n",
    "    if on_open_record:\n",
    "        yield title, sequence.upper()"
   ]
  },
  {
   "cell_type": "code",
   "execution_count": 5,
   "metadata": {
    "collapsed": false
   },
   "outputs": [
    {
     "name": "stdout",
     "output_type": "stream",
     "text": [
      "27211\n"
     ]
    }
   ],
   "source": [
    "g = nx.read_gpickle('graphs/uniprot.escore0.35.pickle.bz2')\n",
    "print(len(g))\n",
    "\n",
    "seq_deg = {node: len(g.node[node]['gene_id']) for node in g}"
   ]
  },
  {
   "cell_type": "code",
   "execution_count": 13,
   "metadata": {
    "collapsed": false
   },
   "outputs": [],
   "source": [
    "deg_ordered = [k for (k, v) in sorted(seq_deg.items(), key=lambda v: v[1], reverse=True)]"
   ]
  },
  {
   "cell_type": "code",
   "execution_count": 7,
   "metadata": {
    "collapsed": true
   },
   "outputs": [],
   "source": [
    "import numpy as np\n",
    "\n",
    "def similarity(g, h):\n",
    "    \"\"\"\n",
    "    Returns three similarity measures (the Jaccard index [1], the cosine similarity [2] \n",
    "    and the min similarity [3]) for two sets g and h.\n",
    "    \n",
    "    [1] P. Jaccard, Bulletin de la Société Vaudoise des Sciences Naturelles 37, 547 (1901).\n",
    "    [2] Salton, Automatic Text Processing: The Transformation, Analysis, and Retrieval of \n",
    "        Information by Computer (Addison-Wesley, Reading, MA, 1989).\n",
    "    [3] E. Ravasz, A. L. Somera, D. A. Mongru, Z. N. Oltvai, and \n",
    "        A.-L. Barabási, Science 297, 1553 (2002).\n",
    "    \"\"\"\n",
    "\n",
    "    n = 1.0 * len(g & h)\n",
    "    u = 1.0 * len(g | h)\n",
    "    lg, lh = len(g), len(h)\n",
    "#     return (1.0 if (lg == 0 and lh == 0) else (n / u if u != 0.0 else np.nan),\n",
    "#             n / np.sqrt(lg * lh) if (lg != 0 and lh != 0) else np.nan,\n",
    "#             n / np.min([lg, lh]) if np.min([lg, lh]) != 0 else np.nan)\n",
    "    return 0.0 if (lg == 0 and lh == 0) else (n / u if u != 0.0 else np.nan)"
   ]
  },
  {
   "cell_type": "code",
   "execution_count": 8,
   "metadata": {
    "collapsed": true
   },
   "outputs": [],
   "source": [
    "import networkx as nx\n",
    "\n",
    "def net_similarity(g, h):\n",
    "    \"\"\"\n",
    "    \"\"\"\n",
    "    return similarity(set(g.nodes()), set(h.nodes()))"
   ]
  },
  {
   "cell_type": "code",
   "execution_count": 9,
   "metadata": {
    "collapsed": false
   },
   "outputs": [],
   "source": [
    "uniprot_idx = {rec[0].split('|')[1]: i for i, rec in enumerate(fasta_iter('uniprot_seq.fasta'))}\n",
    "idx_uniprot = {i: rec[0].split('|')[1] for i, rec in enumerate(fasta_iter('uniprot_seq.fasta'))}\n",
    "l = len(uniprot_idx)"
   ]
  },
  {
   "cell_type": "markdown",
   "metadata": {},
   "source": [
    "## Ordered removal"
   ]
  },
  {
   "cell_type": "code",
   "execution_count": 14,
   "metadata": {
    "collapsed": false
   },
   "outputs": [],
   "source": [
    "bind_set = dict()\n",
    "for gene_data in session.query(GeneData):\n",
    "    bind_set[gene_data.uniprot] =\\\n",
    "        set(nx.read_gpickle('graphs/' + str(gene_data.gene_info.genes[0].gene_id) + '.escore0.35.pickle.bz2').nodes())"
   ]
  },
  {
   "cell_type": "code",
   "execution_count": 15,
   "metadata": {
    "collapsed": true
   },
   "outputs": [],
   "source": [
    "idxs = [set(deg_ordered[(i - 1) * 1000:i * 1000 - 1]) for i in range(1, 27)]"
   ]
  },
  {
   "cell_type": "code",
   "execution_count": 16,
   "metadata": {
    "collapsed": true
   },
   "outputs": [],
   "source": [
    "total_inc = list()\n",
    "\n",
    "for i in range(len(idxs)):\n",
    "    \n",
    "    jaccard = np.zeros(l * l).reshape(l, l)\n",
    "    for gd1 in session.query(GeneData):\n",
    "        for gd2 in session.query(GeneData):\n",
    "            x = similarity(bind_set[gd1.uniprot], bind_set[gd2.uniprot])\n",
    "            jaccard[uniprot_idx[gd1.uniprot], uniprot_idx[gd2.uniprot]] = 1.0 - x\n",
    "\n",
    "    total_inc.append(jaccard.sum())\n",
    "\n",
    "    for uniprot in bind_set:\n",
    "        bind_set[uniprot] -= idxs[i]"
   ]
  },
  {
   "cell_type": "markdown",
   "metadata": {},
   "source": [
    "## Shuffled removal"
   ]
  },
  {
   "cell_type": "code",
   "execution_count": 17,
   "metadata": {
    "collapsed": false
   },
   "outputs": [],
   "source": [
    "bind_set = dict()\n",
    "for gene_data in session.query(GeneData):\n",
    "    bind_set[gene_data.uniprot] =\\\n",
    "        set(nx.read_gpickle('graphs/' + str(gene_data.gene_info.genes[0].gene_id) + '.escore0.35.pickle.bz2').nodes())"
   ]
  },
  {
   "cell_type": "code",
   "execution_count": 18,
   "metadata": {
    "collapsed": false
   },
   "outputs": [],
   "source": [
    "import random\n",
    "\n",
    "deg_shuffled = deg_ordered[:]\n",
    "random.shuffle(deg_shuffled)\n",
    "idxs = [set(deg_shuffled[(i - 1) * 1000:i * 1000 - 1]) for i in range(1, 27)]"
   ]
  },
  {
   "cell_type": "code",
   "execution_count": 19,
   "metadata": {
    "collapsed": false
   },
   "outputs": [],
   "source": [
    "total_shuffled = list()\n",
    "\n",
    "for i in range(len(idxs)):\n",
    "    \n",
    "    jaccard = np.zeros(l * l).reshape(l, l)\n",
    "    for gd1 in session.query(GeneData):\n",
    "        for gd2 in session.query(GeneData):\n",
    "            x = similarity(bind_set[gd1.uniprot], bind_set[gd2.uniprot])\n",
    "            jaccard[uniprot_idx[gd1.uniprot], uniprot_idx[gd2.uniprot]] = 1.0 - x\n",
    "\n",
    "    total_shuffled.append(jaccard.sum())\n",
    "\n",
    "    for uniprot in bind_set:\n",
    "        bind_set[uniprot] -= idxs[i]"
   ]
  },
  {
   "cell_type": "code",
   "execution_count": 22,
   "metadata": {
    "collapsed": false
   },
   "outputs": [
    {
     "data": {
      "text/plain": [
       "[<matplotlib.lines.Line2D at 0x7f40239fc750>]"
      ]
     },
     "execution_count": 22,
     "metadata": {},
     "output_type": "execute_result"
    },
    {
     "data": {
      "image/png": "[encoded data removed]",
      "text/plain": [
       "<matplotlib.figure.Figure at 0x7f402ade2710>"
      ]
     },
     "metadata": {},
     "output_type": "display_data"
    }
   ],
   "source": [
    "plt.plot(np.array(total_inc) / (l*l))\n",
    "plt.plot(np.array(total_dec) / (l*l))\n",
    "plt.plot(np.array(total_shuffled) / (l*l))"
   ]
  },
  {
   "cell_type": "code",
   "execution_count": null,
   "metadata": {
    "collapsed": true
   },
   "outputs": [],
   "source": []
  }
 ],
 "metadata": {
  "kernelspec": {
   "display_name": "Python 2",
   "language": "python",
   "name": "python2"
  },
  "language_info": {
   "codemirror_mode": {
    "name": "ipython",
    "version": 2
   },
   "file_extension": ".py",
   "mimetype": "text/x-python",
   "name": "python",
   "nbconvert_exporter": "python",
   "pygments_lexer": "ipython2",
   "version": "2.7.6"
  }
 },
 "nbformat": 4,
 "nbformat_minor": 0
}
